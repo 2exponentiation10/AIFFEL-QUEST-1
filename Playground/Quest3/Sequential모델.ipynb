{
 "cells": [
  {
   "cell_type": "markdown",
   "id": "72f46d51",
   "metadata": {},
   "source": [
    "# Sequential모델"
   ]
  },
  {
   "cell_type": "code",
   "execution_count": 16,
   "id": "56c612e7",
   "metadata": {},
   "outputs": [],
   "source": [
    "from tensorflow import keras\n",
    "from tensorflow.keras import layers\n",
    "\n",
    "model = keras.Sequential(name=\"hi\")\n",
    "model.add(keras.Input(shape=(5,)))#가중치생성\n",
    "model.add(layers.Dense(64, activation = \"relu\", name =\"first_layer\"))\n",
    "model.add(layers.Dense(10, activation = \"softmax\", name = \"last_layer\"))"
   ]
  },
  {
   "cell_type": "code",
   "execution_count": 17,
   "id": "18973289",
   "metadata": {},
   "outputs": [
    {
     "name": "stdout",
     "output_type": "stream",
     "text": [
      "Model: \"hi\"\n",
      "_________________________________________________________________\n",
      "Layer (type)                 Output Shape              Param #   \n",
      "=================================================================\n",
      "first_layer (Dense)          (None, 64)                384       \n",
      "_________________________________________________________________\n",
      "last_layer (Dense)           (None, 10)                650       \n",
      "=================================================================\n",
      "Total params: 1,034\n",
      "Trainable params: 1,034\n",
      "Non-trainable params: 0\n",
      "_________________________________________________________________\n"
     ]
    }
   ],
   "source": [
    "\n",
    "#모델 요양\n",
    "model.summary()"
   ]
  },
  {
   "cell_type": "code",
   "execution_count": null,
   "id": "624a303b",
   "metadata": {},
   "outputs": [],
   "source": []
  }
 ],
 "metadata": {
  "kernelspec": {
   "display_name": "Python 3 (ipykernel)",
   "language": "python",
   "name": "python3"
  },
  "language_info": {
   "codemirror_mode": {
    "name": "ipython",
    "version": 3
   },
   "file_extension": ".py",
   "mimetype": "text/x-python",
   "name": "python",
   "nbconvert_exporter": "python",
   "pygments_lexer": "ipython3",
   "version": "3.9.7"
  }
 },
 "nbformat": 4,
 "nbformat_minor": 5
}
