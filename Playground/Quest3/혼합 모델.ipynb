{
 "cells": [
  {
   "cell_type": "code",
   "execution_count": 1,
   "id": "045d9990",
   "metadata": {},
   "outputs": [],
   "source": [
    "from tensorflow import keras\n",
    "from tensorflow.keras import layers\n",
    "\n",
    "import numpy as np\n",
    "vocabulary_size = 10000\n",
    "num_tags = 100\n",
    "num_departments = 4\n",
    "\n",
    "num_samples = 1280\n",
    "\n",
    "title_data = np.random.randint(0, 2, size=(num_samples, vocabulary_size))\n",
    "text_body_data = np.random.randint(0, 2, size=(num_samples, vocabulary_size))\n",
    "tags_data = np.random.randint(0, 2, size=(num_samples, num_tags))\n",
    "\n",
    "priority_data = np.random.random(size=(num_samples, 1))\n",
    "department_data = np.random.randint(0, 2, size=(num_samples, num_departments))"
   ]
  },
  {
   "cell_type": "markdown",
   "id": "605819bc",
   "metadata": {},
   "source": [
    "### 서브클래싱한 모델을 포함하는 함수형 모델"
   ]
  },
  {
   "cell_type": "code",
   "execution_count": 2,
   "id": "9fdc3ede",
   "metadata": {},
   "outputs": [],
   "source": [
    "class Classifier(keras.Model):\n",
    "\n",
    "    def __init__(self, num_classes=2):\n",
    "        super().__init__()\n",
    "        if num_classes == 2:\n",
    "            num_units = 1\n",
    "            activation = \"sigmoid\"\n",
    "        else:\n",
    "            num_units = num_classes\n",
    "            activation = \"softmax\"\n",
    "        self.dense = layers.Dense(num_units, activation=activation)\n",
    "\n",
    "    def call(self, inputs):\n",
    "        return self.dense(inputs)\n",
    "\n",
    "inputs = keras.Input(shape=(3,))\n",
    "features = layers.Dense(64, activation=\"relu\")(inputs)\n",
    "outputs = Classifier(num_classes=10)(features) #output 서브클래싱\n",
    "model = keras.Model(inputs=inputs, outputs=outputs)"
   ]
  },
  {
   "cell_type": "markdown",
   "id": "4b758d7d",
   "metadata": {},
   "source": [
    "### 함수형 모델을 포함하는 서브클래싱 모델"
   ]
  },
  {
   "cell_type": "code",
   "execution_count": 3,
   "id": "8b736b82",
   "metadata": {},
   "outputs": [],
   "source": [
    "inputs = keras.Input(shape=(64,))#함수형\n",
    "outputs = layers.Dense(1, activation=\"sigmoid\")(inputs) #함수형\n",
    "binary_classifier = keras.Model(inputs=inputs, outputs=outputs) \n",
    "\n",
    "class MyModel(keras.Model): #서브클래싱\n",
    "\n",
    "    def __init__(self, num_classes=2):\n",
    "        super().__init__()\n",
    "        self.dense = layers.Dense(64, activation=\"relu\")\n",
    "        self.classifier = binary_classifier\n",
    "\n",
    "    def call(self, inputs):\n",
    "        features = self.dense(inputs)\n",
    "        return self.classifier(features)\n",
    "\n",
    "model = MyModel()"
   ]
  },
  {
   "cell_type": "markdown",
   "id": "afab9566",
   "metadata": {},
   "source": [
    "# 내장된 훈련 루프와 평가 루프 사용하기"
   ]
  },
  {
   "cell_type": "markdown",
   "id": "5dd7268b",
   "metadata": {},
   "source": [
    "### 표준 워크플로: compile(), fit(), evaluate(), predict()"
   ]
  },
  {
   "cell_type": "code",
   "execution_count": 4,
   "id": "4507de33",
   "metadata": {},
   "outputs": [
    {
     "name": "stdout",
     "output_type": "stream",
     "text": [
      "Epoch 1/3\n",
      "1563/1563 [==============================] - 12s 7ms/step - loss: 0.2942 - accuracy: 0.9129 - val_loss: 0.1487 - val_accuracy: 0.9577\n",
      "Epoch 2/3\n",
      "1563/1563 [==============================] - 10s 7ms/step - loss: 0.1639 - accuracy: 0.9542 - val_loss: 0.1332 - val_accuracy: 0.9631\n",
      "Epoch 3/3\n",
      "1563/1563 [==============================] - 10s 7ms/step - loss: 0.1391 - accuracy: 0.9627 - val_loss: 0.1138 - val_accuracy: 0.9707\n",
      "313/313 [==============================] - 1s 2ms/step - loss: 0.1127 - accuracy: 0.9722\n"
     ]
    }
   ],
   "source": [
    "from tensorflow.keras.datasets import mnist\n",
    "\n",
    "def get_mnist_model():\n",
    "    inputs = keras.Input(shape=(28 * 28,))\n",
    "    features = layers.Dense(512, activation=\"relu\")(inputs)\n",
    "    features = layers.Dropout(0.5)(features)\n",
    "    outputs = layers.Dense(10, activation=\"softmax\")(features)\n",
    "    model = keras.Model(inputs, outputs)\n",
    "    return model\n",
    "\n",
    "(images, labels), (test_images, test_labels) = mnist.load_data()\n",
    "images = images.reshape((60000, 28 * 28)).astype(\"float32\") / 255\n",
    "test_images = test_images.reshape((10000, 28 * 28)).astype(\"float32\") / 255\n",
    "train_images, val_images = images[10000:], images[:10000]\n",
    "train_labels, val_labels = labels[10000:], labels[:10000]\n",
    "\n",
    "model = get_mnist_model()\n",
    "model.compile(optimizer=\"rmsprop\",\n",
    "              loss=\"sparse_categorical_crossentropy\",\n",
    "              metrics=[\"accuracy\"])\n",
    "model.fit(train_images, train_labels,\n",
    "          epochs=3,\n",
    "          validation_data=(val_images, val_labels))\n",
    "test_metrics = model.evaluate(test_images, test_labels)\n",
    "predictions = model.predict(test_images)"
   ]
  },
  {
   "cell_type": "markdown",
   "id": "77efdd84",
   "metadata": {},
   "source": [
    "# 사용자 정의 지표 구하기"
   ]
  },
  {
   "cell_type": "code",
   "execution_count": 5,
   "id": "620b74c0",
   "metadata": {},
   "outputs": [],
   "source": [
    "import tensorflow as tf\n",
    "class RootMeanSquaredError(keras.metrics.Metric):\n",
    "\n",
    "    def __init__(self, name=\"rmse\", **kwargs):\n",
    "        super().__init__(name=name, **kwargs)\n",
    "        self.mse_sum = self.add_weight(name=\"mse_sum\", initializer=\"zeros\")\n",
    "        self.total_samples = self.add_weight(\n",
    "            name=\"total_samples\", initializer=\"zeros\", dtype=\"int32\")#샘플 수 저장\n",
    "\n",
    "    def update_state(self, y_true, y_pred, sample_weight=None):\n",
    "        y_true = tf.one_hot(y_true, depth=tf.shape(y_pred)[1]) #실제 레이블 원핫 인코딩\n",
    "        mse = tf.reduce_sum(tf.square(y_true - y_pred)) #차이 제곱 mse \n",
    "        self.mse_sum.assign_add(mse) # MSE 값을 mse_sum에 누적\n",
    "        num_samples = tf.shape(y_pred)[0]\n",
    "        self.total_samples.assign_add(num_samples)\n",
    "\n",
    "    def result(self):\n",
    "        #전체 샘플에 대한 평균 제곱 오차(MSE)를 계산하고, 그 제곱근을 반환\n",
    "        return tf.sqrt(self.mse_sum / tf.cast(self.total_samples, tf.float32))\n",
    "\n",
    "    def reset_state(self):\n",
    "        self.mse_sum.assign(0.)\n",
    "        self.total_samples.assign(0)"
   ]
  },
  {
   "cell_type": "code",
   "execution_count": 6,
   "id": "87a98cf0",
   "metadata": {},
   "outputs": [
    {
     "name": "stdout",
     "output_type": "stream",
     "text": [
      "Epoch 1/3\n",
      "1563/1563 [==============================] - 11s 7ms/step - loss: 0.2989 - accuracy: 0.9124 - rmse: 7.1818 - val_loss: 0.1449 - val_accuracy: 0.9595 - val_rmse: 7.3624\n",
      "Epoch 2/3\n",
      "1563/1563 [==============================] - 10s 7ms/step - loss: 0.1661 - accuracy: 0.9520 - rmse: 7.3537 - val_loss: 0.1228 - val_accuracy: 0.9672 - val_rmse: 7.4004\n",
      "Epoch 3/3\n",
      "1563/1563 [==============================] - 10s 7ms/step - loss: 0.1367 - accuracy: 0.9635 - rmse: 7.3867 - val_loss: 0.1137 - val_accuracy: 0.9701 - val_rmse: 7.4224\n",
      "313/313 [==============================] - 1s 2ms/step - loss: 0.1032 - accuracy: 0.9731 - rmse: 7.4374\n"
     ]
    }
   ],
   "source": [
    "\n",
    "model = get_mnist_model()\n",
    "model.compile(optimizer=\"rmsprop\",\n",
    "              loss=\"sparse_categorical_crossentropy\",\n",
    "              metrics=[\"accuracy\", RootMeanSquaredError()])\n",
    "model.fit(train_images, train_labels,\n",
    "          epochs=3,\n",
    "          validation_data=(val_images, val_labels))\n",
    "test_metrics = model.evaluate(test_images, test_labels)"
   ]
  },
  {
   "cell_type": "markdown",
   "id": "18d55ba2",
   "metadata": {},
   "source": [
    "# 콜백 사용하기"
   ]
  },
  {
   "cell_type": "markdown",
   "id": "06cac1ad",
   "metadata": {},
   "source": [
    "### EarlyStopping 콜백과 ModelCheckpoint 콜백"
   ]
  },
  {
   "cell_type": "markdown",
   "id": "4793ae3f",
   "metadata": {},
   "source": [
    "**fit() 메서드에서 callbacks 매개변수 사용하기**"
   ]
  },
  {
   "cell_type": "code",
   "execution_count": 8,
   "id": "50499344",
   "metadata": {},
   "outputs": [
    {
     "name": "stdout",
     "output_type": "stream",
     "text": [
      "Epoch 1/10\n",
      "1563/1563 [==============================] - 11s 7ms/step - loss: 0.2965 - accuracy: 0.9120 - val_loss: 0.1537 - val_accuracy: 0.9550\n",
      "Epoch 2/10\n",
      "1563/1563 [==============================] - 10s 7ms/step - loss: 0.1657 - accuracy: 0.9537 - val_loss: 0.1241 - val_accuracy: 0.9659\n",
      "Epoch 3/10\n",
      "1563/1563 [==============================] - 10s 6ms/step - loss: 0.1438 - accuracy: 0.9622 - val_loss: 0.1211 - val_accuracy: 0.9697\n",
      "Epoch 4/10\n",
      "1563/1563 [==============================] - 10s 7ms/step - loss: 0.1279 - accuracy: 0.9670 - val_loss: 0.1224 - val_accuracy: 0.9710\n",
      "Epoch 5/10\n",
      "1563/1563 [==============================] - 10s 6ms/step - loss: 0.1189 - accuracy: 0.9710 - val_loss: 0.1084 - val_accuracy: 0.9737\n",
      "Epoch 6/10\n",
      "1563/1563 [==============================] - 10s 6ms/step - loss: 0.1106 - accuracy: 0.9726 - val_loss: 0.1120 - val_accuracy: 0.9763\n",
      "Epoch 7/10\n",
      "1563/1563 [==============================] - 10s 7ms/step - loss: 0.1061 - accuracy: 0.9754 - val_loss: 0.1109 - val_accuracy: 0.9778\n",
      "Epoch 8/10\n",
      "1563/1563 [==============================] - 10s 6ms/step - loss: 0.1067 - accuracy: 0.9758 - val_loss: 0.1174 - val_accuracy: 0.9767\n",
      "Epoch 9/10\n",
      "1563/1563 [==============================] - 10s 6ms/step - loss: 0.0960 - accuracy: 0.9780 - val_loss: 0.1242 - val_accuracy: 0.9786\n",
      "Epoch 10/10\n",
      "1563/1563 [==============================] - 10s 7ms/step - loss: 0.0948 - accuracy: 0.9788 - val_loss: 0.1208 - val_accuracy: 0.9772\n"
     ]
    },
    {
     "data": {
      "text/plain": [
       "<keras.callbacks.History at 0x7b8dbdcda8e0>"
      ]
     },
     "execution_count": 8,
     "metadata": {},
     "output_type": "execute_result"
    }
   ],
   "source": [
    "callbacks_list = [\n",
    "    keras.callbacks.EarlyStopping( #성능향상이 멈추면 중지\n",
    "        monitor=\"val_accuracy\",#정확도 모니터링\n",
    "        patience=2,#2번 epoch기준\n",
    "    ),\n",
    "    keras.callbacks.ModelCheckpoint(#epoch끝에서 현재 가중치 저장\n",
    "        filepath=\"checkpoint_path.h5\",#파일 저장경로\n",
    "        monitor=\"val_loss\",\n",
    "        save_best_only=True,#모델 성능이 좋아지지 않으면 덮어쓰지 않음\n",
    "    )\n",
    "]\n",
    "model = get_mnist_model()\n",
    "model.compile(optimizer=\"rmsprop\",\n",
    "              loss=\"sparse_categorical_crossentropy\",\n",
    "              metrics=[\"accuracy\"])#정확도 모델 지표\n",
    "model.fit(train_images, train_labels,\n",
    "          epochs=10,\n",
    "          callbacks=callbacks_list,\n",
    "          validation_data=(val_images, val_labels))"
   ]
  },
  {
   "cell_type": "code",
   "execution_count": 9,
   "id": "a6cf0b1e",
   "metadata": {},
   "outputs": [],
   "source": [
    "model = keras.models.load_model(\"checkpoint_path.h5\") #모델 저장"
   ]
  },
  {
   "cell_type": "markdown",
   "id": "e630f97c",
   "metadata": {},
   "source": [
    "### 사용자 정의 콜백 만들기"
   ]
  },
  {
   "cell_type": "markdown",
   "id": "d014d7d4",
   "metadata": {},
   "source": [
    "**Callback 클래스를 상속하여 사용자 정의 콜백 만들기**"
   ]
  },
  {
   "cell_type": "code",
   "execution_count": 11,
   "id": "0ff1f552",
   "metadata": {},
   "outputs": [],
   "source": [
    "from matplotlib import pyplot as plt\n",
    "\n",
    "class LossHistory(keras.callbacks.Callback):\n",
    "    def on_train_begin(self, logs): #훈련이 시작할때\n",
    "        self.per_batch_losses = []\n",
    "\n",
    "    def on_batch_end(self, batch, logs):#배치처리 끝\n",
    "        self.per_batch_losses.append(logs.get(\"loss\"))\n",
    "\n",
    "    def on_epoch_end(self, epoch, logs):#에포크끝\n",
    "        plt.clf()\n",
    "        plt.plot(range(len(self.per_batch_losses)), self.per_batch_losses,\n",
    "                 label=\"Training loss for each batch\")\n",
    "        plt.xlabel(f\"Batch (epoch {epoch})\")\n",
    "        plt.ylabel(\"Loss\")\n",
    "        plt.legend()\n",
    "        plt.savefig(f\"plot_at_epoch_{epoch}\")\n",
    "        self.per_batch_losses = []"
   ]
  },
  {
   "cell_type": "code",
   "execution_count": 12,
   "id": "053eea58",
   "metadata": {},
   "outputs": [
    {
     "name": "stdout",
     "output_type": "stream",
     "text": [
      "Epoch 1/10\n",
      "1563/1563 [==============================] - 11s 7ms/step - loss: 0.2942 - accuracy: 0.9131 - val_loss: 0.1482 - val_accuracy: 0.9584\n",
      "Epoch 2/10\n",
      "1563/1563 [==============================] - 10s 7ms/step - loss: 0.1646 - accuracy: 0.9529 - val_loss: 0.1224 - val_accuracy: 0.9663\n",
      "Epoch 3/10\n",
      "1563/1563 [==============================] - 10s 7ms/step - loss: 0.1383 - accuracy: 0.9620 - val_loss: 0.1181 - val_accuracy: 0.9709\n",
      "Epoch 4/10\n",
      "1563/1563 [==============================] - 10s 7ms/step - loss: 0.1251 - accuracy: 0.9666 - val_loss: 0.1081 - val_accuracy: 0.9734\n",
      "Epoch 5/10\n",
      "1563/1563 [==============================] - 11s 7ms/step - loss: 0.1192 - accuracy: 0.9704 - val_loss: 0.1032 - val_accuracy: 0.9760\n",
      "Epoch 6/10\n",
      "1563/1563 [==============================] - 10s 7ms/step - loss: 0.1076 - accuracy: 0.9736 - val_loss: 0.1046 - val_accuracy: 0.9776\n",
      "Epoch 7/10\n",
      "1563/1563 [==============================] - 10s 7ms/step - loss: 0.1034 - accuracy: 0.9747 - val_loss: 0.1153 - val_accuracy: 0.9781\n",
      "Epoch 8/10\n",
      "1563/1563 [==============================] - 10s 7ms/step - loss: 0.0996 - accuracy: 0.9762 - val_loss: 0.1211 - val_accuracy: 0.9775\n",
      "Epoch 9/10\n",
      "1563/1563 [==============================] - 11s 7ms/step - loss: 0.0989 - accuracy: 0.9772 - val_loss: 0.1177 - val_accuracy: 0.9759\n",
      "Epoch 10/10\n",
      "1563/1563 [==============================] - 10s 7ms/step - loss: 0.0919 - accuracy: 0.9785 - val_loss: 0.1175 - val_accuracy: 0.9783\n"
     ]
    },
    {
     "data": {
      "text/plain": [
       "<keras.callbacks.History at 0x7b8dbe0c5a60>"
      ]
     },
     "execution_count": 12,
     "metadata": {},
     "output_type": "execute_result"
    },
    {
     "data": {
      "image/png": "[encoded data removed]",
      "text/plain": [
       "<Figure size 432x288 with 1 Axes>"
      ]
     },
     "metadata": {
      "needs_background": "light"
     },
     "output_type": "display_data"
    }
   ],
   "source": [
    "\n",
    "model = get_mnist_model()\n",
    "model.compile(optimizer=\"rmsprop\",\n",
    "              loss=\"sparse_categorical_crossentropy\",\n",
    "              metrics=[\"accuracy\"])\n",
    "model.fit(train_images, train_labels,\n",
    "          epochs=10,\n",
    "          callbacks=[LossHistory()],\n",
    "          validation_data=(val_images, val_labels))"
   ]
  },
  {
   "cell_type": "markdown",
   "id": "fd5f4918",
   "metadata": {},
   "source": [
    "### 텐서보드를 사용한 모니터링과 시각화"
   ]
  },
  {
   "cell_type": "code",
   "execution_count": 13,
   "id": "df983201",
   "metadata": {},
   "outputs": [
    {
     "name": "stdout",
     "output_type": "stream",
     "text": [
      "Epoch 1/10\n",
      "1563/1563 [==============================] - 11s 7ms/step - loss: 0.2912 - accuracy: 0.9141 - val_loss: 0.1444 - val_accuracy: 0.9589\n",
      "Epoch 2/10\n",
      "1563/1563 [==============================] - 10s 7ms/step - loss: 0.1615 - accuracy: 0.9545 - val_loss: 0.1162 - val_accuracy: 0.9679\n",
      "Epoch 3/10\n",
      "1563/1563 [==============================] - 10s 6ms/step - loss: 0.1355 - accuracy: 0.9628 - val_loss: 0.1131 - val_accuracy: 0.9696\n",
      "Epoch 4/10\n",
      "1563/1563 [==============================] - 10s 6ms/step - loss: 0.1227 - accuracy: 0.9681 - val_loss: 0.1169 - val_accuracy: 0.9727\n",
      "Epoch 5/10\n",
      "1563/1563 [==============================] - 10s 7ms/step - loss: 0.1149 - accuracy: 0.9715 - val_loss: 0.1122 - val_accuracy: 0.9755\n",
      "Epoch 6/10\n",
      "1563/1563 [==============================] - 10s 7ms/step - loss: 0.1105 - accuracy: 0.9735 - val_loss: 0.1099 - val_accuracy: 0.9774\n",
      "Epoch 7/10\n",
      "1563/1563 [==============================] - 10s 6ms/step - loss: 0.1042 - accuracy: 0.9754 - val_loss: 0.1150 - val_accuracy: 0.9754\n",
      "Epoch 8/10\n",
      "1563/1563 [==============================] - 10s 7ms/step - loss: 0.0949 - accuracy: 0.9770 - val_loss: 0.1131 - val_accuracy: 0.9798\n",
      "Epoch 9/10\n",
      "1563/1563 [==============================] - 10s 6ms/step - loss: 0.0969 - accuracy: 0.9781 - val_loss: 0.1147 - val_accuracy: 0.9786\n",
      "Epoch 10/10\n",
      "1563/1563 [==============================] - 10s 6ms/step - loss: 0.0929 - accuracy: 0.9786 - val_loss: 0.1159 - val_accuracy: 0.9788\n"
     ]
    },
    {
     "data": {
      "text/plain": [
       "<keras.callbacks.History at 0x7b8dac0f5a60>"
      ]
     },
     "execution_count": 13,
     "metadata": {},
     "output_type": "execute_result"
    }
   ],
   "source": [
    "model = get_mnist_model()\n",
    "model.compile(optimizer=\"rmsprop\",\n",
    "              loss=\"sparse_categorical_crossentropy\",\n",
    "              metrics=[\"accuracy\"])\n",
    "\n",
    "tensorboard = keras.callbacks.TensorBoard(\n",
    "    log_dir=\"./tb_logs\",\n",
    ")\n",
    "model.fit(train_images, train_labels,\n",
    "          epochs=10,\n",
    "          validation_data=(val_images, val_labels),\n",
    "          callbacks=[tensorboard])"
   ]
  },
  {
   "cell_type": "markdown",
   "id": "7a1ffc72",
   "metadata": {},
   "source": [
    "# 사용자 정의 훈련, 평가 루프 만들기"
   ]
  },
  {
   "cell_type": "markdown",
   "id": "60fea88b",
   "metadata": {},
   "source": [
    "### 측정 지표의 저수준 사용법"
   ]
  },
  {
   "cell_type": "code",
   "execution_count": 14,
   "id": "244db533",
   "metadata": {},
   "outputs": [
    {
     "name": "stdout",
     "output_type": "stream",
     "text": [
      "결과: 1.00\n"
     ]
    }
   ],
   "source": [
    "metric = keras.metrics.SparseCategoricalAccuracy()\n",
    "targets = [0, 1, 2]\n",
    "predictions = [[1, 0, 0], [0, 1, 0], [0, 0, 1]]\n",
    "metric.update_state(targets, predictions)\n",
    "current_result = metric.result()\n",
    "print(f\"결과: {current_result:.2f}\")"
   ]
  },
  {
   "cell_type": "code",
   "execution_count": 15,
   "id": "5d1d5e30",
   "metadata": {},
   "outputs": [
    {
     "name": "stdout",
     "output_type": "stream",
     "text": [
      "평균 지표: 2.00\n"
     ]
    }
   ],
   "source": [
    "\n",
    "values = [0, 1, 2, 3, 4]\n",
    "mean_tracker = keras.metrics.Mean()\n",
    "for value in values:\n",
    "    mean_tracker.update_state(value)\n",
    "print(f\"평균 지표: {mean_tracker.result():.2f}\")"
   ]
  },
  {
   "cell_type": "markdown",
   "id": "3d80bffa",
   "metadata": {},
   "source": [
    "### 완전한 훈련과 평가 루프"
   ]
  },
  {
   "cell_type": "markdown",
   "id": "d63920e6",
   "metadata": {},
   "source": [
    "**단계별 훈련 루프 작성하기: 훈련 스텝 함수**"
   ]
  },
  {
   "cell_type": "code",
   "execution_count": 22,
   "id": "cb06b008",
   "metadata": {},
   "outputs": [],
   "source": [
    "def get_mnist_model():\n",
    "    inputs = keras.Input(shape=(28 * 28,))  # 입력층: 28x28 픽셀 이미지를 784개의 숫자로 펼쳐서 받음\n",
    "    features = layers.Dense(512, activation=\"relu\")(inputs)  # 은닉층: 512개의 뉴런, ReLU 활성화 함수 사용\n",
    "    features = layers.Dropout(0.5)(features)  # 드롭아웃: 훈련 중에 50% 뉴런을 랜덤하게 꺼서 과적합 방지\n",
    "    outputs = layers.Dense(10, activation=\"softmax\")(features)  # 출력층: 10개의 뉴런, 각 숫자 클래스에 대한 확률 출력\n",
    "    model = keras.Model(inputs, outputs)  # 입력층과 출력층을 연결하여 모델 생성\n",
    "    return model\n",
    "\n",
    "\n",
    "# 2. MNIST 데이터 준비\n",
    "(images, labels), (test_images, test_labels) = mnist.load_data()  # 데이터셋 불러오기\n",
    "images = images.reshape((60000, 28 * 28)).astype(\"float32\") / 255  # 이미지 형태 변환 및 정규화\n",
    "test_images = test_images.reshape((10000, 28 * 28)).astype(\"float32\") / 255  # 테스트 이미지도 동일하게 처리\n",
    "train_images, val_images = images[10000:], images[:10000]  # 훈련 데이터와 검증 데이터 분리\n",
    "train_labels, val_labels = labels[10000:], labels[:10000]  # 레이블도 분리|"
   ]
  },
  {
   "cell_type": "code",
   "execution_count": 18,
   "id": "c371d15e",
   "metadata": {},
   "outputs": [],
   "source": [
    "model = get_mnist_model() #모델 가져옴\n",
    "\n",
    "loss_fn = keras.losses.SparseCategoricalCrossentropy() #손ㄴ실함수\n",
    "optimizer = keras.optimizers.RMSprop() #옵티마이저\n",
    "metrics = [keras.metrics.SparseCategoricalAccuracy()]#지표\n",
    "loss_tracking_metric = keras.metrics.Mean()#평균지표\n",
    "\n",
    "def train_step(inputs, targets):\n",
    "    with tf.GradientTape() as tape: #모델 예측 과정을 기록\n",
    "        predictions = model(inputs, training=True) #모델에게 inputs을 넣고 예측을 얻음\n",
    "        loss = loss_fn(targets, predictions) #손실계산\n",
    "    gradients = tape.gradient(loss, model.trainable_weights)#기울기계산\n",
    "    optimizer.apply_gradients(zip(gradients, model.trainable_weights))#가중치업데이트\n",
    "\n",
    "    logs = {} #평가결과 저장\n",
    "    for metric in metrics:\n",
    "        metric.update_state(targets, predictions) #평가지표 업데이트\n",
    "        logs[metric.name] = metric.result() #평가지표의이름과 결과를 딕셔러니레 저장\n",
    "\n",
    "    loss_tracking_metric.update_state(loss)#손실값을 추적하는 지표\n",
    "    logs[\"loss\"] = loss_tracking_metric.result()#현재까지 평균 손실값 저장\n",
    "    return logs"
   ]
  },
  {
   "cell_type": "markdown",
   "id": "6d02b7c6",
   "metadata": {},
   "source": [
    "**단계별 훈련 루프 작성하기: 지표 재설정**"
   ]
  },
  {
   "cell_type": "code",
   "execution_count": 19,
   "id": "6e1d9252",
   "metadata": {},
   "outputs": [],
   "source": [
    "def reset_metrics(): #평가지표 초기화\n",
    "    for metric in metrics:\n",
    "        metric.reset_state()#\n",
    "    loss_tracking_metric.reset_state() #지표초기화"
   ]
  },
  {
   "cell_type": "markdown",
   "id": "8fe64c1d",
   "metadata": {},
   "source": [
    "**단계별 훈련 루프 작성하기: 훈련 루프 자체**"
   ]
  },
  {
   "cell_type": "code",
   "execution_count": 21,
   "id": "67079e60",
   "metadata": {},
   "outputs": [
    {
     "name": "stdout",
     "output_type": "stream",
     "text": [
      "0번째 에포크 결과\n",
      "...sparse_categorical_accuracy: 0.9674\n",
      "...loss: 0.1238\n",
      "1번째 에포크 결과\n",
      "...sparse_categorical_accuracy: 0.9699\n",
      "...loss: 0.1192\n",
      "2번째 에포크 결과\n",
      "...sparse_categorical_accuracy: 0.9735\n",
      "...loss: 0.1113\n"
     ]
    }
   ],
   "source": [
    "training_dataset = tf.data.Dataset.from_tensor_slices((train_images, train_labels))\n",
    "training_dataset = training_dataset.batch(32)\n",
    "epochs = 3\n",
    "for epoch in range(epochs):\n",
    "    reset_metrics()\n",
    "    for inputs_batch, targets_batch in training_dataset:#배치학습\n",
    "        logs = train_step(inputs_batch, targets_batch)#각 배치에 대해 평가\n",
    "    print(f\"{epoch}번째 에포크 결과\")\n",
    "    for key, value in logs.items():\n",
    "        print(f\"...{key}: {value:.4f}\")"
   ]
  },
  {
   "cell_type": "markdown",
   "id": "b1930bce",
   "metadata": {},
   "source": [
    "### tf.function로 성능 높이기"
   ]
  },
  {
   "cell_type": "code",
   "execution_count": 23,
   "id": "9cc648e5",
   "metadata": {},
   "outputs": [
    {
     "name": "stdout",
     "output_type": "stream",
     "text": [
      "평가 결과:\n",
      "...val_sparse_categorical_accuracy: 0.9736\n",
      "...val_loss: 0.1209\n"
     ]
    }
   ],
   "source": [
    "@tf.function\n",
    "def test_step(inputs, targets):\n",
    "    predictions = model(inputs, training=False)\n",
    "    loss = loss_fn(targets, predictions)\n",
    "\n",
    "    logs = {}\n",
    "    for metric in metrics:\n",
    "        metric.update_state(targets, predictions)\n",
    "        logs[\"val_\" + metric.name] = metric.result()\n",
    "\n",
    "    loss_tracking_metric.update_state(loss)\n",
    "    logs[\"val_loss\"] = loss_tracking_metric.result()\n",
    "    return logs\n",
    "\n",
    "val_dataset = tf.data.Dataset.from_tensor_slices((val_images, val_labels))\n",
    "val_dataset = val_dataset.batch(32)\n",
    "reset_metrics()\n",
    "for inputs_batch, targets_batch in val_dataset:\n",
    "    logs = test_step(inputs_batch, targets_batch)\n",
    "print(\"평가 결과:\")\n",
    "for key, value in logs.items():\n",
    "    print(f\"...{key}: {value:.4f}\")"
   ]
  },
  {
   "cell_type": "markdown",
   "id": "7bac7170",
   "metadata": {},
   "source": [
    "###   fit() 메서드를 사용자 정의 훈련 루프로 활용하기"
   ]
  },
  {
   "cell_type": "markdown",
   "id": "4ba234d3",
   "metadata": {},
   "source": [
    "**fit()이 사용할 사용자 정의 훈련 스텝 구현하기**"
   ]
  },
  {
   "cell_type": "code",
   "execution_count": 24,
   "id": "e7c1fd6e",
   "metadata": {},
   "outputs": [],
   "source": [
    "\n",
    "loss_fn = keras.losses.SparseCategoricalCrossentropy()\n",
    "loss_tracker = keras.metrics.Mean(name=\"loss\")\n",
    "\n",
    "class CustomModel(keras.Model):\n",
    "    def train_step(self, data):\n",
    "        inputs, targets = data\n",
    "        with tf.GradientTape() as tape:\n",
    "            predictions = self(inputs, training=True)\n",
    "            loss = loss_fn(targets, predictions)\n",
    "        gradients = tape.gradient(loss, self.trainable_weights)\n",
    "        self.optimizer.apply_gradients(zip(gradients, self.trainable_weights))\n",
    "\n",
    "        loss_tracker.update_state(loss)\n",
    "        return {\"loss\": loss_tracker.result()}\n",
    "\n",
    "    @property\n",
    "    def metrics(self):\n",
    "        return [loss_tracker]"
   ]
  },
  {
   "cell_type": "code",
   "execution_count": 25,
   "id": "789a79d6",
   "metadata": {},
   "outputs": [
    {
     "name": "stdout",
     "output_type": "stream",
     "text": [
      "Epoch 1/3\n",
      "1563/1563 [==============================] - 10s 6ms/step - loss: 0.2936\n",
      "Epoch 2/3\n",
      "1563/1563 [==============================] - 9s 6ms/step - loss: 0.1652\n",
      "Epoch 3/3\n",
      "1563/1563 [==============================] - 9s 6ms/step - loss: 0.1376\n"
     ]
    },
    {
     "data": {
      "text/plain": [
       "<keras.callbacks.History at 0x7b8dac0e6760>"
      ]
     },
     "execution_count": 25,
     "metadata": {},
     "output_type": "execute_result"
    }
   ],
   "source": [
    "inputs = keras.Input(shape=(28 * 28,))\n",
    "features = layers.Dense(512, activation=\"relu\")(inputs)\n",
    "features = layers.Dropout(0.5)(features)\n",
    "outputs = layers.Dense(10, activation=\"softmax\")(features)\n",
    "model = CustomModel(inputs, outputs)\n",
    "\n",
    "model.compile(optimizer=keras.optimizers.RMSprop())\n",
    "model.fit(train_images, train_labels, epochs=3)"
   ]
  },
  {
   "cell_type": "code",
   "execution_count": 26,
   "id": "53c66602",
   "metadata": {},
   "outputs": [],
   "source": [
    "class CustomModel(keras.Model):\n",
    "    def train_step(self, data):\n",
    "        inputs, targets = data\n",
    "        with tf.GradientTape() as tape:\n",
    "            predictions = self(inputs, training=True)\n",
    "            loss = self.compiled_loss(targets, predictions)\n",
    "        gradients = tape.gradient(loss, self.trainable_weights)\n",
    "        self.optimizer.apply_gradients(zip(gradients, self.trainable_weights))\n",
    "        self.compiled_metrics.update_state(targets, predictions)\n",
    "        return {m.name: m.result() for m in self.metrics}"
   ]
  },
  {
   "cell_type": "code",
   "execution_count": 27,
   "id": "8aab41f5",
   "metadata": {},
   "outputs": [
    {
     "name": "stdout",
     "output_type": "stream",
     "text": [
      "Epoch 1/3\n",
      "1563/1563 [==============================] - 10s 6ms/step - loss: 0.2948 - sparse_categorical_accuracy: 0.9127\n",
      "Epoch 2/3\n",
      "1563/1563 [==============================] - 9s 6ms/step - loss: 0.1648 - sparse_categorical_accuracy: 0.9523\n",
      "Epoch 3/3\n",
      "1563/1563 [==============================] - 10s 6ms/step - loss: 0.1376 - sparse_categorical_accuracy: 0.9634\n"
     ]
    },
    {
     "data": {
      "text/plain": [
       "<keras.callbacks.History at 0x7b8dbdd5eb50>"
      ]
     },
     "execution_count": 27,
     "metadata": {},
     "output_type": "execute_result"
    }
   ],
   "source": [
    "inputs = keras.Input(shape=(28 * 28,))\n",
    "features = layers.Dense(512, activation=\"relu\")(inputs)\n",
    "features = layers.Dropout(0.5)(features)\n",
    "outputs = layers.Dense(10, activation=\"softmax\")(features)\n",
    "model = CustomModel(inputs, outputs)\n",
    "\n",
    "model.compile(optimizer=keras.optimizers.RMSprop(),\n",
    "              loss=keras.losses.SparseCategoricalCrossentropy(),\n",
    "              metrics=[keras.metrics.SparseCategoricalAccuracy()])\n",
    "model.fit(train_images, train_labels, epochs=3)"
   ]
  },
  {
   "cell_type": "code",
   "execution_count": null,
   "id": "1685ec7d",
   "metadata": {},
   "outputs": [],
   "source": []
  }
 ],
 "metadata": {
  "kernelspec": {
   "display_name": "Python 3 (ipykernel)",
   "language": "python",
   "name": "python3"
  },
  "language_info": {
   "codemirror_mode": {
    "name": "ipython",
    "version": 3
   },
   "file_extension": ".py",
   "mimetype": "text/x-python",
   "name": "python",
   "nbconvert_exporter": "python",
   "pygments_lexer": "ipython3",
   "version": "3.9.7"
  }
 },
 "nbformat": 4,
 "nbformat_minor": 5
}
