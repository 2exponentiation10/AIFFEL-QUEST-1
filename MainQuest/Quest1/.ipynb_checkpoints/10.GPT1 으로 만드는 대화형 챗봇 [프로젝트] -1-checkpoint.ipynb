{
 "cells": [
  {
   "cell_type": "markdown",
   "id": "00535a28",
   "metadata": {},
   "source": [
    "# 1. Transformer와 비교해 변경사항 정리"
   ]
  },
  {
   "cell_type": "markdown",
   "id": "8349061e",
   "metadata": {},
   "source": [
    "## 1-1) 모델 구조 비교"
   ]
  },
  {
   "cell_type": "markdown",
   "id": "49bc692b",
   "metadata": {},
   "source": [
    "![](transformer.jpg)"
   ]
  },
  {
   "cell_type": "markdown",
   "id": "3b3dad9d",
   "metadata": {},
   "source": [
    "![](gpt.JPG)"
   ]
  },
  {
   "cell_type": "markdown",
   "id": "24edaf5e",
   "metadata": {},
   "source": [
    "## 1-2) 변경사항 정리"
   ]
  },
  {
   "cell_type": "markdown",
   "id": "89f280dc",
   "metadata": {},
   "source": [
    "1. GPT-1 은 Transformer의 Decoder 부분만 사용\n",
    "2. encoder의 정보를 가져오는 Multi-Head attention 부분은 사용하지 않음\n",
    "3. positional encoding을 사용하지 않고, positinal embeding을 사용함\n",
    "4. 강화학습으로 pretrained 된 모델을 finetunning 하는 학습과정 갖음"
   ]
  },
  {
   "cell_type": "markdown",
   "id": "05f43930",
   "metadata": {},
   "source": [
    "# 2. 데이터 불러오기 & 전처리"
   ]
  },
  {
   "cell_type": "markdown",
   "id": "75a11c1b",
   "metadata": {},
   "source": [
    "## 2-1) 데이터 불러오기"
   ]
  },
  {
   "cell_type": "code",
   "execution_count": 2,
   "id": "bde82ad7",
   "metadata": {},
   "outputs": [],
   "source": [
    "import pandas as pd\n",
    "import os\n",
    "import re\n",
    "import numpy as np\n",
    "import matplotlib.pyplot as plt\n",
    "import tensorflow as tf"
   ]
  },
  {
   "cell_type": "code",
   "execution_count": 3,
   "id": "a40d31b1",
   "metadata": {},
   "outputs": [
    {
     "data": {
      "text/html": [
       "<div>\n",
       "<style scoped>\n",
       "    .dataframe tbody tr th:only-of-type {\n",
       "        vertical-align: middle;\n",
       "    }\n",
       "\n",
       "    .dataframe tbody tr th {\n",
       "        vertical-align: top;\n",
       "    }\n",
       "\n",
       "    .dataframe thead th {\n",
       "        text-align: right;\n",
       "    }\n",
       "</style>\n",
       "<table border=\"1\" class=\"dataframe\">\n",
       "  <thead>\n",
       "    <tr style=\"text-align: right;\">\n",
       "      <th></th>\n",
       "      <th>Q</th>\n",
       "      <th>A</th>\n",
       "    </tr>\n",
       "  </thead>\n",
       "  <tbody>\n",
       "    <tr>\n",
       "      <th>0</th>\n",
       "      <td>12시 땡!</td>\n",
       "      <td>하루가 또 가네요.</td>\n",
       "    </tr>\n",
       "    <tr>\n",
       "      <th>1</th>\n",
       "      <td>1지망 학교 떨어졌어</td>\n",
       "      <td>위로해 드립니다.</td>\n",
       "    </tr>\n",
       "    <tr>\n",
       "      <th>2</th>\n",
       "      <td>3박4일 놀러가고 싶다</td>\n",
       "      <td>여행은 언제나 좋죠.</td>\n",
       "    </tr>\n",
       "    <tr>\n",
       "      <th>3</th>\n",
       "      <td>3박4일 정도 놀러가고 싶다</td>\n",
       "      <td>여행은 언제나 좋죠.</td>\n",
       "    </tr>\n",
       "    <tr>\n",
       "      <th>4</th>\n",
       "      <td>PPL 심하네</td>\n",
       "      <td>눈살이 찌푸려지죠.</td>\n",
       "    </tr>\n",
       "  </tbody>\n",
       "</table>\n",
       "</div>"
      ],
      "text/plain": [
       "                 Q            A\n",
       "0           12시 땡!   하루가 또 가네요.\n",
       "1      1지망 학교 떨어졌어    위로해 드립니다.\n",
       "2     3박4일 놀러가고 싶다  여행은 언제나 좋죠.\n",
       "3  3박4일 정도 놀러가고 싶다  여행은 언제나 좋죠.\n",
       "4          PPL 심하네   눈살이 찌푸려지죠."
      ]
     },
     "execution_count": 3,
     "metadata": {},
     "output_type": "execute_result"
    }
   ],
   "source": [
    "file_path = \"~/data/ChatbotData .csv\"\n",
    "file_path = os.path.expanduser(file_path)\n",
    "data = pd.read_csv(file_path)\n",
    "data = data[['Q','A']]\n",
    "data.head()"
   ]
  },
  {
   "cell_type": "code",
   "execution_count": 4,
   "id": "c8062b2b",
   "metadata": {},
   "outputs": [
    {
     "data": {
      "text/plain": [
       "(11823, 2)"
      ]
     },
     "execution_count": 4,
     "metadata": {},
     "output_type": "execute_result"
    }
   ],
   "source": [
    "data.shape"
   ]
  },
  {
   "cell_type": "markdown",
   "id": "103aa0cc",
   "metadata": {},
   "source": [
    "## 2-2) 데이터 전처리"
   ]
  },
  {
   "cell_type": "code",
   "execution_count": 6,
   "id": "5418c7c8",
   "metadata": {},
   "outputs": [],
   "source": [
    "#한국어 데이터 전처리 함수\n",
    "def preprocess_sentence(sentence):\n",
    "  # 입력받은 sentence를 소문자로 변경하고 양쪽 공백을 제거\n",
    "  sentence = sentence.lower() #한국어에 왜 쓰는거지?\n",
    "\n",
    "  # 특수 문자 제거\n",
    "  sentence = re.sub(r\"[^ㄱ-ㅎㅏ-ㅣ가-힣0-9a-zA-Z?.!,]+\", \" \", sentence)\n",
    "    \n",
    "  # 여러 개의 공백을 하나로 합침\n",
    "  sentence = re.sub(r'[\" \"]+', \" \", sentence)\n",
    "\n",
    "  sentence = sentence.strip()\n",
    "  return sentence"
   ]
  },
  {
   "cell_type": "code",
   "execution_count": 7,
   "id": "fb7a31aa",
   "metadata": {},
   "outputs": [],
   "source": [
    "### Q, A 데이터 전처리\n",
    "questions = []\n",
    "answers = []\n",
    "for [i, j] in zip(data['Q'], data['A']):\n",
    "    questions.append(preprocess_sentence(i))\n",
    "    answers.append(preprocess_sentence(j))"
   ]
  },
  {
   "cell_type": "code",
   "execution_count": 8,
   "id": "f9a697b8",
   "metadata": {},
   "outputs": [
    {
     "name": "stdout",
     "output_type": "stream",
     "text": [
      "11823\n",
      "11823\n"
     ]
    }
   ],
   "source": [
    "print(len(questions))\n",
    "print(len(answers))"
   ]
  },
  {
   "cell_type": "markdown",
   "id": "6833427b",
   "metadata": {},
   "source": [
    "## 2-3) 병렬 데이터 전처리하기\n"
   ]
  },
  {
   "cell_type": "markdown",
   "id": "32484f26",
   "metadata": {},
   "source": [
    "### (1) 단어장(Vocabulary) 만들기¶"
   ]
  },
  {
   "cell_type": "code",
   "execution_count": 9,
   "id": "142b3cd0",
   "metadata": {},
   "outputs": [],
   "source": [
    "import tensorflow_datasets as tfds\n",
    "\n",
    "# 질문과 답변 데이터셋에 대해서 Vocabulary 생성\n",
    "tokenizer = tfds.deprecated.text.SubwordTextEncoder.build_from_corpus(questions + answers, target_vocab_size=2**13)"
   ]
  },
  {
   "cell_type": "code",
   "execution_count": 26,
   "id": "b9850d62",
   "metadata": {},
   "outputs": [
    {
     "name": "stdout",
     "output_type": "stream",
     "text": [
      "vocab_size =  8168\n",
      "vocab_lise_size =  7911\n"
     ]
    }
   ],
   "source": [
    "# 전체 vocabulary 리스트 얻기\n",
    "vocab_list = tokenizer.subwords \n",
    "\n",
    "# vocabulary 리스트 출력 \n",
    "print(\"vocab_size = \",tokenizer.vocab_size)\n",
    "print(\"vocab_lise_size = \",len(vocab_list))\n",
    "\n",
    "#결과에 차이가 있는 이유\n",
    "#UNK, BOS, EOS, Padding 토큰과 같은 특수 토큰\n",
    "#SubwordTextEncoder는 내부적으로 몇몇 토큰들을 예약(reserved)해둠"
   ]
  },
  {
   "cell_type": "code",
   "execution_count": 17,
   "id": "520525c9",
   "metadata": {},
   "outputs": [
    {
     "name": "stdout",
     "output_type": "stream",
     "text": [
      "START_TOKEN의 번호 : [8168]\n",
      "END_TOKEN의 번호 : [8169]\n"
     ]
    }
   ],
   "source": [
    "# 시작 토큰과 종료 토큰에 고유한 정수를 부여합니다.\n",
    "START_TOKEN, END_TOKEN = [tokenizer.vocab_size], [tokenizer.vocab_size + 1]\n",
    "\n",
    "print('START_TOKEN의 번호 :' ,[tokenizer.vocab_size])\n",
    "print('END_TOKEN의 번호 :' ,[tokenizer.vocab_size + 1])"
   ]
  },
  {
   "cell_type": "code",
   "execution_count": 18,
   "id": "42cbd3fc",
   "metadata": {},
   "outputs": [
    {
     "name": "stdout",
     "output_type": "stream",
     "text": [
      "8170\n"
     ]
    }
   ],
   "source": [
    "VOCAB_SIZE = tokenizer.vocab_size + 2\n",
    "print(VOCAB_SIZE)"
   ]
  },
  {
   "cell_type": "markdown",
   "id": "df97aeea",
   "metadata": {},
   "source": [
    "### (2) 각 단어를 고유한 정수로 인코딩(Integer encoding) & 패딩(Padding)"
   ]
  },
  {
   "cell_type": "code",
   "execution_count": 19,
   "id": "2cd91471",
   "metadata": {},
   "outputs": [
    {
     "name": "stdout",
     "output_type": "stream",
     "text": [
      "정수 인코딩 후의 21번째 질문 샘플: [5756, 607, 2488, 4159]\n",
      "정수 인코딩 후의 21번째 답변 샘플: [2354, 7507, 5, 6270, 94, 7958]\n"
     ]
    }
   ],
   "source": [
    "print('정수 인코딩 후의 21번째 질문 샘플: {}'.format(tokenizer.encode(questions[21])))\n",
    "print('정수 인코딩 후의 21번째 답변 샘플: {}'.format(tokenizer.encode(answers[21])))"
   ]
  },
  {
   "cell_type": "code",
   "execution_count": 20,
   "id": "1dbdbd79",
   "metadata": {},
   "outputs": [],
   "source": [
    "#문장 길이\n",
    "MAX_LENGTH = 40"
   ]
  },
  {
   "cell_type": "code",
   "execution_count": 21,
   "id": "1dd1b453",
   "metadata": {},
   "outputs": [],
   "source": [
    "#패딩추가 패키지\n",
    "from tensorflow.keras.preprocessing.sequence import pad_sequences\n",
    "\n",
    "#정수 인코딩\n",
    "#최대 길이 초과 샘플 제거 및 패딩\n",
    "def tokenize_and_filter(inputs, outputs):\n",
    "    #토큰화 input, out 담을 그릇\n",
    "    tokenized_inputs, tokenized_outputs = [], []\n",
    "    \n",
    "    for (sen1, sen2) in zip(inputs, outputs):\n",
    "    #정수 인코딩 및 시작 토큰과 종료 토큰 추가\n",
    "    \n",
    "        #문장의 시작과 끝에 시작, 종료 토큰 추가\n",
    "        sen1 = START_TOKEN + tokenizer.encode(sen1) + END_TOKEN\n",
    "        sen2 = START_TOKEN + tokenizer.encode(sen2) + END_TOKEN\n",
    "        \n",
    "        #문장 길이가 40 이상인 문장만 추가\n",
    "        if len(sen1) <= MAX_LENGTH and len(sen2) <= MAX_LENGTH:\n",
    "            tokenized_inputs.append(sen1)\n",
    "            tokenized_outputs.append(sen2)\n",
    "    \n",
    "    tokenized_inputs = pad_sequences(\n",
    "        tokenized_inputs,\n",
    "        maxlen = MAX_LENGTH,\n",
    "        padding = \"post\", #시퀀스의 끝 부분에 패딩 추가\n",
    "    ) \n",
    "    \n",
    "    tokenized_outputs = pad_sequences(\n",
    "        tokenized_outputs,\n",
    "        maxlen = MAX_LENGTH,\n",
    "        padding = \"post\", #시퀀스의 끝 부분에 패딩 추가\n",
    "    ) \n",
    "    \n",
    "    return tokenized_inputs, tokenized_outputs "
   ]
  },
  {
   "cell_type": "code",
   "execution_count": 22,
   "id": "06742435",
   "metadata": {},
   "outputs": [
    {
     "name": "stdout",
     "output_type": "stream",
     "text": [
      "단어장의 크기 : 8170\n",
      "필터링 후의 질문 샘플 개수: 11823\n",
      "필터링 후의 답변 샘플 개수: 11823\n"
     ]
    }
   ],
   "source": [
    "questions, answers = tokenize_and_filter(questions, answers)\n",
    "print('단어장의 크기 :',(VOCAB_SIZE))\n",
    "print('필터링 후의 질문 샘플 개수: {}'.format(len(questions)))\n",
    "print('필터링 후의 답변 샘플 개수: {}'.format(len(answers)))"
   ]
  },
  {
   "cell_type": "markdown",
   "id": "d846f645",
   "metadata": {},
   "source": [
    "### (3) 교사 강요(Teacher Forcing) 사용"
   ]
  },
  {
   "cell_type": "markdown",
   "id": "e5459243",
   "metadata": {},
   "source": [
    "### Supervised learning Dataset"
   ]
  },
  {
   "cell_type": "code",
   "execution_count": 25,
   "id": "8818f67e",
   "metadata": {},
   "outputs": [],
   "source": [
    "#tf.data.Dataset API의 입력으로 사용하여 파이프라인을 구성\n",
    "\n",
    "BATCH_SIZE = 64\n",
    "BUFFER_SIZE = 20000\n",
    "\n",
    "\n",
    "#from_tensor.slices : numpy나 텐서 slice 후 객체생성\n",
    "dataset1 = tf.data.Dataset.from_tensor_slices([ \n",
    "        answers[:,:-1],\n",
    "        #답변의 마지막 토큰을 제외한 부분을 입력으로 사용\n",
    "        answers[:,1:]\n",
    "        #답변 데이터에서 첫 번째 토큰을 제외한 부분을 레이블(정답)로 사용\n",
    "    ])\n",
    "\n",
    "dataset1 = dataset.cache()\n",
    "dataset1 = dataset.shuffle(BUFFER_SIZE)\n",
    "dataset1 = dataset.batch(BATCH_SIZE)\n",
    "dataset1 = dataset.prefetch(tf.data.experimental.AUTOTUNE)"
   ]
  },
  {
   "cell_type": "markdown",
   "id": "dd739f47",
   "metadata": {},
   "source": [
    "### Unsupervised learning Dataset"
   ]
  },
  {
   "cell_type": "code",
   "execution_count": null,
   "id": "7f532562",
   "metadata": {},
   "outputs": [],
   "source": [
    "#tf.data.Dataset API의 입력으로 사용하여 파이프라인을 구성\n",
    "\n",
    "BATCH_SIZE = 64\n",
    "BUFFER_SIZE = 20000\n",
    "\n",
    "\n",
    "#from_tensor.slices : numpy나 텐서 slice 후 객체생성\n",
    "dataset2 = tf.data.Dataset.from_tensor_slices([ \n",
    "        questions,\n",
    "        #답변의 마지막 토큰을 제외한 부분을 입력으로 사용\n",
    "        answers[:,1:]\n",
    "        #답변 데이터에서 첫 번째 토큰을 제외한 부분을 레이블(정답)로 사용\n",
    "    ])\n",
    "\n",
    "dataset2 = dataset.cache()\n",
    "dataset2 = dataset.shuffle(BUFFER_SIZE)\n",
    "dataset2 = dataset.batch(BATCH_SIZE)\n",
    "dataset2 = dataset.prefetch(tf.data.experimental.AUTOTUNE)"
   ]
  },
  {
   "cell_type": "markdown",
   "id": "ae2fcee5",
   "metadata": {},
   "source": [
    "# 3. 모델 구현"
   ]
  },
  {
   "cell_type": "markdown",
   "id": "c7e6e827",
   "metadata": {},
   "source": [
    "## 3-1) scaled_dot_product_attention"
   ]
  },
  {
   "cell_type": "code",
   "execution_count": 27,
   "id": "889f917c",
   "metadata": {},
   "outputs": [],
   "source": [
    "# 스케일드 닷 프로덕트 어텐션 함수\n",
    "def scaled_dot_product_attention(query, key, value, mask):\n",
    "    #Query와 K의 점곱\n",
    "    matmul_qk = tf.matmul(query, key, transpose_b = True)\n",
    "    \n",
    "    #임베딩 차원을 가져와 실수 \n",
    "    depth = tf.cast(tf.shape(key)[-1], tf.float32)\n",
    "    logits = matmul_qk / tf.math.sqrt(depth) #임베딩차원의 제곱근으로 나눠줌\n",
    "    \n",
    "    # 패딩에 마스크 추가\n",
    "    # 패딩인 부분은 점수계산에 팜여하지 안도록 함\n",
    "    if mask is not None:\n",
    "        logits += (mask * -1e9)\n",
    "    \n",
    "    #soft max\n",
    "    attention_weights = tf.nn.softmax(logits, axis=-1)\n",
    "    \n",
    "    # 최종 어텐션 V의 닷 프로덕트\n",
    "    output = tf.matmul(attention_weights, value)\n",
    "    \n",
    "    return output"
   ]
  },
  {
   "cell_type": "markdown",
   "id": "5f4a9833",
   "metadata": {},
   "source": [
    "## 3-2) MultiHeadAttention"
   ]
  },
  {
   "cell_type": "code",
   "execution_count": 28,
   "id": "7bf8dd02",
   "metadata": {},
   "outputs": [],
   "source": [
    "class MultiHeadAttention(tf.keras.layers.Layer):\n",
    "    def __init__ (self, d_model, num_heads, name=\"multi_head_attention\"):\n",
    "        \n",
    "        #부모 클래스 생성자 호출, 이름을 name으로 설정\n",
    "        super(MultiHeadAttention, self).__init__(name=name)\n",
    "        self.num_heads = num_heads #나누는 헤드 개수\n",
    "        self.d_model = d_model #임베딩 차원\n",
    "        \n",
    "        #임베딩 차원이 헤드와 나누어 떨어지는지 확인\n",
    "        #만족하지 않을 시 에러\n",
    "        assert d_model % self.num_heads == 0\n",
    "        \n",
    "        #각 헤드의 차원 계산\n",
    "        self.depth = d_model // self.num_heads\n",
    "        \n",
    "        #각각 쿼리(Query), 키(Key), 값(Value) 벡터를 생성하기 위한 Dense 레이어\n",
    "        #가중치 행렬을 곱하고 편향을 더하여 출력 벡터를 생성하는 선형 변환 레이어\n",
    "        self.query_dense = tf.keras.layers.Dense(units=d_model)\n",
    "        self.key_dense = tf.keras.layers.Dense(units=d_model)\n",
    "        self.value_dense = tf.keras.layers.Dense(units=d_model)\n",
    "        \n",
    "        #어텐션 연산 후 최종 결과를 생성하기 위한 Dense 레이어\n",
    "        self.dense = tf.keras.layers.Dense(units=d_model)\n",
    "        \n",
    "    def split_heads(self, inputs, batch_size):\n",
    "        inputs = tf.reshape(\n",
    "            inputs,\n",
    "            shape = (batch_size,-1,self.num_heads,self.depth)\n",
    "        )\n",
    "        return tf.transpose(inputs, perm=[0, 2, 1, 3])\n",
    "    \n",
    "    def call(self, inputs):\n",
    "        query, key, value, mask = inputs['query'], inputs['key'], inputs[\n",
    "            'value'], inputs['mask']\n",
    "        batch_size = tf.shape(query)[0]\n",
    "\n",
    "         # Q, K, V에 각각 Dense를 적용합니다.\n",
    "        query = self.query_dense(query)  # (batch_size, seq_len, d_model)\n",
    "        key = self.key_dense(key)        # (batch_size, seq_len, d_model)\n",
    "        value = self.value_dense(value)  # (batch_size, seq_len, d_model)\n",
    "\n",
    "        # 병렬 연산을 위한 머리를 여러 개 만듭니다.\n",
    "        query = self.split_heads(query, batch_size)  # (batch_size, num_heads, seq_len, depth)\n",
    "        key = self.split_heads(key, batch_size)      # (batch_size, num_heads, seq_len, depth)\n",
    "        value = self.split_heads(value, batch_size)  # (batch_size, num_heads, seq_len, depth)\n",
    "\n",
    "        # 스케일드 닷 프로덕트 어텐션 함수\n",
    "        scaled_attention = scaled_dot_product_attention(query, key, value, mask)\n",
    "\n",
    "        scaled_attention = tf.transpose(scaled_attention, perm=[0, 2, 1, 3])\n",
    "\n",
    "        # 어텐션 연산 후에 각 결과를 다시 연결(concatenate)합니다\n",
    "        concat_attention = tf.reshape(scaled_attention,\n",
    "                                      (batch_size, -1, self.d_model))\n",
    "\n",
    "        # 최종 결과에도 Dense를 한 번 더 적용합니다\n",
    "        outputs = self.dense(concat_attention)\n",
    "\n",
    "        return outputs"
   ]
  },
  {
   "cell_type": "markdown",
   "id": "3d90de7c",
   "metadata": {},
   "source": [
    "## 3-3) Masking"
   ]
  },
  {
   "cell_type": "code",
   "execution_count": 30,
   "id": "2f1b5535",
   "metadata": {},
   "outputs": [],
   "source": [
    "#숫자가 0인 부분 체크\n",
    "def create_padding_mask(x):\n",
    "  mask = tf.cast(tf.math.equal(x, 0), tf.float32)\n",
    "  # (batch_size, 1, 1, sequence length)\n",
    "  return mask[:, tf.newaxis, tf.newaxis, :]"
   ]
  },
  {
   "cell_type": "code",
   "execution_count": 31,
   "id": "6eb600d4",
   "metadata": {},
   "outputs": [],
   "source": [
    "#다음단어 가리기\n",
    "def create_look_ahead_mask(x):\n",
    "  seq_len = tf.shape(x)[1]\n",
    "  look_ahead_mask = 1 - tf.linalg.band_part(tf.ones((seq_len, seq_len)), -1, 0)\n",
    "  padding_mask = create_padding_mask(x)\n",
    "  return tf.maximum(look_ahead_mask, padding_mask)"
   ]
  },
  {
   "cell_type": "markdown",
   "id": "bca88b8f",
   "metadata": {},
   "source": [
    "## 3-4) One Layer"
   ]
  },
  {
   "cell_type": "markdown",
   "id": "1797d55f",
   "metadata": {},
   "source": [
    "Multi-head attention은 남기고, encoder-decoder attention 제거"
   ]
  },
  {
   "cell_type": "code",
   "execution_count": 32,
   "id": "6649da6e",
   "metadata": {},
   "outputs": [],
   "source": [
    "# 디코더 하나의 레이어를 함수로 구현.\n",
    "# 이 하나의 레이어 안에는 세 개의 서브 레이어가 존재합니다.\n",
    "def decoder_layer(units, d_model, num_heads, dropout, name=\"decoder_layer\"):\n",
    "  \n",
    "  inputs = tf.keras.Input(shape=(None, d_model), name=\"inputs\")\n",
    "  \n",
    "  look_ahead_mask = tf.keras.Input(shape=(1, None, None), name=\"look_ahead_mask\")\n",
    "  \n",
    "  padding_mask = tf.keras.Input(shape=(1, 1, None), name='padding_mask')\n",
    "\n",
    "  # 멀티 헤드 어텐션 수행 (셀프 어텐션)\n",
    "  attention = MultiHeadAttention(\n",
    "      d_model, num_heads, name=\"attention_1\")(inputs={\n",
    "          'query': inputs,\n",
    "          'key': inputs,\n",
    "          'value': inputs,\n",
    "          'mask': look_ahead_mask\n",
    "      })\n",
    "\n",
    "  # 멀티 헤드 어텐션의 결과는 LayerNormalization이라는 훈련을 돕는 테크닉을 수행\n",
    "  attention = tf.keras.layers.LayerNormalization(epsilon=1e-6)(attention + inputs)\n",
    "\n",
    "  # 2개의 완전연결층\n",
    "  outputs = tf.keras.layers.Dense(units=units, activation='relu')(attention)\n",
    "  outputs = tf.keras.layers.Dense(units=d_model)(outputs)\n",
    "\n",
    "  # 완전연결층의 결과는 Dropout과 LayerNormalization 수행\n",
    "  outputs = tf.keras.layers.Dropout(rate=dropout)(outputs)\n",
    "  outputs = tf.keras.layers.LayerNormalization(\n",
    "      epsilon=1e-6)(outputs + attention)\n",
    "\n",
    "  return tf.keras.Model(\n",
    "      inputs=[inputs, look_ahead_mask, padding_mask],\n",
    "      outputs=outputs,\n",
    "      name=name)"
   ]
  },
  {
   "cell_type": "markdown",
   "id": "fa7b599e",
   "metadata": {},
   "source": [
    "## 3-5) Multi Layer"
   ]
  },
  {
   "cell_type": "code",
   "execution_count": 44,
   "id": "57fdbc96",
   "metadata": {},
   "outputs": [],
   "source": [
    "import tensorflow as tf\n",
    "\n",
    "def decoder(vocab_size,\n",
    "            num_layers,\n",
    "            units,\n",
    "            d_model,\n",
    "            num_heads,\n",
    "            dropout,\n",
    "            name='decoder'):\n",
    "  \n",
    "  inputs = tf.keras.Input(shape=(None,), name='inputs')\n",
    "  \n",
    "  look_ahead_mask = tf.keras.Input(shape=(1, None, None), name='look_ahead_mask')\n",
    "\n",
    "  # 패딩 마스크\n",
    "  padding_mask = tf.keras.Input(shape=(1, 1, None), name='padding_mask')\n",
    "  \n",
    "  # 임베딩 레이어\n",
    "  embeddings = tf.keras.layers.Embedding(vocab_size, d_model)(inputs)\n",
    "  embeddings *= tf.math.sqrt(tf.cast(d_model, tf.float32))\n",
    "\n",
    "  # 포지셔널 임베딩\n",
    "  pos_embedding = tfa.layers.PositionalEmbedding(d_model)(tf.range(start=0, limit=tf.shape(embeddings)[1], delta=1))\n",
    "\n",
    "  # Dropout이라는 훈련을 돕는 테크닉을 수행\n",
    "  outputs = tf.keras.layers.Dropout(rate=dropout)(embeddings+pos_embedding)\n",
    "\n",
    "  for i in range(num_layers):\n",
    "    outputs = decoder_layer(\n",
    "        units=units,\n",
    "        d_model=d_model,\n",
    "        num_heads=num_heads,\n",
    "        dropout=dropout,\n",
    "        name='decoder_layer_{}'.format(i),\n",
    "    )(inputs=[outputs, look_ahead_mask, padding_mask])\n",
    "\n",
    "  return tf.keras.Model(\n",
    "      inputs=[inputs, look_ahead_mask, padding_mask],\n",
    "      outputs=outputs,\n",
    "      name=name)"
   ]
  },
  {
   "cell_type": "markdown",
   "id": "4aac29e5",
   "metadata": {},
   "source": [
    "## 3-6) GPT1 함수정의"
   ]
  },
  {
   "cell_type": "code",
   "execution_count": 37,
   "id": "2ec900d0",
   "metadata": {},
   "outputs": [],
   "source": [
    "def gpt1(vocab_size,\n",
    "                num_layers,\n",
    "                units,\n",
    "                d_model,\n",
    "                num_heads,\n",
    "                dropout,\n",
    "                name=\"gpt1\"):\n",
    "  \n",
    "  inputs = tf.keras.Input(shape=(None,), name=\"inputs\")\n",
    "    \n",
    "  dec_inputs = tf.keras.Input(shape=(None,), name=\"dec_inputs\")\n",
    "\n",
    "  # 내부적으로 패딩 마스크도 포함되어져 있습니다.\n",
    "  look_ahead_mask = tf.keras.layers.Lambda(\n",
    "      create_look_ahead_mask,\n",
    "      output_shape=(1, None, None),\n",
    "      name='look_ahead_mask')(dec_inputs)\n",
    "\n",
    "  # 디코더에서 패딩을 위한 마스크\n",
    "  dec_padding_mask = tf.keras.layers.Lambda(\n",
    "      create_padding_mask, output_shape=(1, 1, None),\n",
    "      name='dec_padding_mask')(inputs)\n",
    "\n",
    "\n",
    "  # 디코더\n",
    "  dec_outputs = decoder(\n",
    "      vocab_size=vocab_size,\n",
    "      num_layers=num_layers,\n",
    "      units=units,\n",
    "      d_model=d_model,\n",
    "      num_heads=num_heads,\n",
    "      dropout=dropout,\n",
    "  )(inputs=[inputs, look_ahead_mask, dec_padding_mask])\n",
    "\n",
    "  return tf.keras.Model(inputs=[inputs, dec_inputs], outputs=outputs, name=name)"
   ]
  },
  {
   "cell_type": "markdown",
   "id": "3d6006d9",
   "metadata": {},
   "source": [
    "# 4. 모델 생성 및 학습"
   ]
  },
  {
   "cell_type": "markdown",
   "id": "9d44f2af",
   "metadata": {},
   "source": [
    "## 4-1) 모델 생성"
   ]
  },
  {
   "cell_type": "code",
   "execution_count": 45,
   "id": "965b5067",
   "metadata": {},
   "outputs": [
    {
     "ename": "AttributeError",
     "evalue": "module 'tensorflow' has no attribute 'layers'",
     "output_type": "error",
     "traceback": [
      "\u001b[0;31m---------------------------------------------------------------------------\u001b[0m",
      "\u001b[0;31mAttributeError\u001b[0m                            Traceback (most recent call last)",
      "\u001b[0;32m/tmp/ipykernel_47/3355252697.py\u001b[0m in \u001b[0;36m<module>\u001b[0;34m\u001b[0m\n\u001b[1;32m      8\u001b[0m \u001b[0mDROPOUT\u001b[0m \u001b[0;34m=\u001b[0m \u001b[0;36m0.1\u001b[0m \u001b[0;31m# 드롭아웃의 비율\u001b[0m\u001b[0;34m\u001b[0m\u001b[0;34m\u001b[0m\u001b[0m\n\u001b[1;32m      9\u001b[0m \u001b[0;34m\u001b[0m\u001b[0m\n\u001b[0;32m---> 10\u001b[0;31m model = gpt1(\n\u001b[0m\u001b[1;32m     11\u001b[0m     \u001b[0mvocab_size\u001b[0m\u001b[0;34m=\u001b[0m\u001b[0mVOCAB_SIZE\u001b[0m\u001b[0;34m,\u001b[0m\u001b[0;34m\u001b[0m\u001b[0;34m\u001b[0m\u001b[0m\n\u001b[1;32m     12\u001b[0m     \u001b[0mnum_layers\u001b[0m\u001b[0;34m=\u001b[0m\u001b[0mNUM_LAYERS\u001b[0m\u001b[0;34m,\u001b[0m\u001b[0;34m\u001b[0m\u001b[0;34m\u001b[0m\u001b[0m\n",
      "\u001b[0;32m/tmp/ipykernel_47/3400843704.py\u001b[0m in \u001b[0;36mgpt1\u001b[0;34m(vocab_size, num_layers, units, d_model, num_heads, dropout, name)\u001b[0m\n\u001b[1;32m     24\u001b[0m \u001b[0;34m\u001b[0m\u001b[0m\n\u001b[1;32m     25\u001b[0m   \u001b[0;31m# 디코더\u001b[0m\u001b[0;34m\u001b[0m\u001b[0;34m\u001b[0m\u001b[0m\n\u001b[0;32m---> 26\u001b[0;31m   dec_outputs = decoder(\n\u001b[0m\u001b[1;32m     27\u001b[0m       \u001b[0mvocab_size\u001b[0m\u001b[0;34m=\u001b[0m\u001b[0mvocab_size\u001b[0m\u001b[0;34m,\u001b[0m\u001b[0;34m\u001b[0m\u001b[0;34m\u001b[0m\u001b[0m\n\u001b[1;32m     28\u001b[0m       \u001b[0mnum_layers\u001b[0m\u001b[0;34m=\u001b[0m\u001b[0mnum_layers\u001b[0m\u001b[0;34m,\u001b[0m\u001b[0;34m\u001b[0m\u001b[0;34m\u001b[0m\u001b[0m\n",
      "\u001b[0;32m/tmp/ipykernel_47/2627521635.py\u001b[0m in \u001b[0;36mdecoder\u001b[0;34m(vocab_size, num_layers, units, d_model, num_heads, dropout, name)\u001b[0m\n\u001b[1;32m     21\u001b[0m \u001b[0;34m\u001b[0m\u001b[0m\n\u001b[1;32m     22\u001b[0m   \u001b[0;31m# 포지셔널 임베딩\u001b[0m\u001b[0;34m\u001b[0m\u001b[0;34m\u001b[0m\u001b[0m\n\u001b[0;32m---> 23\u001b[0;31m   \u001b[0mpos_embedding\u001b[0m \u001b[0;34m=\u001b[0m \u001b[0mtfa\u001b[0m\u001b[0;34m.\u001b[0m\u001b[0mlayers\u001b[0m\u001b[0;34m.\u001b[0m\u001b[0mPositionalEmbedding\u001b[0m\u001b[0;34m(\u001b[0m\u001b[0md_model\u001b[0m\u001b[0;34m)\u001b[0m\u001b[0;34m(\u001b[0m\u001b[0mtf\u001b[0m\u001b[0;34m.\u001b[0m\u001b[0mrange\u001b[0m\u001b[0;34m(\u001b[0m\u001b[0mstart\u001b[0m\u001b[0;34m=\u001b[0m\u001b[0;36m0\u001b[0m\u001b[0;34m,\u001b[0m \u001b[0mlimit\u001b[0m\u001b[0;34m=\u001b[0m\u001b[0mtf\u001b[0m\u001b[0;34m.\u001b[0m\u001b[0mshape\u001b[0m\u001b[0;34m(\u001b[0m\u001b[0membeddings\u001b[0m\u001b[0;34m)\u001b[0m\u001b[0;34m[\u001b[0m\u001b[0;36m1\u001b[0m\u001b[0;34m]\u001b[0m\u001b[0;34m,\u001b[0m \u001b[0mdelta\u001b[0m\u001b[0;34m=\u001b[0m\u001b[0;36m1\u001b[0m\u001b[0;34m)\u001b[0m\u001b[0;34m)\u001b[0m\u001b[0;34m\u001b[0m\u001b[0;34m\u001b[0m\u001b[0m\n\u001b[0m\u001b[1;32m     24\u001b[0m \u001b[0;34m\u001b[0m\u001b[0m\n\u001b[1;32m     25\u001b[0m   \u001b[0;31m# Dropout이라는 훈련을 돕는 테크닉을 수행\u001b[0m\u001b[0;34m\u001b[0m\u001b[0;34m\u001b[0m\u001b[0m\n",
      "\u001b[0;31mAttributeError\u001b[0m: module 'tensorflow' has no attribute 'layers'"
     ]
    }
   ],
   "source": [
    "tf.keras.backend.clear_session()\n",
    "\n",
    "# 하이퍼파라미터\n",
    "NUM_LAYERS = 2 # 인코더와 디코더의 층의 개수\n",
    "D_MODEL = 256 # 인코더와 디코더 내부의 입, 출력의 고정 차원\n",
    "NUM_HEADS = 8 # 멀티 헤드 어텐션에서의 헤드 수 \n",
    "UNITS = 512 # 피드 포워드 신경망의 은닉층의 크기\n",
    "DROPOUT = 0.1 # 드롭아웃의 비율\n",
    "\n",
    "model = gpt1(\n",
    "    vocab_size=VOCAB_SIZE,\n",
    "    num_layers=NUM_LAYERS,\n",
    "    units=UNITS,\n",
    "    d_model=D_MODEL,\n",
    "    num_heads=NUM_HEADS,\n",
    "    dropout=DROPOUT)\n",
    "\n",
    "model.summary()"
   ]
  },
  {
   "cell_type": "code",
   "execution_count": null,
   "id": "242f2b9b",
   "metadata": {},
   "outputs": [],
   "source": []
  }
 ],
 "metadata": {
  "kernelspec": {
   "display_name": "Python 3 (ipykernel)",
   "language": "python",
   "name": "python3"
  },
  "language_info": {
   "codemirror_mode": {
    "name": "ipython",
    "version": 3
   },
   "file_extension": ".py",
   "mimetype": "text/x-python",
   "name": "python",
   "nbconvert_exporter": "python",
   "pygments_lexer": "ipython3",
   "version": "3.9.7"
  }
 },
 "nbformat": 4,
 "nbformat_minor": 5
}
