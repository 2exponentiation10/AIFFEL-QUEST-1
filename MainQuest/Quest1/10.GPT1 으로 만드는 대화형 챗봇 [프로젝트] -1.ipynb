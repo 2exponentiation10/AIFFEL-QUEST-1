{
 "cells": [
  {
   "cell_type": "markdown",
   "id": "c8e2f93a",
   "metadata": {},
   "source": [
    "# 1. Transformer와 비교해 변경사항 정리"
   ]
  },
  {
   "cell_type": "markdown",
   "id": "644af513",
   "metadata": {},
   "source": [
    "## 1-1) 모델 구조 비교"
   ]
  },
  {
   "cell_type": "markdown",
   "id": "90d37f8c",
   "metadata": {},
   "source": [
    "![](transformer.jpg)"
   ]
  },
  {
   "cell_type": "markdown",
   "id": "beee6207",
   "metadata": {},
   "source": [
    "![](gpt.JPG)"
   ]
  },
  {
   "cell_type": "markdown",
   "id": "9dc47e03",
   "metadata": {},
   "source": [
    "## 1-2) 변경사항 정리"
   ]
  },
  {
   "cell_type": "markdown",
   "id": "5221bcf3",
   "metadata": {},
   "source": [
    "1. GPT-1 은 Transformer의 Decoder 부분만 사용\n",
    "2. encoder의 정보를 가져오는 Multi-Head attention 부분은 사용하지 않음\n",
    "3. positional encoding을 사용하지 않고, positinal embeding을 사용함\n",
    "4. 강화학습으로 pretrained 된 모델을 finetunning 하는 학습과정 갖음"
   ]
  },
  {
   "cell_type": "markdown",
   "id": "8510e919",
   "metadata": {},
   "source": [
    "# 2. 데이터 불러오기 & 전처리"
   ]
  },
  {
   "cell_type": "markdown",
   "id": "a64e3892",
   "metadata": {},
   "source": [
    "## 2-1) 데이터 불러오기"
   ]
  },
  {
   "cell_type": "code",
   "execution_count": 48,
   "id": "526b3a4e",
   "metadata": {},
   "outputs": [],
   "source": [
    "import pandas as pd\n",
    "import os\n",
    "import re\n",
    "import numpy as np\n",
    "import matplotlib.pyplot as plt\n",
    "import tensorflow as tf"
   ]
  },
  {
   "cell_type": "code",
   "execution_count": 49,
   "id": "1b3b428c",
   "metadata": {},
   "outputs": [
    {
     "data": {
      "text/html": [
       "<div>\n",
       "<style scoped>\n",
       "    .dataframe tbody tr th:only-of-type {\n",
       "        vertical-align: middle;\n",
       "    }\n",
       "\n",
       "    .dataframe tbody tr th {\n",
       "        vertical-align: top;\n",
       "    }\n",
       "\n",
       "    .dataframe thead th {\n",
       "        text-align: right;\n",
       "    }\n",
       "</style>\n",
       "<table border=\"1\" class=\"dataframe\">\n",
       "  <thead>\n",
       "    <tr style=\"text-align: right;\">\n",
       "      <th></th>\n",
       "      <th>Q</th>\n",
       "      <th>A</th>\n",
       "    </tr>\n",
       "  </thead>\n",
       "  <tbody>\n",
       "    <tr>\n",
       "      <th>0</th>\n",
       "      <td>12시 땡!</td>\n",
       "      <td>하루가 또 가네요.</td>\n",
       "    </tr>\n",
       "    <tr>\n",
       "      <th>1</th>\n",
       "      <td>1지망 학교 떨어졌어</td>\n",
       "      <td>위로해 드립니다.</td>\n",
       "    </tr>\n",
       "    <tr>\n",
       "      <th>2</th>\n",
       "      <td>3박4일 놀러가고 싶다</td>\n",
       "      <td>여행은 언제나 좋죠.</td>\n",
       "    </tr>\n",
       "    <tr>\n",
       "      <th>3</th>\n",
       "      <td>3박4일 정도 놀러가고 싶다</td>\n",
       "      <td>여행은 언제나 좋죠.</td>\n",
       "    </tr>\n",
       "    <tr>\n",
       "      <th>4</th>\n",
       "      <td>PPL 심하네</td>\n",
       "      <td>눈살이 찌푸려지죠.</td>\n",
       "    </tr>\n",
       "  </tbody>\n",
       "</table>\n",
       "</div>"
      ],
      "text/plain": [
       "                 Q            A\n",
       "0           12시 땡!   하루가 또 가네요.\n",
       "1      1지망 학교 떨어졌어    위로해 드립니다.\n",
       "2     3박4일 놀러가고 싶다  여행은 언제나 좋죠.\n",
       "3  3박4일 정도 놀러가고 싶다  여행은 언제나 좋죠.\n",
       "4          PPL 심하네   눈살이 찌푸려지죠."
      ]
     },
     "execution_count": 49,
     "metadata": {},
     "output_type": "execute_result"
    }
   ],
   "source": [
    "file_path = \"~/aiffel/transformer_chatbot/data/ChatbotData.csv\"\n",
    "file_path = os.path.expanduser(file_path)\n",
    "data = pd.read_csv(file_path)\n",
    "data = data[['Q','A']]\n",
    "data.head()"
   ]
  },
  {
   "cell_type": "code",
   "execution_count": 50,
   "id": "d8a22a05",
   "metadata": {},
   "outputs": [
    {
     "data": {
      "text/plain": [
       "(11823, 2)"
      ]
     },
     "execution_count": 50,
     "metadata": {},
     "output_type": "execute_result"
    }
   ],
   "source": [
    "data.shape"
   ]
  },
  {
   "cell_type": "markdown",
   "id": "1893a3a1",
   "metadata": {},
   "source": [
    "## 2-2) 데이터 전처리"
   ]
  },
  {
   "cell_type": "code",
   "execution_count": 51,
   "id": "ee1fca88",
   "metadata": {},
   "outputs": [],
   "source": [
    "#한국어 데이터 전처리 함수\n",
    "def preprocess_sentence(sentence):\n",
    "  # 입력받은 sentence를 소문자로 변경하고 양쪽 공백을 제거\n",
    "  sentence = sentence.lower() #한국어에 왜 쓰는거지?\n",
    "\n",
    "  # 특수 문자 제거\n",
    "  sentence = re.sub(r\"[^ㄱ-ㅎㅏ-ㅣ가-힣0-9a-zA-Z?.!,]+\", \" \", sentence)\n",
    "    \n",
    "  # 여러 개의 공백을 하나로 합침\n",
    "  sentence = re.sub(r'[\" \"]+', \" \", sentence)\n",
    "\n",
    "  sentence = sentence.strip()\n",
    "  return sentence"
   ]
  },
  {
   "cell_type": "code",
   "execution_count": 52,
   "id": "d61516ad",
   "metadata": {},
   "outputs": [],
   "source": [
    "### Q, A 데이터 전처리\n",
    "questions = []\n",
    "answers = []\n",
    "for [i, j] in zip(data['Q'], data['A']):\n",
    "    questions.append(preprocess_sentence(i))\n",
    "    answers.append(preprocess_sentence(j))"
   ]
  },
  {
   "cell_type": "code",
   "execution_count": 53,
   "id": "ae154c52",
   "metadata": {},
   "outputs": [
    {
     "name": "stdout",
     "output_type": "stream",
     "text": [
      "11823\n",
      "11823\n"
     ]
    }
   ],
   "source": [
    "print(len(questions))\n",
    "print(len(answers))"
   ]
  },
  {
   "cell_type": "markdown",
   "id": "a9d91dc2",
   "metadata": {},
   "source": [
    "## 2-3) 병렬 데이터 전처리하기\n"
   ]
  },
  {
   "cell_type": "markdown",
   "id": "a747586d",
   "metadata": {},
   "source": [
    "### (1) 단어장(Vocabulary) 만들기¶"
   ]
  },
  {
   "cell_type": "code",
   "execution_count": 54,
   "id": "1764e407",
   "metadata": {},
   "outputs": [],
   "source": [
    "import tensorflow_datasets as tfds\n",
    "\n",
    "# 질문과 답변 데이터셋에 대해서 Vocabulary 생성\n",
    "tokenizer = tfds.deprecated.text.SubwordTextEncoder.build_from_corpus(questions + answers, target_vocab_size=2**13)"
   ]
  },
  {
   "cell_type": "code",
   "execution_count": 55,
   "id": "d989c3c4",
   "metadata": {},
   "outputs": [
    {
     "name": "stdout",
     "output_type": "stream",
     "text": [
      "vocab_size =  8168\n",
      "vocab_lise_size =  7911\n"
     ]
    }
   ],
   "source": [
    "# 전체 vocabulary 리스트 얻기\n",
    "vocab_list = tokenizer.subwords \n",
    "\n",
    "# vocabulary 리스트 출력 \n",
    "print(\"vocab_size = \",tokenizer.vocab_size)\n",
    "print(\"vocab_lise_size = \",len(vocab_list))\n",
    "\n",
    "#결과에 차이가 있는 이유\n",
    "#UNK, BOS, EOS, Padding 토큰과 같은 특수 토큰\n",
    "#SubwordTextEncoder는 내부적으로 몇몇 토큰들을 예약(reserved)해둠"
   ]
  },
  {
   "cell_type": "code",
   "execution_count": 56,
   "id": "d6b37db1",
   "metadata": {},
   "outputs": [
    {
     "name": "stdout",
     "output_type": "stream",
     "text": [
      "START_TOKEN의 번호 : [8168]\n",
      "END_TOKEN의 번호 : [8169]\n"
     ]
    }
   ],
   "source": [
    "# 시작 토큰과 종료 토큰에 고유한 정수를 부여합니다.\n",
    "START_TOKEN, END_TOKEN = [tokenizer.vocab_size], [tokenizer.vocab_size + 1]\n",
    "\n",
    "print('START_TOKEN의 번호 :' ,[tokenizer.vocab_size])\n",
    "print('END_TOKEN의 번호 :' ,[tokenizer.vocab_size + 1])"
   ]
  },
  {
   "cell_type": "code",
   "execution_count": 57,
   "id": "45498ab2",
   "metadata": {},
   "outputs": [
    {
     "name": "stdout",
     "output_type": "stream",
     "text": [
      "8170\n"
     ]
    }
   ],
   "source": [
    "VOCAB_SIZE = tokenizer.vocab_size + 2\n",
    "print(VOCAB_SIZE)"
   ]
  },
  {
   "cell_type": "markdown",
   "id": "2c340066",
   "metadata": {},
   "source": [
    "### (2) 각 단어를 고유한 정수로 인코딩(Integer encoding) & 패딩(Padding)"
   ]
  },
  {
   "cell_type": "code",
   "execution_count": 58,
   "id": "6b5be287",
   "metadata": {},
   "outputs": [
    {
     "name": "stdout",
     "output_type": "stream",
     "text": [
      "정수 인코딩 후의 21번째 질문 샘플: [5756, 607, 2488, 4159]\n",
      "정수 인코딩 후의 21번째 답변 샘플: [2354, 7507, 5, 6270, 94, 7958]\n"
     ]
    }
   ],
   "source": [
    "print('정수 인코딩 후의 21번째 질문 샘플: {}'.format(tokenizer.encode(questions[21])))\n",
    "print('정수 인코딩 후의 21번째 답변 샘플: {}'.format(tokenizer.encode(answers[21])))"
   ]
  },
  {
   "cell_type": "code",
   "execution_count": 59,
   "id": "055c3a11",
   "metadata": {},
   "outputs": [],
   "source": [
    "#문장 길이\n",
    "MAX_LENGTH = 40"
   ]
  },
  {
   "cell_type": "code",
   "execution_count": 60,
   "id": "d08443d9",
   "metadata": {},
   "outputs": [],
   "source": [
    "#패딩추가 패키지\n",
    "from tensorflow.keras.preprocessing.sequence import pad_sequences\n",
    "\n",
    "#정수 인코딩\n",
    "#최대 길이 초과 샘플 제거 및 패딩\n",
    "def tokenize_and_filter(inputs, outputs):\n",
    "    #토큰화 input, out 담을 그릇\n",
    "    tokenized_inputs, tokenized_outputs = [], []\n",
    "    \n",
    "    for (sen1, sen2) in zip(inputs, outputs):\n",
    "    #정수 인코딩 및 시작 토큰과 종료 토큰 추가\n",
    "    \n",
    "        #문장의 시작과 끝에 시작, 종료 토큰 추가\n",
    "        sen1 = START_TOKEN + tokenizer.encode(sen1) + END_TOKEN\n",
    "        sen2 = START_TOKEN + tokenizer.encode(sen2) + END_TOKEN\n",
    "        \n",
    "        #문장 길이가 40 이상인 문장만 추가\n",
    "        if len(sen1) <= MAX_LENGTH and len(sen2) <= MAX_LENGTH:\n",
    "            tokenized_inputs.append(sen1)\n",
    "            tokenized_outputs.append(sen2)\n",
    "    \n",
    "    tokenized_inputs = pad_sequences(\n",
    "        tokenized_inputs,\n",
    "        maxlen = MAX_LENGTH,\n",
    "        padding = \"post\", #시퀀스의 끝 부분에 패딩 추가\n",
    "    ) \n",
    "    \n",
    "    tokenized_outputs = pad_sequences(\n",
    "        tokenized_outputs,\n",
    "        maxlen = MAX_LENGTH,\n",
    "        padding = \"post\", #시퀀스의 끝 부분에 패딩 추가\n",
    "    ) \n",
    "    \n",
    "    return tokenized_inputs, tokenized_outputs "
   ]
  },
  {
   "cell_type": "code",
   "execution_count": 61,
   "id": "cb17dfaf",
   "metadata": {},
   "outputs": [
    {
     "name": "stdout",
     "output_type": "stream",
     "text": [
      "단어장의 크기 : 8170\n",
      "필터링 후의 질문 샘플 개수: 11823\n",
      "필터링 후의 답변 샘플 개수: 11823\n"
     ]
    }
   ],
   "source": [
    "questions, answers = tokenize_and_filter(questions, answers)\n",
    "print('단어장의 크기 :',(VOCAB_SIZE))\n",
    "print('필터링 후의 질문 샘플 개수: {}'.format(len(questions)))\n",
    "print('필터링 후의 답변 샘플 개수: {}'.format(len(answers)))"
   ]
  },
  {
   "cell_type": "markdown",
   "id": "bf604cce",
   "metadata": {},
   "source": [
    "### (3) 교사 강요(Teacher Forcing) 사용"
   ]
  },
  {
   "cell_type": "markdown",
   "id": "f5757f92",
   "metadata": {},
   "source": [
    "### Supervised learning Dataset"
   ]
  },
  {
   "cell_type": "code",
   "execution_count": 62,
   "id": "8dc7bf3c",
   "metadata": {},
   "outputs": [],
   "source": [
    "#tf.data.Dataset API의 입력으로 사용하여 파이프라인을 구성\n",
    "\n",
    "BATCH_SIZE = 64\n",
    "BUFFER_SIZE = 20000\n",
    "\n",
    "\n",
    "#from_tensor.slices : numpy나 텐서 slice 후 객체생성\n",
    "dataset = tf.data.Dataset.from_tensor_slices([ \n",
    "        answers[:,:-1],\n",
    "        #답변의 마지막 토큰을 제외한 부분을 입력으로 사용\n",
    "        answers[:,1:]\n",
    "        #답변 데이터에서 첫 번째 토큰을 제외한 부분을 레이블(정답)로 사용\n",
    "    ])\n",
    "\n",
    "dataset = dataset.cache()\n",
    "dataset = dataset.shuffle(BUFFER_SIZE)\n",
    "dataset = dataset.batch(BATCH_SIZE)\n",
    "dataset = dataset.prefetch(tf.data.experimental.AUTOTUNE)"
   ]
  },
  {
   "cell_type": "markdown",
   "id": "ee44cb39",
   "metadata": {},
   "source": [
    "### Unsupervised learning Dataset"
   ]
  },
  {
   "cell_type": "markdown",
   "id": "d256e1b1",
   "metadata": {},
   "source": [
    "# 3. 모델 구현"
   ]
  },
  {
   "cell_type": "markdown",
   "id": "7f540adb",
   "metadata": {},
   "source": [
    "## 3-1) scaled_dot_product_attention"
   ]
  },
  {
   "cell_type": "code",
   "execution_count": 63,
   "id": "545cafaa",
   "metadata": {},
   "outputs": [],
   "source": [
    "# 스케일드 닷 프로덕트 어텐션 함수\n",
    "def scaled_dot_product_attention(query, key, value, mask):\n",
    "    #Query와 K의 점곱\n",
    "    matmul_qk = tf.matmul(query, key, transpose_b = True)\n",
    "    \n",
    "    #임베딩 차원을 가져와 실수 \n",
    "    depth = tf.cast(tf.shape(key)[-1], tf.float32)\n",
    "    logits = matmul_qk / tf.math.sqrt(depth) #임베딩차원의 제곱근으로 나눠줌\n",
    "    \n",
    "    # 패딩에 마스크 추가\n",
    "    # 패딩인 부분은 점수계산에 팜여하지 안도록 함\n",
    "    if mask is not None:\n",
    "        logits += (mask * -1e9)\n",
    "    \n",
    "    #soft max\n",
    "    attention_weights = tf.nn.softmax(logits, axis=-1)\n",
    "    \n",
    "    # 최종 어텐션 V의 닷 프로덕트\n",
    "    output = tf.matmul(attention_weights, value)\n",
    "    \n",
    "    return output"
   ]
  },
  {
   "cell_type": "markdown",
   "id": "23a2f021",
   "metadata": {},
   "source": [
    "## 3-2) MultiHeadAttention"
   ]
  },
  {
   "cell_type": "code",
   "execution_count": 64,
   "id": "5a0462fc",
   "metadata": {},
   "outputs": [],
   "source": [
    "class MultiHeadAttention(tf.keras.layers.Layer):\n",
    "    def __init__ (self, d_model, num_heads, name=\"multi_head_attention\"):\n",
    "        \n",
    "        #부모 클래스 생성자 호출, 이름을 name으로 설정\n",
    "        super(MultiHeadAttention, self).__init__(name=name)\n",
    "        self.num_heads = num_heads #나누는 헤드 개수\n",
    "        self.d_model = d_model #임베딩 차원\n",
    "        \n",
    "        #임베딩 차원이 헤드와 나누어 떨어지는지 확인\n",
    "        #만족하지 않을 시 에러\n",
    "        assert d_model % self.num_heads == 0\n",
    "        \n",
    "        #각 헤드의 차원 계산\n",
    "        self.depth = d_model // self.num_heads\n",
    "        \n",
    "        #각각 쿼리(Query), 키(Key), 값(Value) 벡터를 생성하기 위한 Dense 레이어\n",
    "        #가중치 행렬을 곱하고 편향을 더하여 출력 벡터를 생성하는 선형 변환 레이어\n",
    "        self.query_dense = tf.keras.layers.Dense(units=d_model)\n",
    "        self.key_dense = tf.keras.layers.Dense(units=d_model)\n",
    "        self.value_dense = tf.keras.layers.Dense(units=d_model)\n",
    "        \n",
    "        #어텐션 연산 후 최종 결과를 생성하기 위한 Dense 레이어\n",
    "        self.dense = tf.keras.layers.Dense(units=d_model)\n",
    "        \n",
    "    def split_heads(self, inputs, batch_size):\n",
    "        inputs = tf.reshape(\n",
    "            inputs,\n",
    "            shape = (batch_size,-1,self.num_heads,self.depth)\n",
    "        )\n",
    "        return tf.transpose(inputs, perm=[0, 2, 1, 3])\n",
    "    \n",
    "    def call(self, inputs):\n",
    "        query, key, value, mask = inputs['query'], inputs['key'], inputs[\n",
    "            'value'], inputs['mask']\n",
    "        batch_size = tf.shape(query)[0]\n",
    "\n",
    "         # Q, K, V에 각각 Dense를 적용합니다.\n",
    "        query = self.query_dense(query)  # (batch_size, seq_len, d_model)\n",
    "        key = self.key_dense(key)        # (batch_size, seq_len, d_model)\n",
    "        value = self.value_dense(value)  # (batch_size, seq_len, d_model)\n",
    "\n",
    "        # 병렬 연산을 위한 머리를 여러 개 만듭니다.\n",
    "        query = self.split_heads(query, batch_size)  # (batch_size, num_heads, seq_len, depth)\n",
    "        key = self.split_heads(key, batch_size)      # (batch_size, num_heads, seq_len, depth)\n",
    "        value = self.split_heads(value, batch_size)  # (batch_size, num_heads, seq_len, depth)\n",
    "\n",
    "        # 스케일드 닷 프로덕트 어텐션 함수\n",
    "        scaled_attention = scaled_dot_product_attention(query, key, value, mask)\n",
    "\n",
    "        scaled_attention = tf.transpose(scaled_attention, perm=[0, 2, 1, 3])\n",
    "\n",
    "        # 어텐션 연산 후에 각 결과를 다시 연결(concatenate)합니다\n",
    "        concat_attention = tf.reshape(scaled_attention,\n",
    "                                      (batch_size, -1, self.d_model))\n",
    "\n",
    "        # 최종 결과에도 Dense를 한 번 더 적용합니다\n",
    "        outputs = self.dense(concat_attention)\n",
    "\n",
    "        return outputs"
   ]
  },
  {
   "cell_type": "markdown",
   "id": "f630ed7c",
   "metadata": {},
   "source": [
    "## 3-3) Masking"
   ]
  },
  {
   "cell_type": "code",
   "execution_count": 65,
   "id": "bcbe846e",
   "metadata": {},
   "outputs": [],
   "source": [
    "#숫자가 0인 부분 체크\n",
    "def create_padding_mask(x):\n",
    "  mask = tf.cast(tf.math.equal(x, 0), tf.float32)\n",
    "  # (batch_size, 1, 1, sequence length)\n",
    "  return mask[:, tf.newaxis, tf.newaxis, :]"
   ]
  },
  {
   "cell_type": "code",
   "execution_count": 66,
   "id": "5aa8ec87",
   "metadata": {},
   "outputs": [],
   "source": [
    "#다음단어 가리기\n",
    "def create_look_ahead_mask(x):\n",
    "  seq_len = tf.shape(x)[1]\n",
    "  look_ahead_mask = 1 - tf.linalg.band_part(tf.ones((seq_len, seq_len)), -1, 0)\n",
    "  padding_mask = create_padding_mask(x)\n",
    "  return tf.maximum(look_ahead_mask, padding_mask)"
   ]
  },
  {
   "cell_type": "markdown",
   "id": "c0d2fe80",
   "metadata": {},
   "source": [
    "## 3-4) One Layer"
   ]
  },
  {
   "cell_type": "markdown",
   "id": "b74fd570",
   "metadata": {},
   "source": [
    "Multi-head attention은 남기고, encoder-decoder attention 제거"
   ]
  },
  {
   "cell_type": "code",
   "execution_count": 67,
   "id": "f7e710a6",
   "metadata": {},
   "outputs": [],
   "source": [
    "# 디코더 하나의 레이어를 함수로 구현.\n",
    "# 이 하나의 레이어 안에는 세 개의 서브 레이어가 존재합니다.\n",
    "def decoder_layer(units, d_model, num_heads, dropout, name=\"decoder_layer\"):\n",
    "  \n",
    "  inputs = tf.keras.Input(shape=(None, d_model), name=\"inputs\")\n",
    "  \n",
    "  look_ahead_mask = tf.keras.Input(shape=(1, None, None), name=\"look_ahead_mask\")\n",
    "  \n",
    "  padding_mask = tf.keras.Input(shape=(1, 1, None), name='padding_mask')\n",
    "\n",
    "  # 멀티 헤드 어텐션 수행 (셀프 어텐션)\n",
    "  attention = MultiHeadAttention(\n",
    "      d_model, num_heads, name=\"attention_1\")(inputs={\n",
    "          'query': inputs,\n",
    "          'key': inputs,\n",
    "          'value': inputs,\n",
    "          'mask': look_ahead_mask\n",
    "      })\n",
    "\n",
    "  # 멀티 헤드 어텐션의 결과는 LayerNormalization이라는 훈련을 돕는 테크닉을 수행\n",
    "  attention = tf.keras.layers.LayerNormalization(epsilon=1e-6)(attention + inputs)\n",
    "\n",
    "  # 2개의 완전연결층\n",
    "  outputs = tf.keras.layers.Dense(units=units, activation='relu')(attention)\n",
    "  outputs = tf.keras.layers.Dense(units=d_model)(outputs)\n",
    "\n",
    "  # 완전연결층의 결과는 Dropout과 LayerNormalization 수행\n",
    "  outputs = tf.keras.layers.Dropout(rate=dropout)(outputs)\n",
    "  outputs = tf.keras.layers.LayerNormalization(\n",
    "      epsilon=1e-6)(outputs + attention)\n",
    "\n",
    "  return tf.keras.Model(\n",
    "      inputs=[inputs, look_ahead_mask, padding_mask],\n",
    "      outputs=outputs,\n",
    "      name=name)"
   ]
  },
  {
   "cell_type": "markdown",
   "id": "5d4c1c46",
   "metadata": {},
   "source": [
    "## 3-5) Multi Layer\n",
    "\n",
    "- 포지셔널 인코딩에서 포지셔널 임베딩을 사용"
   ]
  },
  {
   "cell_type": "code",
   "execution_count": 79,
   "id": "aa7ade90",
   "metadata": {},
   "outputs": [],
   "source": [
    "# 포지셔널 임베딩 레이어\n",
    "class PositionalEmbedding(tf.keras.layers.Layer):\n",
    "\n",
    "  def __init__(self, max_position_embeddings, d_model):\n",
    "    super(PositionalEmbedding, self).__init__()\n",
    "    self.pos_embedding = tf.keras.layers.Embedding(input_dim=max_position_embeddings, output_dim=d_model)\n",
    "\n",
    "  def call(self, inputs):\n",
    "    input_shape = tf.shape(inputs)\n",
    "    seq_length = input_shape[1]\n",
    "    position_ids = tf.range(seq_length, dtype=tf.int32)[tf.newaxis, :]\n",
    "    position_embeddings = self.pos_embedding(position_ids)\n",
    "    return inputs + position_embeddings\n"
   ]
  },
  {
   "cell_type": "code",
   "execution_count": 80,
   "id": "206fab9f",
   "metadata": {},
   "outputs": [],
   "source": [
    "import tensorflow as tf\n",
    "\n",
    "def decoder(vocab_size,\n",
    "            num_layers,\n",
    "            units,\n",
    "            d_model,\n",
    "            num_heads,\n",
    "            dropout,\n",
    "            name='decoder'):\n",
    "  \n",
    "  inputs = tf.keras.Input(shape=(None,), name='inputs')\n",
    "  \n",
    "  look_ahead_mask = tf.keras.Input(shape=(1, None, None), name='look_ahead_mask')\n",
    "\n",
    "  # 패딩 마스크\n",
    "  padding_mask = tf.keras.Input(shape=(1, 1, None), name='padding_mask')\n",
    "  \n",
    " \n",
    "    \n",
    "  # 임베딩 레이어\n",
    "  embeddings = tf.keras.layers.Embedding(vocab_size, d_model)(inputs)\n",
    "  embeddings *= tf.math.sqrt(tf.cast(d_model, tf.float32))\n",
    "\n",
    "   # 포지셔널 임베딩\n",
    "  embeddings = PositionalEmbedding(max_position_embeddings, d_model)(embeddings)\n",
    "\n",
    "  # Dropout이라는 훈련을 돕는 테크닉을 수행\n",
    "  outputs = tf.keras.layers.Dropout(rate=dropout)(embeddings)\n",
    "\n",
    "  for i in range(num_layers):\n",
    "    outputs = decoder_layer(\n",
    "        units=units,\n",
    "        d_model=d_model,\n",
    "        num_heads=num_heads,\n",
    "        dropout=dropout,\n",
    "        name='decoder_layer_{}'.format(i),\n",
    "    )(inputs=[outputs, look_ahead_mask, padding_mask])\n",
    "\n",
    "  return tf.keras.Model(\n",
    "      inputs=[inputs, look_ahead_mask, padding_mask],\n",
    "      outputs=outputs,\n",
    "      name=name)"
   ]
  },
  {
   "cell_type": "markdown",
   "id": "14773877",
   "metadata": {},
   "source": [
    "## 3-6) GPT1 함수정의"
   ]
  },
  {
   "cell_type": "code",
   "execution_count": 81,
   "id": "47af6222",
   "metadata": {},
   "outputs": [],
   "source": [
    "def gpt1(vocab_size,\n",
    "                num_layers,\n",
    "                units,\n",
    "                d_model,\n",
    "                num_heads,\n",
    "                dropout,\n",
    "                name=\"gpt1\"):\n",
    "  \n",
    "  inputs = tf.keras.Input(shape=(None,), name=\"inputs\")\n",
    "    \n",
    "  dec_inputs = tf.keras.Input(shape=(None,), name=\"dec_inputs\")\n",
    "\n",
    "  # 내부적으로 패딩 마스크도 포함되어져 있습니다.\n",
    "  look_ahead_mask = tf.keras.layers.Lambda(\n",
    "      create_look_ahead_mask,\n",
    "      output_shape=(1, None, None),\n",
    "      name='look_ahead_mask')(dec_inputs)\n",
    "\n",
    "  # 디코더에서 패딩을 위한 마스크\n",
    "  dec_padding_mask = tf.keras.layers.Lambda(\n",
    "      create_padding_mask, output_shape=(1, 1, None),\n",
    "      name='dec_padding_mask')(inputs)\n",
    "\n",
    "\n",
    "  # 디코더\n",
    "  dec_outputs = decoder(\n",
    "      vocab_size=vocab_size,\n",
    "      num_layers=num_layers,\n",
    "      units=units,\n",
    "      d_model=d_model,\n",
    "      num_heads=num_heads,\n",
    "      dropout=dropout,\n",
    "  )(inputs=[inputs, look_ahead_mask, dec_padding_mask])\n",
    "\n",
    "  return tf.keras.Model(inputs=[inputs, dec_inputs], outputs=outputs, name=name)"
   ]
  },
  {
   "cell_type": "markdown",
   "id": "ef71d0eb",
   "metadata": {},
   "source": [
    "# 4. 모델 생성 및 학습"
   ]
  },
  {
   "cell_type": "markdown",
   "id": "7e734ed0",
   "metadata": {},
   "source": [
    "## 4-1) 모델 생성"
   ]
  },
  {
   "cell_type": "code",
   "execution_count": 82,
   "id": "75b11c89",
   "metadata": {},
   "outputs": [
    {
     "ename": "ValueError",
     "evalue": "Output tensors of a Functional model must be the output of a TensorFlow `Layer` (thus holding past layer metadata). Found: tf.Tensor(\n[[[0.6888994  0.5363984  0.50536674 ... 0.20925668 0.7225254  0.18461734]\n  [0.41681027 0.7711873  0.55687183 ... 0.88645214 0.73807186 0.96231574]\n  [0.74895    0.21239337 0.78249013 ... 0.77106947 0.5875087  0.6638409 ]\n  ...\n  [0.7975333  0.4263636  0.20540118 ... 0.5338001  0.39993593 0.943759  ]\n  [0.8623851  0.546063   0.32038626 ... 0.3158327  0.9578311  0.8038364 ]\n  [0.19556555 0.32256767 0.16199128 ... 0.11086425 0.45489293 0.410617  ]]], shape=(1, 10, 768), dtype=float32)",
     "output_type": "error",
     "traceback": [
      "\u001b[0;31m---------------------------------------------------------------------------\u001b[0m",
      "\u001b[0;31mValueError\u001b[0m                                Traceback (most recent call last)",
      "\u001b[0;32m/tmp/ipykernel_49/1420703667.py\u001b[0m in \u001b[0;36m<module>\u001b[0;34m\u001b[0m\n\u001b[1;32m      8\u001b[0m \u001b[0mDROPOUT\u001b[0m \u001b[0;34m=\u001b[0m \u001b[0;36m0.1\u001b[0m \u001b[0;31m# 드롭아웃의 비율\u001b[0m\u001b[0;34m\u001b[0m\u001b[0;34m\u001b[0m\u001b[0m\n\u001b[1;32m      9\u001b[0m \u001b[0;34m\u001b[0m\u001b[0m\n\u001b[0;32m---> 10\u001b[0;31m model = gpt1(\n\u001b[0m\u001b[1;32m     11\u001b[0m     \u001b[0mvocab_size\u001b[0m\u001b[0;34m=\u001b[0m\u001b[0mVOCAB_SIZE\u001b[0m\u001b[0;34m,\u001b[0m\u001b[0;34m\u001b[0m\u001b[0;34m\u001b[0m\u001b[0m\n\u001b[1;32m     12\u001b[0m     \u001b[0mnum_layers\u001b[0m\u001b[0;34m=\u001b[0m\u001b[0mNUM_LAYERS\u001b[0m\u001b[0;34m,\u001b[0m\u001b[0;34m\u001b[0m\u001b[0;34m\u001b[0m\u001b[0m\n",
      "\u001b[0;32m/tmp/ipykernel_49/3400843704.py\u001b[0m in \u001b[0;36mgpt1\u001b[0;34m(vocab_size, num_layers, units, d_model, num_heads, dropout, name)\u001b[0m\n\u001b[1;32m     33\u001b[0m   )(inputs=[inputs, look_ahead_mask, dec_padding_mask])\n\u001b[1;32m     34\u001b[0m \u001b[0;34m\u001b[0m\u001b[0m\n\u001b[0;32m---> 35\u001b[0;31m   \u001b[0;32mreturn\u001b[0m \u001b[0mtf\u001b[0m\u001b[0;34m.\u001b[0m\u001b[0mkeras\u001b[0m\u001b[0;34m.\u001b[0m\u001b[0mModel\u001b[0m\u001b[0;34m(\u001b[0m\u001b[0minputs\u001b[0m\u001b[0;34m=\u001b[0m\u001b[0;34m[\u001b[0m\u001b[0minputs\u001b[0m\u001b[0;34m,\u001b[0m \u001b[0mdec_inputs\u001b[0m\u001b[0;34m]\u001b[0m\u001b[0;34m,\u001b[0m \u001b[0moutputs\u001b[0m\u001b[0;34m=\u001b[0m\u001b[0moutputs\u001b[0m\u001b[0;34m,\u001b[0m \u001b[0mname\u001b[0m\u001b[0;34m=\u001b[0m\u001b[0mname\u001b[0m\u001b[0;34m)\u001b[0m\u001b[0;34m\u001b[0m\u001b[0;34m\u001b[0m\u001b[0m\n\u001b[0m",
      "\u001b[0;32m/opt/conda/lib/python3.9/site-packages/tensorflow/python/training/tracking/base.py\u001b[0m in \u001b[0;36m_method_wrapper\u001b[0;34m(self, *args, **kwargs)\u001b[0m\n\u001b[1;32m    528\u001b[0m     \u001b[0mself\u001b[0m\u001b[0;34m.\u001b[0m\u001b[0m_self_setattr_tracking\u001b[0m \u001b[0;34m=\u001b[0m \u001b[0;32mFalse\u001b[0m  \u001b[0;31m# pylint: disable=protected-access\u001b[0m\u001b[0;34m\u001b[0m\u001b[0;34m\u001b[0m\u001b[0m\n\u001b[1;32m    529\u001b[0m     \u001b[0;32mtry\u001b[0m\u001b[0;34m:\u001b[0m\u001b[0;34m\u001b[0m\u001b[0;34m\u001b[0m\u001b[0m\n\u001b[0;32m--> 530\u001b[0;31m       \u001b[0mresult\u001b[0m \u001b[0;34m=\u001b[0m \u001b[0mmethod\u001b[0m\u001b[0;34m(\u001b[0m\u001b[0mself\u001b[0m\u001b[0;34m,\u001b[0m \u001b[0;34m*\u001b[0m\u001b[0margs\u001b[0m\u001b[0;34m,\u001b[0m \u001b[0;34m**\u001b[0m\u001b[0mkwargs\u001b[0m\u001b[0;34m)\u001b[0m\u001b[0;34m\u001b[0m\u001b[0;34m\u001b[0m\u001b[0m\n\u001b[0m\u001b[1;32m    531\u001b[0m     \u001b[0;32mfinally\u001b[0m\u001b[0;34m:\u001b[0m\u001b[0;34m\u001b[0m\u001b[0;34m\u001b[0m\u001b[0m\n\u001b[1;32m    532\u001b[0m       \u001b[0mself\u001b[0m\u001b[0;34m.\u001b[0m\u001b[0m_self_setattr_tracking\u001b[0m \u001b[0;34m=\u001b[0m \u001b[0mprevious_value\u001b[0m  \u001b[0;31m# pylint: disable=protected-access\u001b[0m\u001b[0;34m\u001b[0m\u001b[0;34m\u001b[0m\u001b[0m\n",
      "\u001b[0;32m/opt/conda/lib/python3.9/site-packages/keras/engine/functional.py\u001b[0m in \u001b[0;36m__init__\u001b[0;34m(self, inputs, outputs, name, trainable, **kwargs)\u001b[0m\n\u001b[1;32m    107\u001b[0m     \u001b[0mgeneric_utils\u001b[0m\u001b[0;34m.\u001b[0m\u001b[0mvalidate_kwargs\u001b[0m\u001b[0;34m(\u001b[0m\u001b[0mkwargs\u001b[0m\u001b[0;34m,\u001b[0m \u001b[0;34m{\u001b[0m\u001b[0;34m}\u001b[0m\u001b[0;34m)\u001b[0m\u001b[0;34m\u001b[0m\u001b[0;34m\u001b[0m\u001b[0m\n\u001b[1;32m    108\u001b[0m     \u001b[0msuper\u001b[0m\u001b[0;34m(\u001b[0m\u001b[0mFunctional\u001b[0m\u001b[0;34m,\u001b[0m \u001b[0mself\u001b[0m\u001b[0;34m)\u001b[0m\u001b[0;34m.\u001b[0m\u001b[0m__init__\u001b[0m\u001b[0;34m(\u001b[0m\u001b[0mname\u001b[0m\u001b[0;34m=\u001b[0m\u001b[0mname\u001b[0m\u001b[0;34m,\u001b[0m \u001b[0mtrainable\u001b[0m\u001b[0;34m=\u001b[0m\u001b[0mtrainable\u001b[0m\u001b[0;34m)\u001b[0m\u001b[0;34m\u001b[0m\u001b[0;34m\u001b[0m\u001b[0m\n\u001b[0;32m--> 109\u001b[0;31m     \u001b[0mself\u001b[0m\u001b[0;34m.\u001b[0m\u001b[0m_init_graph_network\u001b[0m\u001b[0;34m(\u001b[0m\u001b[0minputs\u001b[0m\u001b[0;34m,\u001b[0m \u001b[0moutputs\u001b[0m\u001b[0;34m)\u001b[0m\u001b[0;34m\u001b[0m\u001b[0;34m\u001b[0m\u001b[0m\n\u001b[0m\u001b[1;32m    110\u001b[0m \u001b[0;34m\u001b[0m\u001b[0m\n\u001b[1;32m    111\u001b[0m   \u001b[0;34m@\u001b[0m\u001b[0mtf\u001b[0m\u001b[0;34m.\u001b[0m\u001b[0m__internal__\u001b[0m\u001b[0;34m.\u001b[0m\u001b[0mtracking\u001b[0m\u001b[0;34m.\u001b[0m\u001b[0mno_automatic_dependency_tracking\u001b[0m\u001b[0;34m\u001b[0m\u001b[0;34m\u001b[0m\u001b[0m\n",
      "\u001b[0;32m/opt/conda/lib/python3.9/site-packages/tensorflow/python/training/tracking/base.py\u001b[0m in \u001b[0;36m_method_wrapper\u001b[0;34m(self, *args, **kwargs)\u001b[0m\n\u001b[1;32m    528\u001b[0m     \u001b[0mself\u001b[0m\u001b[0;34m.\u001b[0m\u001b[0m_self_setattr_tracking\u001b[0m \u001b[0;34m=\u001b[0m \u001b[0;32mFalse\u001b[0m  \u001b[0;31m# pylint: disable=protected-access\u001b[0m\u001b[0;34m\u001b[0m\u001b[0;34m\u001b[0m\u001b[0m\n\u001b[1;32m    529\u001b[0m     \u001b[0;32mtry\u001b[0m\u001b[0;34m:\u001b[0m\u001b[0;34m\u001b[0m\u001b[0;34m\u001b[0m\u001b[0m\n\u001b[0;32m--> 530\u001b[0;31m       \u001b[0mresult\u001b[0m \u001b[0;34m=\u001b[0m \u001b[0mmethod\u001b[0m\u001b[0;34m(\u001b[0m\u001b[0mself\u001b[0m\u001b[0;34m,\u001b[0m \u001b[0;34m*\u001b[0m\u001b[0margs\u001b[0m\u001b[0;34m,\u001b[0m \u001b[0;34m**\u001b[0m\u001b[0mkwargs\u001b[0m\u001b[0;34m)\u001b[0m\u001b[0;34m\u001b[0m\u001b[0;34m\u001b[0m\u001b[0m\n\u001b[0m\u001b[1;32m    531\u001b[0m     \u001b[0;32mfinally\u001b[0m\u001b[0;34m:\u001b[0m\u001b[0;34m\u001b[0m\u001b[0;34m\u001b[0m\u001b[0m\n\u001b[1;32m    532\u001b[0m       \u001b[0mself\u001b[0m\u001b[0;34m.\u001b[0m\u001b[0m_self_setattr_tracking\u001b[0m \u001b[0;34m=\u001b[0m \u001b[0mprevious_value\u001b[0m  \u001b[0;31m# pylint: disable=protected-access\u001b[0m\u001b[0;34m\u001b[0m\u001b[0;34m\u001b[0m\u001b[0m\n",
      "\u001b[0;32m/opt/conda/lib/python3.9/site-packages/keras/engine/functional.py\u001b[0m in \u001b[0;36m_init_graph_network\u001b[0;34m(self, inputs, outputs)\u001b[0m\n\u001b[1;32m    144\u001b[0m         \u001b[0mbase_layer_utils\u001b[0m\u001b[0;34m.\u001b[0m\u001b[0mcreate_keras_history\u001b[0m\u001b[0;34m(\u001b[0m\u001b[0mself\u001b[0m\u001b[0;34m.\u001b[0m\u001b[0m_nested_outputs\u001b[0m\u001b[0;34m)\u001b[0m\u001b[0;34m\u001b[0m\u001b[0;34m\u001b[0m\u001b[0m\n\u001b[1;32m    145\u001b[0m \u001b[0;34m\u001b[0m\u001b[0m\n\u001b[0;32m--> 146\u001b[0;31m     \u001b[0mself\u001b[0m\u001b[0;34m.\u001b[0m\u001b[0m_validate_graph_inputs_and_outputs\u001b[0m\u001b[0;34m(\u001b[0m\u001b[0;34m)\u001b[0m\u001b[0;34m\u001b[0m\u001b[0;34m\u001b[0m\u001b[0m\n\u001b[0m\u001b[1;32m    147\u001b[0m \u001b[0;34m\u001b[0m\u001b[0m\n\u001b[1;32m    148\u001b[0m     \u001b[0;31m# A Network does not create weights of its own, thus it is already\u001b[0m\u001b[0;34m\u001b[0m\u001b[0;34m\u001b[0m\u001b[0m\n",
      "\u001b[0;32m/opt/conda/lib/python3.9/site-packages/keras/engine/functional.py\u001b[0m in \u001b[0;36m_validate_graph_inputs_and_outputs\u001b[0;34m(self)\u001b[0m\n\u001b[1;32m    719\u001b[0m       \u001b[0;32mif\u001b[0m \u001b[0;32mnot\u001b[0m \u001b[0mhasattr\u001b[0m\u001b[0;34m(\u001b[0m\u001b[0mx\u001b[0m\u001b[0;34m,\u001b[0m \u001b[0;34m'_keras_history'\u001b[0m\u001b[0;34m)\u001b[0m\u001b[0;34m:\u001b[0m\u001b[0;34m\u001b[0m\u001b[0;34m\u001b[0m\u001b[0m\n\u001b[1;32m    720\u001b[0m         \u001b[0mcls_name\u001b[0m \u001b[0;34m=\u001b[0m \u001b[0mself\u001b[0m\u001b[0;34m.\u001b[0m\u001b[0m__class__\u001b[0m\u001b[0;34m.\u001b[0m\u001b[0m__name__\u001b[0m\u001b[0;34m\u001b[0m\u001b[0;34m\u001b[0m\u001b[0m\n\u001b[0;32m--> 721\u001b[0;31m         raise ValueError('Output tensors of a ' + cls_name + ' model must be '\n\u001b[0m\u001b[1;32m    722\u001b[0m                          \u001b[0;34m'the output of a TensorFlow `Layer` '\u001b[0m\u001b[0;34m\u001b[0m\u001b[0;34m\u001b[0m\u001b[0m\n\u001b[1;32m    723\u001b[0m                          '(thus holding past layer metadata). Found: ' + str(x))\n",
      "\u001b[0;31mValueError\u001b[0m: Output tensors of a Functional model must be the output of a TensorFlow `Layer` (thus holding past layer metadata). Found: tf.Tensor(\n[[[0.6888994  0.5363984  0.50536674 ... 0.20925668 0.7225254  0.18461734]\n  [0.41681027 0.7711873  0.55687183 ... 0.88645214 0.73807186 0.96231574]\n  [0.74895    0.21239337 0.78249013 ... 0.77106947 0.5875087  0.6638409 ]\n  ...\n  [0.7975333  0.4263636  0.20540118 ... 0.5338001  0.39993593 0.943759  ]\n  [0.8623851  0.546063   0.32038626 ... 0.3158327  0.9578311  0.8038364 ]\n  [0.19556555 0.32256767 0.16199128 ... 0.11086425 0.45489293 0.410617  ]]], shape=(1, 10, 768), dtype=float32)"
     ]
    }
   ],
   "source": [
    "tf.keras.backend.clear_session()\n",
    "\n",
    "# 하이퍼파라미터\n",
    "NUM_LAYERS = 2 # 디코더의 층의 개수\n",
    "D_MODEL = 256 #  입, 출력의 고정 차원\n",
    "NUM_HEADS = 8 # 멀티 헤드 어텐션에서의 헤드 수 \n",
    "UNITS = 512 # 피드 포워드 신경망의 은닉층의 크기\n",
    "DROPOUT = 0.1 # 드롭아웃의 비율\n",
    "\n",
    "model = gpt1(\n",
    "    vocab_size=VOCAB_SIZE,\n",
    "    num_layers=NUM_LAYERS,\n",
    "    units=UNITS,\n",
    "    d_model=D_MODEL,\n",
    "    num_heads=NUM_HEADS,\n",
    "    dropout=DROPOUT)\n",
    "\n",
    "model.summary()"
   ]
  },
  {
   "cell_type": "code",
   "execution_count": null,
   "id": "c9921210",
   "metadata": {},
   "outputs": [],
   "source": []
  },
  {
   "cell_type": "code",
   "execution_count": null,
   "id": "dbc2c6e1",
   "metadata": {},
   "outputs": [],
   "source": []
  }
 ],
 "metadata": {
  "kernelspec": {
   "display_name": "Python 3 (ipykernel)",
   "language": "python",
   "name": "python3"
  },
  "language_info": {
   "codemirror_mode": {
    "name": "ipython",
    "version": 3
   },
   "file_extension": ".py",
   "mimetype": "text/x-python",
   "name": "python",
   "nbconvert_exporter": "python",
   "pygments_lexer": "ipython3",
   "version": "3.9.7"
  }
 },
 "nbformat": 4,
 "nbformat_minor": 5
}
