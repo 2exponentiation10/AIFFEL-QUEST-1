{
 "cells": [
  {
   "cell_type": "code",
   "execution_count": null,
   "id": "370f6f36",
   "metadata": {},
   "outputs": [],
   "source": []
  },
  {
   "cell_type": "code",
   "execution_count": 1,
   "id": "5009abe2",
   "metadata": {
    "scrolled": true
   },
   "outputs": [
    {
     "name": "stdout",
     "output_type": "stream",
     "text": [
      "0.5.2\n",
      "4.1.2\n",
      "1.0\n",
      "0.11.2\n"
     ]
    }
   ],
   "source": [
    "import konlpy\n",
    "import gensim\n",
    "import sklearn\n",
    "import seaborn\n",
    "\n",
    "print(konlpy.__version__)\n",
    "print(gensim.__version__)\n",
    "print(sklearn.__version__)\n",
    "print(seaborn.__version__)"
   ]
  },
  {
   "cell_type": "markdown",
   "id": "b8ee44f8",
   "metadata": {},
   "source": [
    "### 루브릭\n",
    "\n",
    "1. 주어진 영화 코퍼스를 바탕으로 워드임베딩 모델을 정상적으로 만들었다.\n",
    "- 워드임베딩의 most_similar() 메소드 결과가 의미상 바르게 나왔다.\n",
    "\n",
    "2. 영화 구분, 장르별로 target, attribute에 대한 대표성있는 단어 셋을 생성하였다.\n",
    "- 타당한 방법론을 통해 중복이 잘 제거되고 개념축을 의미적으로 잘 대표하는 단어 셋이 만들어졌다.\n",
    "\n",
    "3. WEAT score 계산 및 시각화를 정상적으로 진행하였다.\n",
    "- 전체 영화 장르별로 예술/일반 영화에 대한 편향성 WEAT score가 상식에 부합하는 수치로 얻어졌으며 이를 잘 시각화하였다."
   ]
  },
  {
   "cell_type": "markdown",
   "id": "1e752707",
   "metadata": {},
   "source": [
    "# STEP 1. 형태소 분석기를 이용하여 품사가 명사인 경우 해당 단어를 추출하기"
   ]
  },
  {
   "cell_type": "code",
   "execution_count": 6,
   "id": "66ec8917",
   "metadata": {},
   "outputs": [],
   "source": [
    "#synopsis.txt 파일을 읽어 품사가 명사인 경우만 남겨 tokenized라는 변수명으로 저장\n",
    "from konlpy.tag import Okt\n",
    "okt = Okt()\n",
    "tokenized = []\n",
    "with open(os.getenv('HOME')+'/aiffel/weat/synopsis.txt', 'r') as file:\n",
    "    while True:\n",
    "        line = file.readline()\n",
    "        if not line: break\n",
    "        words = okt.pos(line, stem=True, norm=True)\n",
    "        res = []\n",
    "        for w in words:\n",
    "            if w[1] in [\"Noun\"]:      # \"Adjective\", \"Verb\" 등을 포함할 수도 있습니다.\n",
    "                res.append(w[0])    # 명사일 때만 tokenized 에 저장하게 됩니다. \n",
    "        tokenized.append(res)"
   ]
  },
  {
   "cell_type": "code",
   "execution_count": 7,
   "id": "7951b201",
   "metadata": {},
   "outputs": [
    {
     "name": "stdout",
     "output_type": "stream",
     "text": [
      "71156\n"
     ]
    }
   ],
   "source": [
    "print(len(tokenized))"
   ]
  },
  {
   "cell_type": "markdown",
   "id": "c5c24e10",
   "metadata": {},
   "source": [
    "# STEP 2. 추출된 결과로 embedding model 만들기"
   ]
  },
  {
   "cell_type": "code",
   "execution_count": 8,
   "id": "35c2ab25",
   "metadata": {},
   "outputs": [
    {
     "data": {
      "text/plain": [
       "[('작품', 0.9006224870681763),\n",
       " ('다큐멘터리', 0.8679867386817932),\n",
       " ('드라마', 0.8279436230659485),\n",
       " ('영화로', 0.8149978518486023),\n",
       " ('에마데딘', 0.7934910655021667),\n",
       " ('코미디', 0.7823933959007263),\n",
       " ('설정', 0.781464159488678),\n",
       " ('형식', 0.7791704535484314),\n",
       " ('감동', 0.7783337831497192),\n",
       " ('주제', 0.7728832960128784)]"
      ]
     },
     "execution_count": 8,
     "metadata": {},
     "output_type": "execute_result"
    }
   ],
   "source": [
    "from gensim.models import Word2Vec\n",
    "\n",
    "# tokenized에 담긴 데이터를 가지고 나만의 Word2Vec을 생성합니다. (Gensim 4.0 기준)\n",
    "model = Word2Vec(tokenized, vector_size=100, window=5, min_count=3, sg=0)  \n",
    "model.wv.most_similar(positive=['영화'])"
   ]
  },
  {
   "cell_type": "markdown",
   "id": "2a9b1187",
   "metadata": {},
   "source": [
    "# STEP 3. target, attribute 단어 셋 만들기"
   ]
  },
  {
   "cell_type": "markdown",
   "id": "9df43ee0",
   "metadata": {},
   "source": [
    "## 3-1) 모든 장르, 영화 구분 명사 추출 토큰화"
   ]
  },
  {
   "cell_type": "code",
   "execution_count": 4,
   "id": "cc8d8815",
   "metadata": {},
   "outputs": [],
   "source": [
    "#명사에 대해서만 추출하는 함수\n",
    "import os\n",
    "from sklearn.feature_extraction.text import TfidfVectorizer\n",
    "import numpy as np\n",
    "from konlpy.tag import Okt\n",
    "\n",
    "def read_token(file_name):\n",
    "    okt = Okt()\n",
    "    result = []\n",
    "    with open(os.getenv('HOME')+'/aiffel/weat/'+file_name, 'r') as fread: \n",
    "        print(file_name, '파일을 읽고 있습니다.')\n",
    "        while True:\n",
    "            line = fread.readline() \n",
    "            if not line: break \n",
    "            tokenlist = okt.pos(line, stem=True, norm=True) \n",
    "            for word in tokenlist:\n",
    "                if word[1] in [\"Noun\"]:#, \"Adjective\", \"Verb\"]:\n",
    "                    result.append((word[0])) \n",
    "    return ' '.join(result)"
   ]
  },
  {
   "cell_type": "markdown",
   "id": "1e08bdc2",
   "metadata": {},
   "source": [
    "### 영화 구분 토큰화"
   ]
  },
  {
   "cell_type": "code",
   "execution_count": 9,
   "id": "be06c0da",
   "metadata": {},
   "outputs": [],
   "source": [
    "#모든 영화 구분과 파일 이름\n",
    "film_text = ['synopsis_art.txt', 'synopsis_gen.txt']\n",
    "film_name = ['예술영화','일반영화']\n",
    "\n"
   ]
  },
  {
   "cell_type": "code",
   "execution_count": 10,
   "id": "e6e622d0",
   "metadata": {},
   "outputs": [
    {
     "name": "stdout",
     "output_type": "stream",
     "text": [
      "synopsis_art.txt 파일을 읽고 있습니다.\n",
      "synopsis_gen.txt 파일을 읽고 있습니다.\n"
     ]
    }
   ],
   "source": [
    "#모든 장르에 대해 명사 추출 후 딕셔너리에 저장\n",
    "synopsises_film = { i:read_token(j) for i,j in zip(film_name, film_text)}"
   ]
  },
  {
   "cell_type": "markdown",
   "id": "ca37607f",
   "metadata": {},
   "source": [
    "### 모든 장르 토큰화"
   ]
  },
  {
   "cell_type": "code",
   "execution_count": 3,
   "id": "c739a262",
   "metadata": {},
   "outputs": [],
   "source": [
    "#모든 장르와 파일 이름 가져오기\n",
    "genre_txt = ['synopsis_SF.txt', 'synopsis_family.txt', 'synopsis_show.txt', 'synopsis_horror.txt', 'synopsis_etc.txt', \n",
    "             'synopsis_documentary.txt', 'synopsis_drama.txt', 'synopsis_romance.txt', 'synopsis_musical.txt', \n",
    "             'synopsis_mystery.txt', 'synopsis_crime.txt', 'synopsis_historical.txt', 'synopsis_western.txt', \n",
    "             'synopsis_adult.txt', 'synopsis_thriller.txt', 'synopsis_animation.txt', 'synopsis_action.txt', \n",
    "             'synopsis_adventure.txt', 'synopsis_war.txt', 'synopsis_comedy.txt', 'synopsis_fantasy.txt']\n",
    "\n",
    "genre_name = ['SF', '가족', '공연', '공포(호러)', '기타', '다큐멘터리', '드라마', '멜로로맨스', '뮤지컬', '미스터리', '범죄', '사극', '서부극(웨스턴)',\n",
    "         '성인물(에로)', '스릴러', '애니메이션', '액션', '어드벤처', '전쟁', '코미디', '판타지']"
   ]
  },
  {
   "cell_type": "code",
   "execution_count": 5,
   "id": "cf108dd0",
   "metadata": {
    "scrolled": true
   },
   "outputs": [
    {
     "name": "stdout",
     "output_type": "stream",
     "text": [
      "synopsis_SF.txt 파일을 읽고 있습니다.\n",
      "synopsis_family.txt 파일을 읽고 있습니다.\n",
      "synopsis_show.txt 파일을 읽고 있습니다.\n",
      "synopsis_horror.txt 파일을 읽고 있습니다.\n",
      "synopsis_etc.txt 파일을 읽고 있습니다.\n",
      "synopsis_documentary.txt 파일을 읽고 있습니다.\n",
      "synopsis_drama.txt 파일을 읽고 있습니다.\n",
      "synopsis_romance.txt 파일을 읽고 있습니다.\n",
      "synopsis_musical.txt 파일을 읽고 있습니다.\n",
      "synopsis_mystery.txt 파일을 읽고 있습니다.\n",
      "synopsis_crime.txt 파일을 읽고 있습니다.\n",
      "synopsis_historical.txt 파일을 읽고 있습니다.\n",
      "synopsis_western.txt 파일을 읽고 있습니다.\n",
      "synopsis_adult.txt 파일을 읽고 있습니다.\n",
      "synopsis_thriller.txt 파일을 읽고 있습니다.\n",
      "synopsis_animation.txt 파일을 읽고 있습니다.\n",
      "synopsis_action.txt 파일을 읽고 있습니다.\n",
      "synopsis_adventure.txt 파일을 읽고 있습니다.\n",
      "synopsis_war.txt 파일을 읽고 있습니다.\n",
      "synopsis_comedy.txt 파일을 읽고 있습니다.\n",
      "synopsis_fantasy.txt 파일을 읽고 있습니다.\n"
     ]
    }
   ],
   "source": [
    "#모든 장르에 대해 명사 추출 후 딕셔너리에 저장\n",
    "synopsises = { i:read_token(j) for i,j in zip(genre_name, genre_txt)}"
   ]
  },
  {
   "cell_type": "markdown",
   "id": "7b292314",
   "metadata": {},
   "source": [
    "# STEP 3. target, attribute 단어 셋 만들기"
   ]
  },
  {
   "cell_type": "markdown",
   "id": "a5b0fc12",
   "metadata": {},
   "source": [
    "## 3-1) TF-IDF 및 대표단어 추출"
   ]
  },
  {
   "cell_type": "markdown",
   "id": "2ff5204c",
   "metadata": {},
   "source": [
    "### 영화 구분 별 TF-IDF, 대표단어 추출"
   ]
  },
  {
   "cell_type": "code",
   "execution_count": 29,
   "id": "b9e85908",
   "metadata": {
    "scrolled": true
   },
   "outputs": [
    {
     "name": "stdout",
     "output_type": "stream",
     "text": [
      "(2, 41082)\n"
     ]
    }
   ],
   "source": [
    "from sklearn.feature_extraction.text import TfidfVectorizer\n",
    "\n",
    "vectorizer = TfidfVectorizer()\n",
    "X = vectorizer.fit_transform(synopsises_film.values())\n",
    "\n",
    "print(X.shape)"
   ]
  },
  {
   "cell_type": "code",
   "execution_count": 30,
   "id": "28ab228c",
   "metadata": {},
   "outputs": [],
   "source": [
    "m1 = X[0].tocoo()   # art를 TF-IDF로 표현한 sparse matrix를 가져옵니다. \n",
    "m2 = X[1].tocoo()   # gen을 TF-IDF로 표현한 sparse matrix를 가져옵니다. \n",
    "\n",
    "w1 = [[i, j] for i, j in zip(m1.col, m1.data)]\n",
    "w2 = [[i, j] for i, j in zip(m2.col, m2.data)]"
   ]
  },
  {
   "cell_type": "code",
   "execution_count": 31,
   "id": "e4b33f70",
   "metadata": {},
   "outputs": [],
   "source": [
    "n = 15\n",
    "w1_, w2_ = [], []\n",
    "for i in range(100):\n",
    "    w1_.append(vectorizer.get_feature_names()[w1[i][0]])\n",
    "    w2_.append(vectorizer.get_feature_names()[w2[i][0]])\n",
    "\n",
    "# w1에만 있고 w2에는 없는, 예술영화를 잘 대표하는 단어를 15개 추출한다.\n",
    "target_art, target_gen = [], []\n",
    "for i in range(100):\n",
    "    if (w1_[i] not in w2_) and (w1_[i] in model.wv): target_art.append(w1_[i])\n",
    "    if len(target_art) == n: break \n",
    "\n",
    "# w2에만 있고 w1에는 없는, 일반영화를 잘 대표하는 단어를 15개 추출한다.\n",
    "for i in range(100):\n",
    "    if (w2_[i] not in w1_) and (w2_[i] in model.wv): target_gen.append(w2_[i])\n",
    "    if len(target_gen) == n: break"
   ]
  },
  {
   "cell_type": "code",
   "execution_count": 32,
   "id": "15c0348c",
   "metadata": {},
   "outputs": [
    {
     "name": "stdout",
     "output_type": "stream",
     "text": [
      "['오비', '좇는다', '역사학자', '북간도', '스파르타', '애착', '파이프', '갱도', '메탄가스', '농법', '생태계', '드레이크', '다프', '서퍼', '침잠']\n",
      "['나르시스', '진혜', '뿌우람', '빅샤크', '초파리', '브랜슨', '용훈', '에이헵', '등자', '더트백', '바버라', '강하늘', '간트', '아스왕']\n"
     ]
    }
   ],
   "source": [
    "print(target_art)\n",
    "print(target_gen)"
   ]
  },
  {
   "cell_type": "markdown",
   "id": "4e501cff",
   "metadata": {},
   "source": [
    "### 장르 별 TF-IDF, 대표단어 추출"
   ]
  },
  {
   "cell_type": "code",
   "execution_count": 33,
   "id": "c8b05647",
   "metadata": {},
   "outputs": [
    {
     "name": "stdout",
     "output_type": "stream",
     "text": [
      "(21, 42191)\n"
     ]
    }
   ],
   "source": [
    "vectorizer = TfidfVectorizer()\n",
    "X = vectorizer.fit_transform(synopsises.values())\n",
    "\n",
    "print(X.shape)"
   ]
  },
  {
   "cell_type": "code",
   "execution_count": 34,
   "id": "037e51b3",
   "metadata": {},
   "outputs": [
    {
     "name": "stdout",
     "output_type": "stream",
     "text": [
      "SF: 위해, 자신, 지구, 시작, 사람, 인류, 인간, 미래, 우주, 그녀, 로봇, 세계, 모든, 박사, 우주선, \n",
      "가족: 엄마, 아빠, 가족, 영화제, 자신, 위해, 친구, 아주르, 아버지, 시작, 그녀, 아들, 마을, 국제, 낙타, \n",
      "공연: 오페라, 사랑, 토스카, 실황, 올레, 자신, 카바, 그녀, 공연, 오텔로, 리골레토, 백작, 프레, 베르디, 위해, \n",
      "공포(호러): 시작, 위해, 사람, 자신, 친구, 그녀, 사건, 공포, 발견, 죽음, 마을, 가족, 악령, 남자, 좀비, \n",
      "기타: 영화제, 국제, 서울, 단편, 영화, 자신, 사람, 이야기, 그녀, 남자, 위해, 시작, 사랑, 뉴미디어, 페스티벌, \n",
      "다큐멘터리: 영화제, 영화, 다큐, 국제, 다큐멘터리, 사람, 이야기, 대한, 자신, 감독, 위해, 서울, 우리, 시작, 세계, \n",
      "드라마: 자신, 영화제, 그녀, 사람, 사랑, 영화, 위해, 시작, 국제, 남자, 친구, 이야기, 엄마, 여자, 아버지, \n",
      "멜로로맨스: 그녀, 사랑, 자신, 시작, 남편, 남자, 여자, 사람, 친구, 섹스, 위해, 마음, 결혼, 서로, 아내, \n",
      "뮤지컬: 뮤지컬, 사랑, 에스메랄다, 그녀, 음악, 충무로, 모차르트, 영화, 토스카, 자신, 니웨, 카바, 영화제, 바흐, 페뷔스, \n",
      "미스터리: 사건, 그녀, 시작, 자신, 위해, 사람, 발견, 사고, 진실, 죽음, 기억, 살인, 친구, 아내, 남자, \n",
      "범죄: 사건, 위해, 자신, 경찰, 시작, 그녀, 범죄, 조직, 살인, 사람, 마약, 형사, 남자, 모든, 살해, \n",
      "사극: 조선, 위해, 시작, 신기전, 사랑, 자신, 아가멤논, 황제, 그녀, 루안, 최고, 운명, 사람, 하선, 전쟁, \n",
      "서부극(웨스턴): 서부, 보안관, 위해, 벌린, 카우보이, 그레이프바인, 헨리, 마을, 자신, 개릿, 아이, 시작, 무법자, 프린트, 마적, \n",
      "성인물(에로): 그녀, 남편, 마사지, 자신, 섹스, 관계, 영화, 정사, 남자, 위해, 시작, 여자, 유부녀, 마음, 사랑, \n",
      "스릴러: 자신, 그녀, 사건, 시작, 위해, 사람, 살인, 남자, 발견, 아내, 경찰, 친구, 모든, 사실, 살해, \n",
      "애니메이션: 애니메이션, 국제, 영화제, 친구, 인디애니페스트, 위해, 자신, 시작, 사람, 페스티벌, 서울, 이야기, 아이, 마을, 소녀, \n",
      "액션: 위해, 자신, 시작, 조직, 사건, 사람, 그녀, 경찰, 전쟁, 모든, 목숨, 사실, 친구, 가족, 요원, \n",
      "어드벤처: 위해, 자신, 시작, 친구, 마을, 아버지, 영화, 아이, 사람, 여행, 세계, 앤트, 세상, 가족, 모험, \n",
      "전쟁: 전쟁, 독일군, 전투, 위해, 작전, 시작, 부대, 윈터스, 독일, 연합군, 미군, 임무, 자신, 사람, 나치, \n",
      "코미디: 그녀, 자신, 시작, 위해, 사랑, 사람, 친구, 영화, 남자, 여자, 영화제, 가족, 과연, 마을, 사건, \n",
      "판타지: 자신, 그녀, 시작, 위해, 사람, 사랑, 요괴, 영화제, 이야기, 영화, 소녀, 남자, 인간, 세상, 마을, \n"
     ]
    }
   ],
   "source": [
    "m = [X[i].tocoo() for i in range(X.shape[0])]\n",
    "\n",
    "w = [[[i, j] for i, j in zip(mm.col, mm.data)] for mm in m]\n",
    "\n",
    "for i in range(len(w)):\n",
    "    w[i].sort(key=lambda x: x[1], reverse=True)\n",
    "attributes = []\n",
    "for i in range(len(w)):\n",
    "    print(genre_name[i], end=': ')\n",
    "    attr = []\n",
    "    j = 0\n",
    "    while (len(attr) < 15):\n",
    "        if vectorizer.get_feature_names()[w[i][j][0]] in model.wv:\n",
    "            attr.append(vectorizer.get_feature_names()[w[i][j][0]])\n",
    "            print(vectorizer.get_feature_names()[w[i][j][0]], end=', ')\n",
    "        j += 1\n",
    "    attributes.append(attr)\n",
    "    print()"
   ]
  },
  {
   "cell_type": "markdown",
   "id": "bf8d9f64",
   "metadata": {},
   "source": [
    "# STEP 4. WEAT score 계산과 시각화"
   ]
  },
  {
   "cell_type": "code",
   "execution_count": 45,
   "id": "81dd9afc",
   "metadata": {},
   "outputs": [],
   "source": [
    "import numpy as np\n",
    "from numpy import dot\n",
    "from numpy.linalg import norm"
   ]
  },
  {
   "cell_type": "code",
   "execution_count": 46,
   "id": "7acb357b",
   "metadata": {},
   "outputs": [],
   "source": [
    "def cos_sim(i, j):\n",
    "    return dot(i, j.T)/(norm(i)*norm(j))\n",
    "\n",
    "def s(w, A, B):\n",
    "    c_a = cos_sim(w, A)\n",
    "    c_b = cos_sim(w, B)\n",
    "    mean_A = np.mean(c_a, axis=-1)\n",
    "    mean_B = np.mean(c_b, axis=-1)\n",
    "    return mean_A - mean_B #, c_a, c_b"
   ]
  },
  {
   "cell_type": "code",
   "execution_count": 48,
   "id": "bdad0966",
   "metadata": {},
   "outputs": [],
   "source": [
    "def weat_score(X, Y, A, B):\n",
    "    \n",
    "    s_X = s(X, A, B)\n",
    "    s_Y = s(Y, A, B)\n",
    "\n",
    "    mean_X = np.mean(s_X)\n",
    "    mean_Y = np.mean(s_Y)\n",
    "    \n",
    "    std_dev = np.std(np.concatenate([s_X, s_Y], axis=0))\n",
    "    \n",
    "    return  (mean_X-mean_Y)/std_dev"
   ]
  },
  {
   "cell_type": "code",
   "execution_count": 49,
   "id": "894824d9",
   "metadata": {},
   "outputs": [],
   "source": [
    "matrix = [[0 for _ in range(len(genre_name))] for _ in range(len(genre_name))]"
   ]
  },
  {
   "cell_type": "code",
   "execution_count": 50,
   "id": "f52e2960",
   "metadata": {},
   "outputs": [],
   "source": [
    "X = np.array([model.wv[word] for word in target_art])\n",
    "Y = np.array([model.wv[word] for word in target_gen])\n",
    "\n",
    "for i in range(len(genre_name)-1):\n",
    "    for j in range(i+1, len(genre_name)):\n",
    "        A = np.array([model.wv[word] for word in attributes[i]])\n",
    "        B = np.array([model.wv[word] for word in attributes[j]])\n",
    "        matrix[i][j] = weat_score(X, Y, A, B)"
   ]
  },
  {
   "cell_type": "code",
   "execution_count": 51,
   "id": "a3003c40",
   "metadata": {},
   "outputs": [
    {
     "name": "stdout",
     "output_type": "stream",
     "text": [
      "SF 가족 0.17788947\n",
      "SF 공연 0.12504694\n",
      "SF 공포(호러) 0.15298277\n",
      "SF 기타 -0.13131419\n",
      "SF 다큐멘터리 -0.510848\n",
      "SF 드라마 0.027863149\n",
      "SF 멜로로맨스 0.18655214\n",
      "SF 뮤지컬 -0.19060487\n",
      "SF 미스터리 0.24181284\n",
      "SF 범죄 0.4188947\n",
      "SF 사극 -0.02864942\n",
      "SF 서부극(웨스턴) 0.0849639\n",
      "SF 성인물(에로) 0.18873629\n",
      "SF 스릴러 0.32058868\n",
      "SF 애니메이션 -0.12963638\n",
      "SF 액션 0.26435724\n",
      "SF 어드벤처 -0.2819344\n",
      "SF 전쟁 -0.012955714\n",
      "SF 코미디 0.013406085\n",
      "SF 판타지 -0.152209\n",
      "가족 공연 -0.13899615\n",
      "가족 공포(호러) -0.030010838\n",
      "가족 기타 -0.42915902\n",
      "가족 다큐멘터리 -0.5729756\n",
      "가족 드라마 -0.41289324\n",
      "가족 멜로로맨스 0.15864126\n",
      "가족 뮤지컬 -0.5325206\n",
      "가족 미스터리 0.20431325\n",
      "가족 범죄 0.50068367\n",
      "가족 사극 -0.4935334\n",
      "가족 서부극(웨스턴) -0.3110423\n",
      "가족 성인물(에로) 0.16384672\n",
      "가족 스릴러 0.41048643\n",
      "가족 애니메이션 -0.43541163\n",
      "가족 액션 0.12824415\n",
      "가족 어드벤처 -0.93234354\n",
      "가족 전쟁 -0.18586628\n",
      "가족 코미디 -0.42812607\n",
      "가족 판타지 -0.59828687\n",
      "공연 공포(호러) 0.052292112\n",
      "공연 기타 -0.44575623\n",
      "공연 다큐멘터리 -0.5734854\n",
      "공연 드라마 -0.22189307\n",
      "공연 멜로로맨스 0.18827616\n",
      "공연 뮤지컬 -0.61944234\n",
      "공연 미스터리 0.22425173\n",
      "공연 범죄 0.5490779\n",
      "공연 사극 -0.39561054\n",
      "공연 서부극(웨스턴) -0.10435972\n",
      "공연 성인물(에로) 0.20149106\n",
      "공연 스릴러 0.39996943\n",
      "공연 애니메이션 -0.41588816\n",
      "공연 액션 0.19472587\n",
      "공연 어드벤처 -0.6596519\n",
      "공연 전쟁 -0.15631633\n",
      "공연 코미디 -0.23802984\n",
      "공연 판타지 -0.44187286\n",
      "공포(호러) 기타 -0.28807575\n",
      "공포(호러) 다큐멘터리 -0.47722733\n",
      "공포(호러) 드라마 -0.28460497\n",
      "공포(호러) 멜로로맨스 0.21995422\n",
      "공포(호러) 뮤지컬 -0.3716288\n",
      "공포(호러) 미스터리 0.6130308\n",
      "공포(호러) 범죄 0.5790611\n",
      "공포(호러) 사극 -0.41708305\n",
      "공포(호러) 서부극(웨스턴) -0.1762589\n",
      "공포(호러) 성인물(에로) 0.21407712\n",
      "공포(호러) 스릴러 0.7220074\n",
      "공포(호러) 애니메이션 -0.27444184\n",
      "공포(호러) 액션 0.17468171\n",
      "공포(호러) 어드벤처 -1.0158762\n",
      "공포(호러) 전쟁 -0.13904767\n",
      "공포(호러) 코미디 -0.451499\n",
      "공포(호러) 판타지 -0.53730285\n",
      "기타 다큐멘터리 -0.61033636\n",
      "기타 드라마 0.23113252\n",
      "기타 멜로로맨스 0.31633687\n",
      "기타 뮤지컬 -0.29256964\n",
      "기타 미스터리 0.36756298\n",
      "기타 범죄 0.5524056\n",
      "기타 사극 0.14231543\n",
      "기타 서부극(웨스턴) 0.27817398\n",
      "기타 성인물(에로) 0.3392386\n",
      "기타 스릴러 0.46321613\n",
      "기타 애니메이션 0.039426506\n",
      "기타 액션 0.37338918\n",
      "기타 어드벤처 -0.18962963\n",
      "기타 전쟁 0.12604757\n",
      "기타 코미디 0.1785807\n",
      "기타 판타지 -0.0044742567\n",
      "다큐멘터리 드라마 0.45374563\n",
      "다큐멘터리 멜로로맨스 0.42721328\n",
      "다큐멘터리 뮤지컬 0.45383155\n",
      "다큐멘터리 미스터리 0.5106931\n",
      "다큐멘터리 범죄 0.6553082\n",
      "다큐멘터리 사극 0.42543972\n",
      "다큐멘터리 서부극(웨스턴) 0.47231346\n",
      "다큐멘터리 성인물(에로) 0.4480271\n",
      "다큐멘터리 스릴러 0.5681253\n",
      "다큐멘터리 애니메이션 0.56773686\n",
      "다큐멘터리 액션 0.54659516\n",
      "다큐멘터리 어드벤처 0.16361535\n",
      "다큐멘터리 전쟁 0.41020763\n",
      "다큐멘터리 코미디 0.40441275\n",
      "다큐멘터리 판타지 0.40809628\n",
      "드라마 멜로로맨스 0.38302192\n",
      "드라마 뮤지컬 -0.35719386\n",
      "드라마 미스터리 0.47532472\n",
      "드라마 범죄 0.60221887\n",
      "드라마 사극 -0.1255174\n",
      "드라마 서부극(웨스턴) 0.13821293\n",
      "드라마 성인물(에로) 0.4140151\n",
      "드라마 스릴러 0.6340362\n",
      "드라마 애니메이션 -0.20265171\n",
      "드라마 액션 0.31587029\n",
      "드라마 어드벤처 -0.76801044\n",
      "드라마 전쟁 -0.033621456\n",
      "드라마 코미디 -0.08402306\n",
      "드라마 판타지 -0.421459\n",
      "멜로로맨스 뮤지컬 -0.3800177\n",
      "멜로로맨스 미스터리 -0.022635339\n",
      "멜로로맨스 범죄 0.1624117\n",
      "멜로로맨스 사극 -0.3471517\n",
      "멜로로맨스 서부극(웨스턴) -0.25996187\n",
      "멜로로맨스 성인물(에로) 0.035662893\n",
      "멜로로맨스 스릴러 0.20883423\n",
      "멜로로맨스 애니메이션 -0.29902798\n",
      "멜로로맨스 액션 -0.078077815\n",
      "멜로로맨스 어드벤처 -0.61311257\n",
      "멜로로맨스 전쟁 -0.18204886\n",
      "멜로로맨스 코미디 -0.43727297\n",
      "멜로로맨스 판타지 -0.4234579\n",
      "뮤지컬 미스터리 0.44650856\n",
      "뮤지컬 범죄 0.6424127\n",
      "뮤지컬 사극 0.25849056\n",
      "뮤지컬 서부극(웨스턴) 0.38228258\n",
      "뮤지컬 성인물(에로) 0.40832713\n",
      "뮤지컬 스릴러 0.544591\n",
      "뮤지컬 애니메이션 0.19289292\n",
      "뮤지컬 액션 0.46108812\n",
      "뮤지컬 어드벤처 -0.12613302\n",
      "뮤지컬 전쟁 0.18370883\n",
      "뮤지컬 코미디 0.28403464\n",
      "뮤지컬 판타지 0.1096957\n",
      "미스터리 범죄 0.2952341\n",
      "미스터리 사극 -0.5298708\n",
      "미스터리 서부극(웨스턴) -0.3818388\n",
      "미스터리 성인물(에로) 0.031704284\n",
      "미스터리 스릴러 0.5500734\n",
      "미스터리 애니메이션 -0.35098305\n",
      "미스터리 액션 -0.11776704\n",
      "미스터리 어드벤처 -0.91838646\n",
      "미스터리 전쟁 -0.22289135\n",
      "미스터리 코미디 -0.65426445\n",
      "미스터리 판타지 -0.5877379\n",
      "범죄 사극 -0.899138\n",
      "범죄 서부극(웨스턴) -0.77922666\n",
      "범죄 성인물(에로) -0.14617425\n",
      "범죄 스릴러 -0.09093291\n",
      "범죄 애니메이션 -0.54423857\n",
      "범죄 액션 -0.8948185\n",
      "범죄 어드벤처 -0.944996\n",
      "범죄 전쟁 -0.4616898\n",
      "범죄 코미디 -0.73549324\n",
      "범죄 판타지 -0.7057974\n",
      "사극 서부극(웨스턴) 0.35378677\n",
      "사극 성인물(에로) 0.35096696\n",
      "사극 스릴러 0.6857114\n",
      "사극 애니메이션 -0.12711424\n",
      "사극 액션 0.66701335\n",
      "사극 어드벤처 -0.699431\n",
      "사극 전쟁 0.015968034\n",
      "사극 코미디 0.10250191\n",
      "사극 판타지 -0.25400025\n",
      "서부극(웨스턴) 성인물(에로) 0.26420948\n",
      "서부극(웨스턴) 스릴러 0.62300706\n",
      "서부극(웨스턴) 애니메이션 -0.27088785\n",
      "서부극(웨스턴) 액션 0.36317158\n",
      "서부극(웨스턴) 어드벤처 -0.83869404\n",
      "서부극(웨스턴) 전쟁 -0.09948272\n",
      "서부극(웨스턴) 코미디 -0.22542395\n",
      "서부극(웨스턴) 판타지 -0.40270203\n",
      "성인물(에로) 스릴러 0.16778292\n",
      "성인물(에로) 애니메이션 -0.31567577\n",
      "성인물(에로) 액션 -0.080704525\n",
      "성인물(에로) 어드벤처 -0.61527306\n",
      "성인물(에로) 전쟁 -0.1857579\n",
      "성인물(에로) 코미디 -0.45880255\n",
      "성인물(에로) 판타지 -0.44127607\n",
      "스릴러 애니메이션 -0.44786337\n",
      "스릴러 액션 -0.3617743\n",
      "스릴러 어드벤처 -0.94655627\n",
      "스릴러 전쟁 -0.31592548\n",
      "스릴러 코미디 -0.8312587\n",
      "스릴러 판타지 -0.6600667\n",
      "애니메이션 액션 0.3705222\n",
      "애니메이션 어드벤처 -0.19386797\n",
      "애니메이션 전쟁 0.12910104\n",
      "애니메이션 코미디 0.15872738\n",
      "애니메이션 판타지 -0.016340181\n",
      "액션 어드벤처 -0.8186976\n",
      "액션 전쟁 -0.27296245\n",
      "액션 코미디 -0.4004347\n",
      "액션 판타지 -0.5292778\n",
      "어드벤처 전쟁 0.22623874\n",
      "어드벤처 코미디 0.82216835\n",
      "어드벤처 판타지 0.51351553\n",
      "전쟁 코미디 0.020511832\n",
      "전쟁 판타지 -0.10789766\n",
      "코미디 판타지 -0.33987767\n"
     ]
    }
   ],
   "source": [
    "for i in range(len(genre_name)-1):\n",
    "    for j in range(i+1, len(genre_name)):\n",
    "        print(genre_name[i], genre_name[j],matrix[i][j])"
   ]
  },
  {
   "cell_type": "code",
   "execution_count": 60,
   "id": "08cdeecb",
   "metadata": {},
   "outputs": [
    {
     "data": {
      "text/plain": [
       "<AxesSubplot:>"
      ]
     },
     "execution_count": 60,
     "metadata": {},
     "output_type": "execute_result"
    },
    {
     "data": {
      "image/png": "[encoded data removed]",
      "text/plain": [
       "<Figure size 1800x1296 with 2 Axes>"
      ]
     },
     "metadata": {},
     "output_type": "display_data"
    }
   ],
   "source": [
    "import numpy as np; \n",
    "import seaborn as sns; \n",
    "import matplotlib.pyplot as plt\n",
    "\n",
    "np.random.seed(0)\n",
    "\n",
    "# 한글 지원 폰트\n",
    "sns.set(font='NanumGothic')\n",
    "plt.figure(figsize=(25, 18)) \n",
    "\n",
    "# 마이너스 부호 \n",
    "\n",
    "plt.rcParams['axes.unicode_minus'] = False\n",
    "\n",
    "ax = sns.heatmap(matrix, xticklabels=genre_name, yticklabels=genre_name,  cmap='RdYlGn_r')\n",
    "ax"
   ]
  },
  {
   "cell_type": "code",
   "execution_count": 54,
   "id": "fa230103",
   "metadata": {},
   "outputs": [],
   "source": [
    "# 타겟 단어 및 속성 단어 세트 정의\n",
    "target_words = ['남성', '여성']  # 남자, 여자 단어 사용 (복수형 제거)\n",
    "attribute_words = [['남자', '남성', '그는', '그의'], ['여자', '여성', '그녀', '그녀의']]  # 남/녀 관련 단어 추가"
   ]
  },
  {
   "cell_type": "code",
   "execution_count": null,
   "id": "dc433392",
   "metadata": {},
   "outputs": [],
   "source": []
  }
 ],
 "metadata": {
  "kernelspec": {
   "display_name": "Python 3 (ipykernel)",
   "language": "python",
   "name": "python3"
  },
  "language_info": {
   "codemirror_mode": {
    "name": "ipython",
    "version": 3
   },
   "file_extension": ".py",
   "mimetype": "text/x-python",
   "name": "python",
   "nbconvert_exporter": "python",
   "pygments_lexer": "ipython3",
   "version": "3.9.7"
  }
 },
 "nbformat": 4,
 "nbformat_minor": 5
}
