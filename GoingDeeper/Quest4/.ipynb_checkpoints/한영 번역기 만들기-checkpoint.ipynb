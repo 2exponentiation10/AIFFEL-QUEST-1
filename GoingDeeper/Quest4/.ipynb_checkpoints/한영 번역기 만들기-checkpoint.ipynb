{
 "cells": [
  {
   "cell_type": "markdown",
   "id": "5a7cd101",
   "metadata": {},
   "source": [
    "# 1. 데이터 가져오기"
   ]
  },
  {
   "cell_type": "code",
   "execution_count": 3,
   "id": "908fee2a",
   "metadata": {},
   "outputs": [],
   "source": [
    "path_kor_file = \"data/korean-english-park.train.ko\"\n",
    "path_eng_file = \"data/korean-english-park.train.en\""
   ]
  },
  {
   "cell_type": "code",
   "execution_count": 4,
   "id": "581d5824",
   "metadata": {
    "scrolled": true
   },
   "outputs": [
    {
     "name": "stdout",
     "output_type": "stream",
     "text": [
      "Data Size: 94123\n",
      "Example:\n",
      ">> 개인용 컴퓨터 사용의 상당 부분은 \"이것보다 뛰어날 수 있느냐?\"\n",
      ">> 북한의 핵무기 계획을 포기하도록 하려는 압력이 거세지고 있는 가운데, 일본과 북한의 외교관들이 외교 관계를 정상화하려는 회담을 재개했다.\n",
      ">> \"경호 로보트가 침입자나 화재를 탐지하기 위해서 개인적으로, 그리고 전문적으로 사용되고 있습니다.\"\n",
      ">> 수자원부 당국은 논란이 되고 있고, 막대한 비용이 드는 이 사업에 대해 내년에 건설을 시작할 계획이다.\n",
      ">> 또한 근력 운동은 활발하게 걷는 것이나 최소한 20분 동안 뛰는 것과 같은 유산소 활동에서 얻는 운동 효과를 심장과 폐에 주지 않기 때문에, 연구학자들은 근력 운동이 심장에 큰 영향을 미치는지 여부에 대해 논쟁을 해왔다.\n"
     ]
    }
   ],
   "source": [
    "with open(path_kor_file, \"r\") as f:\n",
    "    kor_raw = f.read().splitlines()\n",
    "    \n",
    "print(\"Data Size:\", len(kor_raw))\n",
    "print(\"Example:\")\n",
    "\n",
    "for sen in kor_raw[0:100][::20]: print(\">>\", sen)"
   ]
  },
  {
   "cell_type": "code",
   "execution_count": 5,
   "id": "9b383068",
   "metadata": {},
   "outputs": [
    {
     "name": "stdout",
     "output_type": "stream",
     "text": [
      "Data Size: 94123\n",
      "Example:\n",
      ">> Much of personal computing is about \"can you top this?\"\n",
      ">> Amid mounting pressure on North Korea to abandon its nuclear weapons program Japanese and North Korean diplomats have resumed talks on normalizing diplomatic relations.\n",
      ">> “Guard robots are used privately and professionally to detect intruders or fire,” Karlsson said.\n",
      ">> Authorities from the Water Resources Ministry plan to begin construction next year on the controversial and hugely expensive project.\n",
      ">> Researchers also have debated whether weight-training has a big impact on the heart, since it does not give the heart and lungs the kind of workout they get from aerobic activities such as brisk walking or running for at least 20 minutes.\n"
     ]
    }
   ],
   "source": [
    "with open(path_eng_file, \"r\") as f:\n",
    "    eng_raw = f.read().splitlines()\n",
    "    \n",
    "print(\"Data Size:\", len(eng_raw))\n",
    "print(\"Example:\")\n",
    "\n",
    "for sen in eng_raw[0:100][::20]: print(\">>\", sen)"
   ]
  },
  {
   "cell_type": "markdown",
   "id": "b49c3108",
   "metadata": {},
   "source": [
    "# 2. 데이터 전처리\n",
    "\n",
    "Step 2. 데이터 정제\n",
    "\n",
    "1. set 데이터형이 중복을 허용하지 않는다는 것을 활용해 중복된 데이터를 제거하도록 합니다. 데이터의 병렬 쌍이 흐트러지지 않게 주의하세요! 중복을 제거한 데이터를 cleaned_corpus 에 저장합니다.\n",
    "2. 앞서 정의한 preprocessing() 함수는 한글에서는 동작하지 않습니다. 한글에 적용할 수 있는 정규식을 추가하여 함수를 재정의하세요!\n",
    "3. 타겟 언어인 영문엔 <start> 토큰과 <end> 토큰을 추가하고 split() 함수를 이용하여 토큰화합니다. 한글 토큰화는 KoNLPy의 mecab 클래스를 사용합니다.\n",
    "\n",
    "모든 데이터를 사용할 경우 학습에 굉장히 오랜 시간이 걸립니다. cleaned_corpus로부터 토큰의 길이가 40 이하인 데이터를 선별하여 eng_corpus와 kor_corpus를 각각 구축하세요.\n"
   ]
  },
  {
   "cell_type": "markdown",
   "id": "b5c2bd6b",
   "metadata": {},
   "source": [
    "## 2-1) 중복 데이터 제거"
   ]
  },
  {
   "cell_type": "code",
   "execution_count": 6,
   "id": "d7090554",
   "metadata": {},
   "outputs": [],
   "source": [
    "#중복 제거\n",
    "unique_pairs = set(zip(kor_raw, eng_raw))#쌍튜플을 set자료형 변환\n",
    "\n",
    "#리스트 변환\n",
    "kor_lines, eng_lines = zip(*unique_pairs) #튜플 unpacking"
   ]
  },
  {
   "cell_type": "code",
   "execution_count": 9,
   "id": "5b4c8c30",
   "metadata": {
    "scrolled": true
   },
   "outputs": [
    {
     "name": "stdout",
     "output_type": "stream",
     "text": [
      "('탄크레도는 아이오와주 디모인에서 열린 기자회견에서 “이민법을 선거의 주요 이슈로 부각시키는데 성공했다”며 “뉴스위크에따르면 나의 캠페인은 성공한 것이나 마찬가지”라고 전했다.', '의약 연구소는 정부에 과학 문제에 관해 자문하기 위해 의회가 설립 인가를 내어 준 민간 단체인 국립 과학 학회의 부속 단체이다.', '그러나 로보뱅크 소속 라스무센은 “약물검사와 관련된 일화는 심각하지 않은 상황이었으며 그저 가벼운 경고였을 뿐이었다”고 주장했다.', 'PSI는 의심스러운 선박의 해상 운항을 저지함으로써 대량살상무기의 확산을 막으려는 취지로 2003년 시작된 자발적 회의이다.', '전국 여론조사 결과에서 오바마 후보가 매케인 후보를 앞서고 있습니다.')\n",
      "('\"I am ecstatic about the fact that we can say we have made remarkable progress along those lines,\" Tancredo said during a press conference in Des Moines, Iowa. \"According to Newsweek, the Tancredo campaign has already won.', 'The Institute of Medicine is part of the National Academy of Sciences, a private organization chartered by Congress to advise the government on scientific matters.', 'Under International Cycling Union (UCI) regulations leading competitors are required to make themselves available for out of competition testing.', 'The PSI is a voluntary initiative that was launched in 2003 as a way of stopping the spread of weapons of mass destruction by stopping suspicious cargo ships at sea.', 'Most national polls show Obama leading McCain.')\n"
     ]
    }
   ],
   "source": [
    "print(kor_lines[:5])\n",
    "print(eng_lines[:5])"
   ]
  },
  {
   "cell_type": "code",
   "execution_count": 17,
   "id": "d963fd3e",
   "metadata": {},
   "outputs": [
    {
     "name": "stdout",
     "output_type": "stream",
     "text": [
      "78968 78968\n"
     ]
    }
   ],
   "source": [
    "print(len(kor_lines), len(eng_lines))"
   ]
  },
  {
   "cell_type": "code",
   "execution_count": null,
   "id": "92af37a0",
   "metadata": {},
   "outputs": [],
   "source": []
  },
  {
   "cell_type": "markdown",
   "id": "68c779da",
   "metadata": {},
   "source": [
    "# 2-2)한글에 적용할 수 있는 정규식을 추가하여 함수를 재정의"
   ]
  },
  {
   "cell_type": "code",
   "execution_count": 31,
   "id": "d5b35ce3",
   "metadata": {},
   "outputs": [],
   "source": [
    "import re\n",
    "\n",
    "def preprocess_sentence(sentence, s_token=False, e_token=False, korean = True):\n",
    "    sentence = sentence.lower().strip() #소문자 변환\n",
    "    \n",
    "    regex = re.compile(r\"([?.!,])\")\n",
    "    sentence = regex.sub(r\" \\1 \", sentence)\n",
    "    #\\1 : 일치하는 특수 문자(?, !, .)를 나타냄\n",
    "    # r\" \\1 \"는 일치하는 특수 문자 앞뒤에 공백을 추가\n",
    "    \n",
    "    regex = re.compile(r'[\" \"]+')\n",
    "    sentence = regex.sub(\" \", sentence) #불필요한 공백 제거\n",
    "    \n",
    "    #한국어와 영어의 데이터 전처리\n",
    "    if korean:\n",
    "        regex = re.compile(r\"[^가-힣?.!,]+\")\n",
    "        sentence = regex.sub(\" \", sentence)#불필요한 문자 제거\n",
    "    else :\n",
    "        sentence = sentence.lower().strip() #소문자 변환\n",
    "        \n",
    "        regex = re.compile(r\"[^a-zA-Z?.!,]+\")\n",
    "        sentence = regex.sub(\" \", sentence)#불필요한 문자 제거\n",
    "\n",
    "    sentence = sentence.strip()#공백제거\n",
    "\n",
    "    if s_token:\n",
    "        sentence = '<start> ' + sentence\n",
    "\n",
    "    if e_token:\n",
    "        sentence += ' <end>'\n",
    "    \n",
    "    return sentence"
   ]
  },
  {
   "cell_type": "code",
   "execution_count": 32,
   "id": "353cbf83",
   "metadata": {},
   "outputs": [
    {
     "name": "stdout",
     "output_type": "stream",
     "text": [
      "Korean: 의약 연구소는 정부에 과학 문제에 관해 자문하기 위해 의회가 설립 인가를 내어 준 민간 단체인 국립 과학 학회의 부속 단체이다 .\n",
      "English: <start> the institute of medicine is part of the national academy of sciences , a private organization chartered by congress to advise the government on scientific matters . <end>\n"
     ]
    }
   ],
   "source": [
    "koc_corpus = []\n",
    "enc_corpus = []\n",
    "\n",
    "num_examples = 30000\n",
    "\n",
    "for koc,enc in zip(kor_lines, eng_lines):\n",
    "    koc_corpus.append(preprocess_sentence(koc))\n",
    "    enc_corpus.append(preprocess_sentence(enc, \n",
    "                                          s_token=True, \n",
    "                                          e_token=True,\n",
    "                                          korean = False))\n",
    "\n",
    "\n",
    "print(\"Korean:\", koc_corpus[1])\n",
    "print(\"English:\", enc_corpus[1]) "
   ]
  },
  {
   "cell_type": "code",
   "execution_count": null,
   "id": "35b70700",
   "metadata": {},
   "outputs": [],
   "source": []
  }
 ],
 "metadata": {
  "kernelspec": {
   "display_name": "Python 3 (ipykernel)",
   "language": "python",
   "name": "python3"
  },
  "language_info": {
   "codemirror_mode": {
    "name": "ipython",
    "version": 3
   },
   "file_extension": ".py",
   "mimetype": "text/x-python",
   "name": "python",
   "nbconvert_exporter": "python",
   "pygments_lexer": "ipython3",
   "version": "3.9.7"
  }
 },
 "nbformat": 4,
 "nbformat_minor": 5
}
