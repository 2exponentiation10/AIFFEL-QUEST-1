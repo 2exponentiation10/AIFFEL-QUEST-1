{
 "cells": [
  {
   "cell_type": "markdown",
   "id": "8973257c",
   "metadata": {},
   "source": [
    "## 데이터 가져오기"
   ]
  },
  {
   "cell_type": "code",
   "execution_count": 434,
   "id": "09f07d74",
   "metadata": {},
   "outputs": [],
   "source": [
    "from sklearn.datasets import load_diabetes\n",
    "diabetes=load_diabetes()"
   ]
  },
  {
   "cell_type": "markdown",
   "id": "7c55ac08",
   "metadata": {},
   "source": [
    "## 모델에 입력할 데이터 X data, y data 준비"
   ]
  },
  {
   "cell_type": "code",
   "execution_count": 435,
   "id": "96ea0ad9",
   "metadata": {},
   "outputs": [],
   "source": [
    "x_data=diabetes.data\n",
    "y_data=diabetes.target"
   ]
  },
  {
   "cell_type": "code",
   "execution_count": 436,
   "id": "141065b1",
   "metadata": {},
   "outputs": [
    {
     "name": "stdout",
     "output_type": "stream",
     "text": [
      "(442, 10)\n",
      "(442,)\n"
     ]
    }
   ],
   "source": [
    "print(x_data.shape)\n",
    "print(y_data.shape)"
   ]
  },
  {
   "cell_type": "code",
   "execution_count": 437,
   "id": "dd50a9d6",
   "metadata": {},
   "outputs": [
    {
     "name": "stdout",
     "output_type": "stream",
     "text": [
      "['age', 'sex', 'bmi', 'bp', 's1', 's2', 's3', 's4', 's5', 's6']\n",
      "[151.  75. 141. 206. 135.  97. 138.  63. 110. 310.]\n"
     ]
    }
   ],
   "source": [
    "print(diabetes.feature_names) #당뇨병 features\n",
    "print(diabetes.target[:10]) #당뇨병 진행 정도"
   ]
  },
  {
   "cell_type": "markdown",
   "id": "5f57c350",
   "metadata": {},
   "source": [
    "## train 데이터와 test 데이터로 분리"
   ]
  },
  {
   "cell_type": "code",
   "execution_count": 438,
   "id": "1bbee559",
   "metadata": {},
   "outputs": [],
   "source": [
    "from sklearn.model_selection import train_test_split\n",
    "\n",
    "X_train, X_test, y_train, y_test = train_test_split(x_data, y_data, test_size=0.2, random_state=32)"
   ]
  },
  {
   "cell_type": "code",
   "execution_count": 439,
   "id": "3fac98db",
   "metadata": {},
   "outputs": [
    {
     "name": "stdout",
     "output_type": "stream",
     "text": [
      "(353, 10) (353,)\n",
      "(89, 10) (89,)\n"
     ]
    }
   ],
   "source": [
    "print(X_train.shape, y_train.shape)\n",
    "print(X_test.shape, y_test.shape)"
   ]
  },
  {
   "cell_type": "markdown",
   "id": "5a46b266",
   "metadata": {},
   "source": [
    "## 모델준비하기"
   ]
  },
  {
   "cell_type": "code",
   "execution_count": 440,
   "id": "c7bb3691",
   "metadata": {},
   "outputs": [],
   "source": [
    "import numpy as np\n",
    "W = np.random.rand(10)\n",
    "b = np.random.rand()"
   ]
  },
  {
   "cell_type": "code",
   "execution_count": 441,
   "id": "f2335772",
   "metadata": {},
   "outputs": [],
   "source": [
    "def model(X, W, b):\n",
    "    predictions = 0\n",
    "    for i in range(10):\n",
    "        predictions += X[:, i] * W[i]\n",
    "    predictions += b\n",
    "    return predictions"
   ]
  },
  {
   "cell_type": "markdown",
   "id": "a0ccfffa",
   "metadata": {},
   "source": [
    "## 손실함수 loss 정의하기"
   ]
  },
  {
   "cell_type": "code",
   "execution_count": 442,
   "id": "b67cdc71",
   "metadata": {},
   "outputs": [],
   "source": [
    "def MSE(a,b):\n",
    "    mse = ((a-b)**2).mean()\n",
    "    return mse\n",
    "\n",
    "def loss(X,W,b,y):\n",
    "    predictions = model(X,W,b)\n",
    "    L= MSE(predictions,y)\n",
    "    return L"
   ]
  },
  {
   "cell_type": "markdown",
   "id": "4319d15c",
   "metadata": {},
   "source": [
    "## 기울기를 구하는 gradient 함수 구현하기"
   ]
  },
  {
   "cell_type": "code",
   "execution_count": 443,
   "id": "6a826c4c",
   "metadata": {},
   "outputs": [],
   "source": [
    "def gradient(X, W, b, y):\n",
    "    # N은 데이터 포인트의 개수\n",
    "    N = len(y)\n",
    "    # y_pred 준비\n",
    "    y_pred = model(X, W, b)\n",
    "    # 공식에 맞게 gradient 계산\n",
    "    dW = 1/N * 2 * X.T.dot(y_pred - y)\n",
    "    # b의 gradient 계산\n",
    "    db = 2 * (y_pred - y).mean()\n",
    "    return dW, db"
   ]
  },
  {
   "cell_type": "markdown",
   "id": "4606d874",
   "metadata": {},
   "source": [
    "## 하이퍼 파라미터인 학습률 설정하기"
   ]
  },
  {
   "cell_type": "code",
   "execution_count": 444,
   "id": "958bdf8f",
   "metadata": {},
   "outputs": [],
   "source": [
    "LEARNING_RATE = 0.1"
   ]
  },
  {
   "cell_type": "markdown",
   "id": "d948ea89",
   "metadata": {},
   "source": [
    "## 모델 학습하기"
   ]
  },
  {
   "cell_type": "code",
   "execution_count": 445,
   "id": "0adf9655",
   "metadata": {},
   "outputs": [
    {
     "name": "stdout",
     "output_type": "stream",
     "text": [
      "Iteration 500 : Loss 4021.7841\n",
      "Iteration 1000 : Loss 3456.7935\n",
      "Iteration 1500 : Loss 3230.9799\n",
      "Iteration 2000 : Loss 3112.6505\n",
      "Iteration 2500 : Loss 3042.9575\n",
      "Iteration 3000 : Loss 2999.9874\n",
      "Iteration 3500 : Loss 2972.8855\n",
      "Iteration 4000 : Loss 2955.5171\n",
      "Iteration 4500 : Loss 2944.2289\n",
      "Iteration 5000 : Loss 2936.7912\n",
      "Iteration 5500 : Loss 2931.8216\n",
      "Iteration 6000 : Loss 2928.4522\n",
      "Iteration 6500 : Loss 2926.1316\n",
      "Iteration 7000 : Loss 2924.5061\n",
      "Iteration 7500 : Loss 2923.3461\n",
      "Iteration 8000 : Loss 2922.5013\n",
      "Iteration 8500 : Loss 2921.8723\n",
      "Iteration 9000 : Loss 2921.3927\n",
      "Iteration 9500 : Loss 2921.0176\n"
     ]
    }
   ],
   "source": [
    "losses = []\n",
    "\n",
    "for i in range(1, 10000):\n",
    "    dW, db = gradient(X_train, W, b, y_train)\n",
    "    W -= LEARNING_RATE * dW\n",
    "    b -= LEARNING_RATE * db\n",
    "    L = loss(X_train, W, b, y_train)\n",
    "    losses.append(L)\n",
    "    if i % 500 == 0:\n",
    "        print('Iteration %d : Loss %0.4f' % (i, L))"
   ]
  },
  {
   "cell_type": "markdown",
   "id": "dfdec86e",
   "metadata": {},
   "source": [
    "## test 데이터에 대한 성능 확인하기"
   ]
  },
  {
   "cell_type": "code",
   "execution_count": 446,
   "id": "e72dd37f",
   "metadata": {},
   "outputs": [
    {
     "data": {
      "text/plain": [
       "2798.661835729524"
      ]
     },
     "execution_count": 446,
     "metadata": {},
     "output_type": "execute_result"
    }
   ],
   "source": [
    "prediction = model(X_test, W, b)\n",
    "mse = loss(X_test, W, b, y_test)\n",
    "mse"
   ]
  },
  {
   "cell_type": "markdown",
   "id": "112b49cb",
   "metadata": {},
   "source": [
    "## 정답 데이터와 예측한 데이터 시각화하기"
   ]
  },
  {
   "cell_type": "code",
   "execution_count": 447,
   "id": "f9d79ebf",
   "metadata": {},
   "outputs": [],
   "source": [
    "import matplotlib.pyplot as plt"
   ]
  },
  {
   "cell_type": "code",
   "execution_count": 448,
   "id": "cdb6c5aa",
   "metadata": {},
   "outputs": [
    {
     "data": {
      "image/png": "[encoded data removed]",
      "text/plain": [
       "<Figure size 432x288 with 1 Axes>"
      ]
     },
     "metadata": {
      "needs_background": "light"
     },
     "output_type": "display_data"
    }
   ],
   "source": [
    "plt.scatter(X_test[:, 0], y_test, label=\"true\")\n",
    "plt.scatter(X_test[:, 0], prediction, label=\"pred\")\n",
    "plt.legend()\n",
    "plt.show()"
   ]
  },
  {
   "cell_type": "code",
   "execution_count": null,
   "id": "c655fc5c",
   "metadata": {},
   "outputs": [],
   "source": []
  }
 ],
 "metadata": {
  "kernelspec": {
   "display_name": "Python 3 (ipykernel)",
   "language": "python",
   "name": "python3"
  },
  "language_info": {
   "codemirror_mode": {
    "name": "ipython",
    "version": 3
   },
   "file_extension": ".py",
   "mimetype": "text/x-python",
   "name": "python",
   "nbconvert_exporter": "python",
   "pygments_lexer": "ipython3",
   "version": "3.9.7"
  }
 },
 "nbformat": 4,
 "nbformat_minor": 5
}
