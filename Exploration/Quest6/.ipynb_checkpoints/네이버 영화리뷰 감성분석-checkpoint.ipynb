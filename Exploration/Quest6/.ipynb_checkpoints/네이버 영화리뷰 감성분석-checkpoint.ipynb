{
 "cells": [
  {
   "cell_type": "markdown",
   "id": "8ae187ef",
   "metadata": {},
   "source": [
    "# 데이터 가져오기"
   ]
  },
  {
   "cell_type": "code",
   "execution_count": 2,
   "id": "565c8a95",
   "metadata": {},
   "outputs": [
    {
     "name": "stdout",
     "output_type": "stream",
     "text": [
      "1.3.3\n",
      "0.5.2\n",
      "4.1.2\n"
     ]
    }
   ],
   "source": [
    "#라이브러리 버전확인\n",
    "import pandas\n",
    "import konlpy\n",
    "import gensim\n",
    "\n",
    "print(pandas.__version__)\n",
    "print(konlpy.__version__)\n",
    "print(gensim.__version__)"
   ]
  },
  {
   "cell_type": "markdown",
   "id": "5686db48",
   "metadata": {},
   "source": [
    "## 1) 데이터 준비 및 확인"
   ]
  },
  {
   "cell_type": "code",
   "execution_count": 3,
   "id": "9ed12a1b",
   "metadata": {
    "scrolled": true
   },
   "outputs": [
    {
     "data": {
      "text/html": [
       "<div>\n",
       "<style scoped>\n",
       "    .dataframe tbody tr th:only-of-type {\n",
       "        vertical-align: middle;\n",
       "    }\n",
       "\n",
       "    .dataframe tbody tr th {\n",
       "        vertical-align: top;\n",
       "    }\n",
       "\n",
       "    .dataframe thead th {\n",
       "        text-align: right;\n",
       "    }\n",
       "</style>\n",
       "<table border=\"1\" class=\"dataframe\">\n",
       "  <thead>\n",
       "    <tr style=\"text-align: right;\">\n",
       "      <th></th>\n",
       "      <th>id</th>\n",
       "      <th>document</th>\n",
       "      <th>label</th>\n",
       "    </tr>\n",
       "  </thead>\n",
       "  <tbody>\n",
       "    <tr>\n",
       "      <th>0</th>\n",
       "      <td>9976970</td>\n",
       "      <td>아 더빙.. 진짜 짜증나네요 목소리</td>\n",
       "      <td>0</td>\n",
       "    </tr>\n",
       "    <tr>\n",
       "      <th>1</th>\n",
       "      <td>3819312</td>\n",
       "      <td>흠...포스터보고 초딩영화줄....오버연기조차 가볍지 않구나</td>\n",
       "      <td>1</td>\n",
       "    </tr>\n",
       "    <tr>\n",
       "      <th>2</th>\n",
       "      <td>10265843</td>\n",
       "      <td>너무재밓었다그래서보는것을추천한다</td>\n",
       "      <td>0</td>\n",
       "    </tr>\n",
       "    <tr>\n",
       "      <th>3</th>\n",
       "      <td>9045019</td>\n",
       "      <td>교도소 이야기구먼 ..솔직히 재미는 없다..평점 조정</td>\n",
       "      <td>0</td>\n",
       "    </tr>\n",
       "    <tr>\n",
       "      <th>4</th>\n",
       "      <td>6483659</td>\n",
       "      <td>사이몬페그의 익살스런 연기가 돋보였던 영화!스파이더맨에서 늙어보이기만 했던 커스틴 ...</td>\n",
       "      <td>1</td>\n",
       "    </tr>\n",
       "    <tr>\n",
       "      <th>5</th>\n",
       "      <td>5403919</td>\n",
       "      <td>막 걸음마 뗀 3세부터 초등학교 1학년생인 8살용영화.ㅋㅋㅋ...별반개도 아까움.</td>\n",
       "      <td>0</td>\n",
       "    </tr>\n",
       "    <tr>\n",
       "      <th>6</th>\n",
       "      <td>7797314</td>\n",
       "      <td>원작의 긴장감을 제대로 살려내지못했다.</td>\n",
       "      <td>0</td>\n",
       "    </tr>\n",
       "    <tr>\n",
       "      <th>7</th>\n",
       "      <td>9443947</td>\n",
       "      <td>별 반개도 아깝다 욕나온다 이응경 길용우 연기생활이몇년인지..정말 발로해도 그것보단...</td>\n",
       "      <td>0</td>\n",
       "    </tr>\n",
       "    <tr>\n",
       "      <th>8</th>\n",
       "      <td>7156791</td>\n",
       "      <td>액션이 없는데도 재미 있는 몇안되는 영화</td>\n",
       "      <td>1</td>\n",
       "    </tr>\n",
       "    <tr>\n",
       "      <th>9</th>\n",
       "      <td>5912145</td>\n",
       "      <td>왜케 평점이 낮은건데? 꽤 볼만한데.. 헐리우드식 화려함에만 너무 길들여져 있나?</td>\n",
       "      <td>1</td>\n",
       "    </tr>\n",
       "  </tbody>\n",
       "</table>\n",
       "</div>"
      ],
      "text/plain": [
       "         id                                           document  label\n",
       "0   9976970                                아 더빙.. 진짜 짜증나네요 목소리      0\n",
       "1   3819312                  흠...포스터보고 초딩영화줄....오버연기조차 가볍지 않구나      1\n",
       "2  10265843                                  너무재밓었다그래서보는것을추천한다      0\n",
       "3   9045019                      교도소 이야기구먼 ..솔직히 재미는 없다..평점 조정      0\n",
       "4   6483659  사이몬페그의 익살스런 연기가 돋보였던 영화!스파이더맨에서 늙어보이기만 했던 커스틴 ...      1\n",
       "5   5403919      막 걸음마 뗀 3세부터 초등학교 1학년생인 8살용영화.ㅋㅋㅋ...별반개도 아까움.      0\n",
       "6   7797314                              원작의 긴장감을 제대로 살려내지못했다.      0\n",
       "7   9443947  별 반개도 아깝다 욕나온다 이응경 길용우 연기생활이몇년인지..정말 발로해도 그것보단...      0\n",
       "8   7156791                             액션이 없는데도 재미 있는 몇안되는 영화      1\n",
       "9   5912145      왜케 평점이 낮은건데? 꽤 볼만한데.. 헐리우드식 화려함에만 너무 길들여져 있나?      1"
      ]
     },
     "execution_count": 3,
     "metadata": {},
     "output_type": "execute_result"
    }
   ],
   "source": [
    "import pandas as pd\n",
    "\n",
    "# 데이터를 읽어봅시다. \n",
    "train_data = pd.read_table('~/aiffel/sentiment_classification/data/ratings_train.txt')\n",
    "test_data = pd.read_table('~/aiffel/sentiment_classification/data/ratings_test.txt')\n",
    "\n",
    "train_data.head(10)"
   ]
  },
  {
   "cell_type": "code",
   "execution_count": null,
   "id": "d033c294",
   "metadata": {},
   "outputs": [],
   "source": []
  },
  {
   "cell_type": "markdown",
   "id": "3e5dac5b",
   "metadata": {},
   "source": [
    "## 2) 데이터로더 구성 "
   ]
  },
  {
   "cell_type": "markdown",
   "id": "c7f26465",
   "metadata": {},
   "source": [
    "### 결측치 확인"
   ]
  },
  {
   "cell_type": "code",
   "execution_count": 4,
   "id": "6abf85e8",
   "metadata": {
    "scrolled": false
   },
   "outputs": [
    {
     "name": "stdout",
     "output_type": "stream",
     "text": [
      "id          0\n",
      "document    5\n",
      "label       0\n",
      "dtype: int64\n",
      "id          0\n",
      "document    3\n",
      "label       0\n",
      "dtype: int64\n"
     ]
    }
   ],
   "source": [
    "print(train_data.isna().sum()) #5개밖에 없으므로 결측치가 포함된 행을 삭제\n",
    "print(test_data.isna().sum()) #3개밖에 없으므로 결측치가 포함된 행을 삭제"
   ]
  },
  {
   "cell_type": "markdown",
   "id": "d514ee09",
   "metadata": {},
   "source": [
    "### 중복확인"
   ]
  },
  {
   "cell_type": "code",
   "execution_count": 5,
   "id": "aaa7a4f7",
   "metadata": {},
   "outputs": [
    {
     "name": "stdout",
     "output_type": "stream",
     "text": [
      "0\n",
      "0\n"
     ]
    }
   ],
   "source": [
    "print(train_data.duplicated().sum())\n",
    "print(test_data.duplicated().sum())\n",
    "#중복데이터가 없음"
   ]
  },
  {
   "cell_type": "code",
   "execution_count": 6,
   "id": "0a9ed5f5",
   "metadata": {},
   "outputs": [],
   "source": [
    "from konlpy.tag import Mecab\n",
    "import numpy as np\n",
    "from collections import Counter\n",
    "\n",
    "tokenizer = Mecab()\n",
    "stopwords = ['의','가','이','은','들','는','좀','잘','걍','과','도','를','으로','자','에','와','한','하다']\n",
    "\n",
    "#토큰화 및 불용어 제거 함수\n",
    "def filtering_tokens(tokens):\n",
    "    #토큰화\n",
    "    tokens = tokenizer.morphs(tokens)\n",
    "    \n",
    "    #불용어 제거\n",
    "    filtered_tokens = [token for token in tokens if token not in stopwords]\n",
    "    #token for token in tokens 각 토큰들을 확인\n",
    "    #if token not in stopwords / 불용어가 아닌 토큰들로 구성\n",
    "    return filtered_tokens\n",
    "\n",
    "#사전 인덱스 함수\n",
    "def create_word_to_index(tokenized_data, num_words=10000):\n",
    "    words = np.concatenate(tokenized_data).tolist()\n",
    "    counter = Counter(dic) \n",
    "    counter = counter.most_common(10000-4)#고빈도  996개의 단어\n",
    "    vocab = ['', '', '', ''] + [key for key, _ in counter] #빈문자열4개 추가 후  단어사전 생성\n",
    "    word_to_index = {word:index for index, word in enumerate(vocab)}#인덱스로 매핑하는 딕셔너리를 생성\n",
    "    return word_to_index\n",
    "    \n",
    "def load_data(train_data, test_data, num_words=10000):\n",
    "    #NaN 결측치 제거\n",
    "    train_data.dropna(inplace = True)\n",
    "    test_data.dropna(inplace = True)\n",
    "    \n",
    "    ##토큰화 및 불용어 제거 \n",
    "    X_train = []\n",
    "    for sen in train_data['document']:\n",
    "        temp_X= filtering_tokens(sen)\n",
    "        X_train.append(temp_X)\n",
    "\n",
    "    X_test = []\n",
    "    for sen in test_data['document']:\n",
    "        temp_Y= filtering_tokens(sen)\n",
    "        X_test.append(temp_Y)\n",
    "\n",
    "    #사전word_to_index 구성\n",
    "    words = np.concatenate(X_train).tolist() #모든 토큰 데이터를 합침\n",
    "    counter = Counter(words) #단어 빈도 계산\n",
    "    counter = counter.most_common(10000-4)#고빈도 996개의 단어\n",
    "    vocab = ['', '', '', ''] + [key for key, _ in counter] #빈문자열4개 추가 후  단어사전 생성\n",
    "    word_to_index = {word:index for index, word in enumerate(vocab)}#인덱스로 매핑하는 딕셔너리를 생성\n",
    "    \n",
    "    # 인덱스 사전 정의\n",
    "    word_to_index[\"<PAD>\"] = 0\n",
    "    word_to_index[\"<BOS>\"] = 1\n",
    "    word_to_index[\"<UNK>\"] = 2  # unknown\n",
    "    word_to_index[\"<UNUSED>\"] = 3\n",
    "\n",
    "    #텍스트 스트링을 사전 인덱스 스트링으로 변환\n",
    "    def wordlist_to_indexlist(wordlist):\n",
    "        return [word_to_index[word] if word in word_to_index else word_to_index[''] for word in wordlist]\n",
    "    \n",
    "    X_train = list(map(wordlist_to_indexlist, X_train))\n",
    "    X_test = list(map(wordlist_to_indexlist, X_test))\n",
    "    \n",
    "    #X_train, y_train, X_test, y_test, word_to_index 리턴\n",
    "    y_train = np.array(list(train_data['label']))\n",
    "    y_test = np.array(list(test_data['label']))                  \n",
    "    \n",
    "    return X_train, y_train, X_test, y_test, word_to_index\n",
    "    \n",
    "X_train, y_train, X_test, y_test, word_to_index = load_data(train_data, test_data)"
   ]
  },
  {
   "cell_type": "code",
   "execution_count": 7,
   "id": "41aceb6c",
   "metadata": {},
   "outputs": [],
   "source": [
    "index_to_word = {index:word for word, index in word_to_index.items()}"
   ]
  },
  {
   "cell_type": "code",
   "execution_count": 8,
   "id": "51be398c",
   "metadata": {},
   "outputs": [],
   "source": [
    "# 문장 1개를 활용할 딕셔너리와 함께 주면, 단어 인덱스 리스트 벡터로 변환해 주는 함수입니다. \n",
    "# 단, 모든 문장은 <BOS>로 시작하는 것으로 합니다. \n",
    "def get_encoded_sentence(sentence, word_to_index):\n",
    "    return [word_to_index['<BOS>']]+[word_to_index[word] if word in word_to_index else word_to_index['<UNK>'] for word in sentence.split()]\n",
    "\n",
    "# 여러 개의 문장 리스트를 한꺼번에 단어 인덱스 리스트 벡터로 encode해 주는 함수입니다. \n",
    "def get_encoded_sentences(sentences, word_to_index):\n",
    "    return [get_encoded_sentence(sentence, word_to_index) for sentence in sentences]\n",
    "\n",
    "# 숫자 벡터로 encode된 문장을 원래대로 decode하는 함수입니다. \n",
    "def get_decoded_sentence(encoded_sentence, index_to_word):\n",
    "    return ' '.join(index_to_word[index] if index in index_to_word else '<UNK>' for index in encoded_sentence[1:])  #[1:]를 통해 <BOS>를 제외\n",
    "\n",
    "# 여러 개의 숫자 벡터로 encode된 문장을 한꺼번에 원래대로 decode하는 함수입니다. \n",
    "def get_decoded_sentences(encoded_sentences, index_to_word):\n",
    "    return [get_decoded_sentence(encoded_sentence, index_to_word) for encoded_sentence in encoded_sentences]"
   ]
  },
  {
   "cell_type": "markdown",
   "id": "e233365e",
   "metadata": {},
   "source": [
    "## 3) 모델 구성을 위한 데이터 분석 및 가공"
   ]
  },
  {
   "cell_type": "markdown",
   "id": "d1e86cdd",
   "metadata": {},
   "source": [
    "### 데이터셋 문장 길이 분포 확인"
   ]
  },
  {
   "cell_type": "code",
   "execution_count": 14,
   "id": "e44c2bf2",
   "metadata": {},
   "outputs": [
    {
     "name": "stdout",
     "output_type": "stream",
     "text": [
      "문장길이 평균 :  15.65940637625505\n",
      "문장길이 최대 :  116\n",
      "문장길이 표준편차 :  12.859527414389605\n",
      "pad_sequences maxlen :  54\n",
      "전체 문장의 0.9727389095563822%가 maxlen 설정값 이내에 포함됩니다. \n"
     ]
    }
   ],
   "source": [
    "total_data_text = list(X_train) + list(X_test)\n",
    "# 텍스트데이터 문장길이의 리스트를 생성한 후\n",
    "num_tokens = [len(tokens) for tokens in total_data_text]\n",
    "num_tokens = np.array(num_tokens)\n",
    "# 문장길이의 평균값, 최대값, 표준편차를 계산해 본다. \n",
    "print('문장길이 평균 : ', np.mean(num_tokens))\n",
    "print('문장길이 최대 : ', np.max(num_tokens))\n",
    "print('문장길이 표준편차 : ', np.std(num_tokens))\n",
    "\n",
    "# 최대 길이를 (평균 + 3*표준편차)로 함\n",
    "max_tokens = np.mean(num_tokens) + 3 * np.std(num_tokens)\n",
    "maxlen = int(max_tokens)\n",
    "print('pad_sequences maxlen : ', maxlen)\n",
    "print(f'전체 문장의 {np.sum(num_tokens < max_tokens) / len(num_tokens)}%가 maxlen 설정값 이내에 포함됩니다. ')"
   ]
  },
  {
   "cell_type": "markdown",
   "id": "f45fc324",
   "metadata": {},
   "source": [
    "### keras.preprocessing.sequence.pad_sequences 을 활용한 패딩 추가"
   ]
  },
  {
   "cell_type": "code",
   "execution_count": 34,
   "id": "376de366",
   "metadata": {},
   "outputs": [
    {
     "name": "stdout",
     "output_type": "stream",
     "text": [
      "(149995, 54)\n"
     ]
    }
   ],
   "source": [
    "import tensorflow as tf\n",
    "\n",
    "X_train = tf.keras.preprocessing.sequence.pad_sequences(X_train,\n",
    "                                                        value=word_to_index[\"<PAD>\"],\n",
    "                                                        padding='pre',\n",
    "                                                        maxlen=maxlen)\n",
    "\n",
    "X_test = tf.keras.preprocessing.sequence.pad_sequences(X_test,\n",
    "                                                       value=word_to_index[\"<PAD>\"],\n",
    "                                                       padding='pre', \n",
    "                                                       maxlen=maxlen)\n",
    "\n",
    "print(X_train.shape)"
   ]
  },
  {
   "cell_type": "markdown",
   "id": "2f473743",
   "metadata": {},
   "source": [
    "## 4) validation set 구성"
   ]
  },
  {
   "cell_type": "markdown",
   "id": "65fdbcf9",
   "metadata": {},
   "source": [
    "### validation set 분리"
   ]
  },
  {
   "cell_type": "code",
   "execution_count": 33,
   "id": "53780954",
   "metadata": {},
   "outputs": [
    {
     "name": "stdout",
     "output_type": "stream",
     "text": [
      "49998\n"
     ]
    }
   ],
   "source": [
    "divid_val = int(X_train.shape[0]/3)\n",
    "print(divid_val)"
   ]
  },
  {
   "cell_type": "code",
   "execution_count": 41,
   "id": "409f962d",
   "metadata": {},
   "outputs": [
    {
     "name": "stdout",
     "output_type": "stream",
     "text": [
      "(99997, 54)\n",
      "(99997,)\n"
     ]
    }
   ],
   "source": [
    "# validation set 10000건 분리\n",
    "x_val = X_train[:divid_val]   \n",
    "y_val = y_train[:divid_val]\n",
    "\n",
    "# validation set을 제외한 나머지 15000건\n",
    "partial_x_train = X_train[divid_val:]  \n",
    "partial_y_train = y_train[divid_val:]\n",
    "\n",
    "print(partial_x_train.shape)\n",
    "print(partial_y_train.shape)"
   ]
  },
  {
   "cell_type": "markdown",
   "id": "03c5d0b2",
   "metadata": {},
   "source": [
    "## 5) RNN, CNN, NN 모델 구성, 모델 훈련, 시각화"
   ]
  },
  {
   "cell_type": "markdown",
   "id": "2a1ad5a3",
   "metadata": {},
   "source": [
    "**1)RNN(LSTM을 활용한)** "
   ]
  },
  {
   "cell_type": "code",
   "execution_count": 61,
   "id": "9274cd13",
   "metadata": {},
   "outputs": [],
   "source": [
    "vocab_size = 10000  # 어휘 사전의 크기입니다(10개의 단어)\n",
    "word_vector_dim = 16  # 단어 하나를 표현하는 임베딩 벡터의 차원수입니다. "
   ]
  },
  {
   "cell_type": "code",
   "execution_count": 62,
   "id": "03d73e6c",
   "metadata": {
    "scrolled": false
   },
   "outputs": [
    {
     "name": "stdout",
     "output_type": "stream",
     "text": [
      "Model: \"sequential_3\"\n",
      "_________________________________________________________________\n",
      "Layer (type)                 Output Shape              Param #   \n",
      "=================================================================\n",
      "embedding_3 (Embedding)      (None, None, 16)          160000    \n",
      "_________________________________________________________________\n",
      "lstm_1 (LSTM)                (None, 8)                 800       \n",
      "_________________________________________________________________\n",
      "dense_6 (Dense)              (None, 8)                 72        \n",
      "_________________________________________________________________\n",
      "dense_7 (Dense)              (None, 1)                 9         \n",
      "=================================================================\n",
      "Total params: 160,881\n",
      "Trainable params: 160,881\n",
      "Non-trainable params: 0\n",
      "_________________________________________________________________\n"
     ]
    }
   ],
   "source": [
    "#RNN 모델\n",
    "model = tf.keras.Sequential()\n",
    "model.add(tf.keras.layers.Embedding(vocab_size, word_vector_dim, input_shape=(None,)))\n",
    "model.add(tf.keras.layers.LSTM(8))   # 가장 널리 쓰이는 RNN인 LSTM 레이어를 사용하였습니다. 이때 LSTM state 벡터의 차원수는 8로 하였습니다. (변경 가능)\n",
    "model.add(tf.keras.layers.Dense(8, activation='relu'))\n",
    "model.add(tf.keras.layers.Dense(1, activation='sigmoid'))  # 최종 출력은 긍정/부정을 나타내는 1dim 입니다.\n",
    "model.summary()"
   ]
  },
  {
   "cell_type": "code",
   "execution_count": 63,
   "id": "2b0bf36e",
   "metadata": {},
   "outputs": [
    {
     "name": "stdout",
     "output_type": "stream",
     "text": [
      "Epoch 1/20\n",
      "196/196 [==============================] - 3s 8ms/step - loss: 0.5416 - accuracy: 0.7625 - val_loss: 0.3818 - val_accuracy: 0.8416\n",
      "Epoch 2/20\n",
      "196/196 [==============================] - 1s 6ms/step - loss: 0.3515 - accuracy: 0.8541 - val_loss: 0.3519 - val_accuracy: 0.8491\n",
      "Epoch 3/20\n",
      "196/196 [==============================] - 1s 6ms/step - loss: 0.3213 - accuracy: 0.8683 - val_loss: 0.3486 - val_accuracy: 0.8508\n",
      "Epoch 4/20\n",
      "196/196 [==============================] - 1s 6ms/step - loss: 0.3067 - accuracy: 0.8761 - val_loss: 0.3521 - val_accuracy: 0.8514\n",
      "Epoch 5/20\n",
      "196/196 [==============================] - 1s 6ms/step - loss: 0.2962 - accuracy: 0.8802 - val_loss: 0.3558 - val_accuracy: 0.8502\n",
      "Epoch 6/20\n",
      "196/196 [==============================] - 1s 6ms/step - loss: 0.2877 - accuracy: 0.8845 - val_loss: 0.3599 - val_accuracy: 0.8481\n",
      "Epoch 7/20\n",
      "196/196 [==============================] - 1s 6ms/step - loss: 0.2807 - accuracy: 0.8887 - val_loss: 0.3591 - val_accuracy: 0.8501\n",
      "Epoch 8/20\n",
      "196/196 [==============================] - 1s 6ms/step - loss: 0.2727 - accuracy: 0.8920 - val_loss: 0.3630 - val_accuracy: 0.8496\n",
      "Epoch 9/20\n",
      "196/196 [==============================] - 1s 6ms/step - loss: 0.2653 - accuracy: 0.8962 - val_loss: 0.3695 - val_accuracy: 0.8482\n",
      "Epoch 10/20\n",
      "196/196 [==============================] - 1s 6ms/step - loss: 0.2572 - accuracy: 0.8996 - val_loss: 0.3714 - val_accuracy: 0.8480\n",
      "Epoch 11/20\n",
      "196/196 [==============================] - 1s 6ms/step - loss: 0.2498 - accuracy: 0.9032 - val_loss: 0.3751 - val_accuracy: 0.8475\n",
      "Epoch 12/20\n",
      "196/196 [==============================] - 1s 6ms/step - loss: 0.2418 - accuracy: 0.9073 - val_loss: 0.3845 - val_accuracy: 0.8464\n",
      "Epoch 13/20\n",
      "196/196 [==============================] - 1s 6ms/step - loss: 0.2348 - accuracy: 0.9105 - val_loss: 0.3913 - val_accuracy: 0.8453\n",
      "Epoch 14/20\n",
      "196/196 [==============================] - 1s 6ms/step - loss: 0.2278 - accuracy: 0.9146 - val_loss: 0.4020 - val_accuracy: 0.8449\n",
      "Epoch 15/20\n",
      "196/196 [==============================] - 1s 6ms/step - loss: 0.2209 - accuracy: 0.9170 - val_loss: 0.4016 - val_accuracy: 0.8449\n",
      "Epoch 16/20\n",
      "196/196 [==============================] - 1s 6ms/step - loss: 0.2143 - accuracy: 0.9204 - val_loss: 0.4152 - val_accuracy: 0.8439\n",
      "Epoch 17/20\n",
      "196/196 [==============================] - 1s 6ms/step - loss: 0.2084 - accuracy: 0.9228 - val_loss: 0.4172 - val_accuracy: 0.8414\n",
      "Epoch 18/20\n",
      "196/196 [==============================] - 1s 6ms/step - loss: 0.2032 - accuracy: 0.9255 - val_loss: 0.4315 - val_accuracy: 0.8413\n",
      "Epoch 19/20\n",
      "196/196 [==============================] - 1s 6ms/step - loss: 0.1974 - accuracy: 0.9286 - val_loss: 0.4365 - val_accuracy: 0.8397\n",
      "Epoch 20/20\n",
      "196/196 [==============================] - 1s 6ms/step - loss: 0.1938 - accuracy: 0.9294 - val_loss: 0.4397 - val_accuracy: 0.8388\n"
     ]
    }
   ],
   "source": [
    "model.compile(optimizer='adam',\n",
    "              loss='binary_crossentropy',\n",
    "              metrics=['accuracy'])\n",
    "\n",
    "epochs=20  \n",
    "\n",
    "history = model.fit(partial_x_train,\n",
    "                    partial_y_train,\n",
    "                    epochs=epochs,\n",
    "                    batch_size=512,\n",
    "                    validation_data=(x_val, y_val),\n",
    "                    verbose=1)"
   ]
  },
  {
   "cell_type": "code",
   "execution_count": 64,
   "id": "151069d0",
   "metadata": {},
   "outputs": [
    {
     "name": "stdout",
     "output_type": "stream",
     "text": [
      "1563/1563 - 3s - loss: 0.4469 - accuracy: 0.8325\n",
      "[0.44690626859664917, 0.8324699401855469]\n"
     ]
    }
   ],
   "source": [
    "results = model.evaluate(X_test,  y_test, verbose=2) #진행 표시줄 없이 간략하게 손실과 정확도만 출력\n",
    "\n",
    "print(results)"
   ]
  },
  {
   "cell_type": "code",
   "execution_count": 65,
   "id": "a79db86e",
   "metadata": {},
   "outputs": [
    {
     "name": "stdout",
     "output_type": "stream",
     "text": [
      "dict_keys(['loss', 'accuracy', 'val_loss', 'val_accuracy'])\n"
     ]
    }
   ],
   "source": [
    "history_dict = history.history\n",
    "print(history_dict.keys()) # epoch에 따른 그래프를 그려볼 수 있는 항목들"
   ]
  },
  {
   "cell_type": "code",
   "execution_count": 66,
   "id": "d70663d1",
   "metadata": {},
   "outputs": [
    {
     "data": {
      "image/png": "[encoded data removed]",
      "text/plain": [
       "<Figure size 432x288 with 1 Axes>"
      ]
     },
     "metadata": {
      "needs_background": "light"
     },
     "output_type": "display_data"
    }
   ],
   "source": [
    "import matplotlib.pyplot as plt\n",
    "\n",
    "acc = history_dict['accuracy']\n",
    "val_acc = history_dict['val_accuracy']\n",
    "loss = history_dict['loss']\n",
    "val_loss = history_dict['val_loss']\n",
    "\n",
    "epochs = range(1, len(acc) + 1)\n",
    "\n",
    "# \"bo\"는 \"파란색 점\"입니다\n",
    "plt.plot(epochs, loss, 'bo', label='Training loss')\n",
    "# b는 \"파란 실선\"입니다\n",
    "plt.plot(epochs, val_loss, 'b', label='Validation loss')\n",
    "plt.title('Training and validation loss')\n",
    "plt.xlabel('Epochs')\n",
    "plt.ylabel('Loss')\n",
    "plt.legend()\n",
    "\n",
    "plt.show()"
   ]
  },
  {
   "cell_type": "code",
   "execution_count": 46,
   "id": "7b0a1890",
   "metadata": {
    "scrolled": true
   },
   "outputs": [
    {
     "data": {
      "image/png": "[encoded data removed]",
      "text/plain": [
       "<Figure size 432x288 with 1 Axes>"
      ]
     },
     "metadata": {
      "needs_background": "light"
     },
     "output_type": "display_data"
    }
   ],
   "source": [
    "plt.plot(epochs, acc, 'bo', label='Training acc')\n",
    "plt.plot(epochs, val_acc, 'b', label='Validation acc')\n",
    "plt.title('Training and validation accuracy')\n",
    "plt.xlabel('Epochs')\n",
    "plt.ylabel('Accuracy')\n",
    "plt.legend()\n",
    "\n",
    "plt.show()"
   ]
  },
  {
   "cell_type": "markdown",
   "id": "3913e414",
   "metadata": {},
   "source": [
    "**Word2Vec**"
   ]
  },
  {
   "cell_type": "code",
   "execution_count": 68,
   "id": "d4953676",
   "metadata": {},
   "outputs": [
    {
     "name": "stdout",
     "output_type": "stream",
     "text": [
      "(10000, 16)\n"
     ]
    }
   ],
   "source": [
    "#Word2Vec의 적용\n",
    "from gensim.models import Word2Vec\n",
    "embedding_layer = model.layers[0]\n",
    "weights bb= embedding_layer.get_weights()[0]\n",
    "print(weights.shape)    # shape: (vocab_size, embedding_dim)"
   ]
  },
  {
   "cell_type": "code",
   "execution_count": 74,
   "id": "541185e2",
   "metadata": {},
   "outputs": [],
   "source": [
    "# 학습한 Embedding 파라미터를 파일에 써서 저장합니다. \n",
    "import os\n",
    "word2vec_file_path = os.getenv('HOME')+'/aiffel/sentiment_classification/data/word2vec.txt'\n",
    "f = open(word2vec_file_path, 'w')\n",
    "f.write('{} {}\\n'.format(vocab_size-4, word_vector_dim))  # 몇개의 벡터를 얼마 사이즈로 기재할지 타이틀을 씁니다.\n",
    "\n",
    "# 단어 개수(에서 특수문자 4개는 제외하고)만큼의 워드 벡터를 파일에 기록합니다. \n",
    "vectors = model.get_weights()[0]\n",
    "for i in range(4,vocab_size):\n",
    "    f.write('{} {}\\n'.format(index_to_word[i], ' '.join(map(str, list(vectors[i, :])))))\n",
    "f.close()"
   ]
  },
  {
   "cell_type": "code",
   "execution_count": 76,
   "id": "86d3a1fc",
   "metadata": {},
   "outputs": [
    {
     "data": {
      "text/plain": [
       "array([ 0.01568979,  0.21527162, -0.04551095, -0.11679312,  0.01618648,\n",
       "       -0.01003502, -0.01353913,  0.10386328, -0.09309905,  0.10011627,\n",
       "       -0.12693731, -0.0199618 , -0.08154428, -0.01998262,  0.06934832,\n",
       "       -0.01261726], dtype=float32)"
      ]
     },
     "execution_count": 76,
     "metadata": {},
     "output_type": "execute_result"
    }
   ],
   "source": [
    "#gensim에서 제공하는 패키지를 이용해, 위에 남긴 임베딩 파라미터를 읽어서 word vector로 활용할 수 있습\n",
    "from gensim.models.keyedvectors import Word2VecKeyedVectors\n",
    "\n",
    "word_vectors = Word2VecKeyedVectors.load_word2vec_format(word2vec_file_path, binary=False)\n",
    "vector = word_vectors['재미']\n",
    "vector"
   ]
  },
  {
   "cell_type": "code",
   "execution_count": 77,
   "id": "5a352a32",
   "metadata": {},
   "outputs": [
    {
     "data": {
      "text/plain": [
       "[('빠져서', 0.9664269685745239),\n",
       " ('d', 0.9638856053352356),\n",
       " ('부끄럽', 0.9589971899986267),\n",
       " ('군대', 0.9545025825500488),\n",
       " ('훗', 0.9522290825843811),\n",
       " ('국가', 0.9501673579216003),\n",
       " ('하나하나', 0.9489066004753113),\n",
       " ('봣', 0.9479818940162659),\n",
       " ('미래', 0.9456576704978943),\n",
       " ('끝없이', 0.94316565990448)]"
      ]
     },
     "execution_count": 77,
     "metadata": {},
     "output_type": "execute_result"
    }
   ],
   "source": [
    "word_vectors.similar_by_word(\"황정민\")"
   ]
  },
  {
   "cell_type": "markdown",
   "id": "125d174b",
   "metadata": {},
   "source": [
    "**2)CNN(1D CONV)**"
   ]
  },
  {
   "cell_type": "code",
   "execution_count": 78,
   "id": "fd0101d7",
   "metadata": {},
   "outputs": [
    {
     "name": "stdout",
     "output_type": "stream",
     "text": [
      "Model: \"sequential_4\"\n",
      "_________________________________________________________________\n",
      "Layer (type)                 Output Shape              Param #   \n",
      "=================================================================\n",
      "embedding_4 (Embedding)      (None, None, 16)          160000    \n",
      "_________________________________________________________________\n",
      "global_max_pooling1d_1 (Glob (None, 16)                0         \n",
      "_________________________________________________________________\n",
      "dense_8 (Dense)              (None, 8)                 136       \n",
      "_________________________________________________________________\n",
      "dense_9 (Dense)              (None, 1)                 9         \n",
      "=================================================================\n",
      "Total params: 160,145\n",
      "Trainable params: 160,145\n",
      "Non-trainable params: 0\n",
      "_________________________________________________________________\n"
     ]
    }
   ],
   "source": [
    "model = tf.keras.Sequential()\n",
    "model.add(tf.keras.layers.Embedding(vocab_size, word_vector_dim, input_shape=(None,)))\n",
    "model.add(tf.keras.layers.GlobalMaxPooling1D())\n",
    "model.add(tf.keras.layers.Dense(8, activation='relu'))\n",
    "model.add(tf.keras.layers.Dense(1, activation='sigmoid'))  # 최종 출력은 긍정/부정을 나타내는 1dim 입니다.\n",
    "model.summary()"
   ]
  },
  {
   "cell_type": "code",
   "execution_count": 79,
   "id": "f657d041",
   "metadata": {},
   "outputs": [
    {
     "name": "stdout",
     "output_type": "stream",
     "text": [
      "Epoch 1/20\n",
      "196/196 [==============================] - 1s 4ms/step - loss: 0.6222 - accuracy: 0.7373 - val_loss: 0.4761 - val_accuracy: 0.8103\n",
      "Epoch 2/20\n",
      "196/196 [==============================] - 1s 4ms/step - loss: 0.3989 - accuracy: 0.8329 - val_loss: 0.3704 - val_accuracy: 0.8367\n",
      "Epoch 3/20\n",
      "196/196 [==============================] - 1s 4ms/step - loss: 0.3362 - accuracy: 0.8583 - val_loss: 0.3556 - val_accuracy: 0.8429\n",
      "Epoch 4/20\n",
      "196/196 [==============================] - 1s 4ms/step - loss: 0.3062 - accuracy: 0.8724 - val_loss: 0.3523 - val_accuracy: 0.8459\n",
      "Epoch 5/20\n",
      "196/196 [==============================] - 1s 4ms/step - loss: 0.2847 - accuracy: 0.8830 - val_loss: 0.3546 - val_accuracy: 0.8460\n",
      "Epoch 6/20\n",
      "196/196 [==============================] - 1s 4ms/step - loss: 0.2674 - accuracy: 0.8908 - val_loss: 0.3598 - val_accuracy: 0.8458\n",
      "Epoch 7/20\n",
      "196/196 [==============================] - 1s 4ms/step - loss: 0.2531 - accuracy: 0.8988 - val_loss: 0.3674 - val_accuracy: 0.8452\n",
      "Epoch 8/20\n",
      "196/196 [==============================] - 1s 4ms/step - loss: 0.2407 - accuracy: 0.9036 - val_loss: 0.3753 - val_accuracy: 0.8450\n",
      "Epoch 9/20\n",
      "196/196 [==============================] - 1s 4ms/step - loss: 0.2297 - accuracy: 0.9096 - val_loss: 0.3846 - val_accuracy: 0.8433\n",
      "Epoch 10/20\n",
      "196/196 [==============================] - 1s 4ms/step - loss: 0.2200 - accuracy: 0.9134 - val_loss: 0.3941 - val_accuracy: 0.8422\n",
      "Epoch 11/20\n",
      "196/196 [==============================] - 1s 4ms/step - loss: 0.2111 - accuracy: 0.9176 - val_loss: 0.4052 - val_accuracy: 0.8401\n",
      "Epoch 12/20\n",
      "196/196 [==============================] - 1s 4ms/step - loss: 0.2030 - accuracy: 0.9216 - val_loss: 0.4166 - val_accuracy: 0.8392\n",
      "Epoch 13/20\n",
      "196/196 [==============================] - 1s 4ms/step - loss: 0.1956 - accuracy: 0.9251 - val_loss: 0.4272 - val_accuracy: 0.8380\n",
      "Epoch 14/20\n",
      "196/196 [==============================] - 1s 4ms/step - loss: 0.1886 - accuracy: 0.9283 - val_loss: 0.4381 - val_accuracy: 0.8367\n",
      "Epoch 15/20\n",
      "196/196 [==============================] - 1s 4ms/step - loss: 0.1824 - accuracy: 0.9314 - val_loss: 0.4492 - val_accuracy: 0.8361\n",
      "Epoch 16/20\n",
      "196/196 [==============================] - 1s 4ms/step - loss: 0.1766 - accuracy: 0.9345 - val_loss: 0.4599 - val_accuracy: 0.8354\n",
      "Epoch 17/20\n",
      "196/196 [==============================] - 1s 4ms/step - loss: 0.1711 - accuracy: 0.9364 - val_loss: 0.4720 - val_accuracy: 0.8344\n",
      "Epoch 18/20\n",
      "196/196 [==============================] - 1s 4ms/step - loss: 0.1661 - accuracy: 0.9392 - val_loss: 0.4832 - val_accuracy: 0.8325\n",
      "Epoch 19/20\n",
      "196/196 [==============================] - 1s 4ms/step - loss: 0.1616 - accuracy: 0.9409 - val_loss: 0.4944 - val_accuracy: 0.8317\n",
      "Epoch 20/20\n",
      "196/196 [==============================] - 1s 4ms/step - loss: 0.1572 - accuracy: 0.9426 - val_loss: 0.5057 - val_accuracy: 0.8310\n"
     ]
    }
   ],
   "source": [
    "model.compile(optimizer='adam',\n",
    "              loss='binary_crossentropy',\n",
    "              metrics=['accuracy'])\n",
    "              \n",
    "epochs=20  # 몇 epoch를 훈련하면 좋을지 결과를 보면서 바꾸어 봅시다. \n",
    "\n",
    "history = model.fit(partial_x_train,\n",
    "                    partial_y_train,\n",
    "                    epochs=epochs,\n",
    "                    batch_size=512,\n",
    "                    validation_data=(x_val, y_val),\n",
    "                    verbose=1)"
   ]
  },
  {
   "cell_type": "code",
   "execution_count": 80,
   "id": "aa5ff31d",
   "metadata": {},
   "outputs": [
    {
     "name": "stdout",
     "output_type": "stream",
     "text": [
      "1563/1563 - 2s - loss: 0.5213 - accuracy: 0.8245\n",
      "[0.5213221907615662, 0.8244694471359253]\n"
     ]
    }
   ],
   "source": [
    "results = model.evaluate(x_test,  y_test, verbose=2) #진행 표시줄 없이 간략하게 손실과 정확도만 출력\n",
    "\n",
    "print(results)"
   ]
  },
  {
   "cell_type": "code",
   "execution_count": 81,
   "id": "6df48768",
   "metadata": {},
   "outputs": [
    {
     "name": "stdout",
     "output_type": "stream",
     "text": [
      "dict_keys(['loss', 'accuracy', 'val_loss', 'val_accuracy'])\n"
     ]
    }
   ],
   "source": [
    "history_dict = history.history\n",
    "print(history_dict.keys()) # epoch에 따른 그래프를 그려볼 수 있는 항목들"
   ]
  },
  {
   "cell_type": "code",
   "execution_count": 82,
   "id": "4ec3c868",
   "metadata": {},
   "outputs": [
    {
     "data": {
      "image/png": "[encoded data removed]",
      "text/plain": [
       "<Figure size 432x288 with 1 Axes>"
      ]
     },
     "metadata": {
      "needs_background": "light"
     },
     "output_type": "display_data"
    }
   ],
   "source": [
    "import matplotlib.pyplot as plt\n",
    "\n",
    "acc = history_dict['accuracy']\n",
    "val_acc = history_dict['val_accuracy']\n",
    "loss = history_dict['loss']\n",
    "val_loss = history_dict['val_loss']\n",
    "\n",
    "epochs = range(1, len(acc) + 1)\n",
    "\n",
    "# \"bo\"는 \"파란색 점\"입니다\n",
    "plt.plot(epochs, loss, 'bo', label='Training loss')\n",
    "# b는 \"파란 실선\"입니다\n",
    "plt.plot(epochs, val_loss, 'b', label='Validation loss')\n",
    "plt.title('Training and validation loss')\n",
    "plt.xlabel('Epochs')\n",
    "plt.ylabel('Loss')\n",
    "plt.legend()\n",
    "\n",
    "plt.show()"
   ]
  },
  {
   "cell_type": "code",
   "execution_count": 83,
   "id": "ee2e7c68",
   "metadata": {
    "scrolled": true
   },
   "outputs": [
    {
     "data": {
      "image/png": "[encoded data removed]",
      "text/plain": [
       "<Figure size 432x288 with 1 Axes>"
      ]
     },
     "metadata": {
      "needs_background": "light"
     },
     "output_type": "display_data"
    }
   ],
   "source": [
    "plt.plot(epochs, acc, 'bo', label='Training acc')\n",
    "plt.plot(epochs, val_acc, 'b', label='Validation acc')\n",
    "plt.title('Training and validation accuracy')\n",
    "plt.xlabel('Epochs')\n",
    "plt.ylabel('Accuracy')\n",
    "plt.legend()\n",
    "\n",
    "plt.show()"
   ]
  },
  {
   "cell_type": "code",
   "execution_count": 87,
   "id": "44f3e9f0",
   "metadata": {
    "scrolled": true
   },
   "outputs": [
    {
     "name": "stdout",
     "output_type": "stream",
     "text": [
      "(10000, 16)\n"
     ]
    }
   ],
   "source": [
    "embedding_layer = model.layers[0]\n",
    "weights = embedding_layer.get_weights()[0]\n",
    "print(weights.shape)    # shape: (vocab_size, embedding_dim)"
   ]
  },
  {
   "cell_type": "code",
   "execution_count": 88,
   "id": "a88ea013",
   "metadata": {},
   "outputs": [],
   "source": [
    "# 학습한 Embedding 파라미터를 파일에 써서 저장합니다. \n",
    "word2vec_file_path = os.getenv('HOME')+'/aiffel/sentiment_classification/data/word2vec.txt'\n",
    "f = open(word2vec_file_path, 'w')\n",
    "f.write('{} {}\\n'.format(vocab_size-4, word_vector_dim))  # 몇개의 벡터를 얼마 사이즈로 기재할지 타이틀을 씁니다.\n",
    "\n",
    "# 단어 개수(에서 특수문자 4개는 제외하고)만큼의 워드 벡터를 파일에 기록합니다. \n",
    "vectors = model.get_weights()[0]\n",
    "for i in range(4,vocab_size):\n",
    "    f.write('{} {}\\n'.format(index_to_word[i], ' '.join(map(str, list(vectors[i, :])))))\n",
    "f.close()"
   ]
  },
  {
   "cell_type": "code",
   "execution_count": 89,
   "id": "d7b9112a",
   "metadata": {},
   "outputs": [
    {
     "data": {
      "text/plain": [
       "array([-0.07344835, -0.06192771, -0.12982225,  0.12457384,  0.10147347,\n",
       "       -0.06577457,  0.0018687 , -0.10003741,  0.10855646, -0.08873652,\n",
       "       -0.08158623,  0.09775273,  0.15156478, -0.0097263 , -0.10622045,\n",
       "       -0.01438489], dtype=float32)"
      ]
     },
     "execution_count": 89,
     "metadata": {},
     "output_type": "execute_result"
    }
   ],
   "source": [
    "#gensim에서 제공하는 패키지를 이용해, 위에 남긴 임베딩 파라미터를 읽어서 word vector로 활용할 수 있습\n",
    "from gensim.models.keyedvectors import Word2VecKeyedVectors\n",
    "\n",
    "word_vectors = Word2VecKeyedVectors.load_word2vec_format(word2vec_file_path, binary=False)\n",
    "vector = word_vectors['황정민']\n",
    "vector"
   ]
  },
  {
   "cell_type": "code",
   "execution_count": 90,
   "id": "31b486ef",
   "metadata": {},
   "outputs": [
    {
     "data": {
      "text/plain": [
       "[('대부', 0.9072355628013611),\n",
       " ('슬퍼요', 0.8803306221961975),\n",
       " ('떠나보내', 0.8790355324745178),\n",
       " ('사로잡', 0.8665485382080078),\n",
       " ('물건', 0.8490954041481018),\n",
       " ('취급', 0.8418815732002258),\n",
       " ('최민식', 0.8418401479721069),\n",
       " ('싯', 0.8384643197059631),\n",
       " ('휴일', 0.8298172354698181),\n",
       " ('자격', 0.829227864742279)]"
      ]
     },
     "execution_count": 90,
     "metadata": {},
     "output_type": "execute_result"
    }
   ],
   "source": [
    "word_vectors.similar_by_word(\"황정민\")"
   ]
  },
  {
   "cell_type": "markdown",
   "id": "523e9061",
   "metadata": {},
   "source": [
    "**3)NN(기본적인 NN)**"
   ]
  },
  {
   "cell_type": "code",
   "execution_count": 53,
   "id": "f1f9b099",
   "metadata": {},
   "outputs": [
    {
     "name": "stdout",
     "output_type": "stream",
     "text": [
      "Model: \"sequential_2\"\n",
      "_________________________________________________________________\n",
      "Layer (type)                 Output Shape              Param #   \n",
      "=================================================================\n",
      "embedding_2 (Embedding)      (None, None, 16)          160000    \n",
      "_________________________________________________________________\n",
      "dense_4 (Dense)              (None, None, 16)          272       \n",
      "_________________________________________________________________\n",
      "dense_5 (Dense)              (None, None, 1)           17        \n",
      "=================================================================\n",
      "Total params: 160,289\n",
      "Trainable params: 160,289\n",
      "Non-trainable params: 0\n",
      "_________________________________________________________________\n"
     ]
    }
   ],
   "source": [
    "model = tf.keras.Sequential()\n",
    "model.add(tf.keras.layers.Embedding(vocab_size, word_vector_dim, input_shape=(None,)))\n",
    "model.add(tf.keras.layers.Dense(16, activation='relu'))\n",
    "model.add(tf.keras.layers.Dense(1, activation='sigmoid'))  # 최종 출력은 긍정/부정을 나타내는 1dim 입니다.\n",
    "model.summary()"
   ]
  },
  {
   "cell_type": "code",
   "execution_count": 54,
   "id": "c2694add",
   "metadata": {},
   "outputs": [
    {
     "name": "stdout",
     "output_type": "stream",
     "text": [
      "Epoch 1/20\n",
      "196/196 [==============================] - 2s 5ms/step - loss: 0.6872 - accuracy: 0.5286 - val_loss: 0.6806 - val_accuracy: 0.5295\n",
      "Epoch 2/20\n",
      "196/196 [==============================] - 1s 5ms/step - loss: 0.6791 - accuracy: 0.5335 - val_loss: 0.6784 - val_accuracy: 0.5354\n",
      "Epoch 3/20\n",
      "196/196 [==============================] - 1s 5ms/step - loss: 0.6779 - accuracy: 0.5334 - val_loss: 0.6781 - val_accuracy: 0.5354\n",
      "Epoch 4/20\n",
      "196/196 [==============================] - 1s 5ms/step - loss: 0.6775 - accuracy: 0.5360 - val_loss: 0.6781 - val_accuracy: 0.5354\n",
      "Epoch 5/20\n",
      "196/196 [==============================] - 1s 5ms/step - loss: 0.6773 - accuracy: 0.5342 - val_loss: 0.6782 - val_accuracy: 0.5295\n",
      "Epoch 6/20\n",
      "196/196 [==============================] - 1s 5ms/step - loss: 0.6772 - accuracy: 0.5346 - val_loss: 0.6782 - val_accuracy: 0.5355\n",
      "Epoch 7/20\n",
      "196/196 [==============================] - 1s 5ms/step - loss: 0.6772 - accuracy: 0.5338 - val_loss: 0.6782 - val_accuracy: 0.5355\n",
      "Epoch 8/20\n",
      "196/196 [==============================] - 1s 5ms/step - loss: 0.6771 - accuracy: 0.5339 - val_loss: 0.6784 - val_accuracy: 0.5355\n",
      "Epoch 9/20\n",
      "196/196 [==============================] - 1s 5ms/step - loss: 0.6771 - accuracy: 0.5355 - val_loss: 0.6782 - val_accuracy: 0.5353\n",
      "Epoch 10/20\n",
      "196/196 [==============================] - 1s 5ms/step - loss: 0.6771 - accuracy: 0.5333 - val_loss: 0.6782 - val_accuracy: 0.5355\n",
      "Epoch 11/20\n",
      "196/196 [==============================] - 1s 5ms/step - loss: 0.6770 - accuracy: 0.5354 - val_loss: 0.6783 - val_accuracy: 0.5354\n",
      "Epoch 12/20\n",
      "196/196 [==============================] - 1s 5ms/step - loss: 0.6771 - accuracy: 0.5347 - val_loss: 0.6786 - val_accuracy: 0.5295\n",
      "Epoch 13/20\n",
      "196/196 [==============================] - 1s 5ms/step - loss: 0.6770 - accuracy: 0.5336 - val_loss: 0.6784 - val_accuracy: 0.5296\n",
      "Epoch 14/20\n",
      "196/196 [==============================] - 1s 4ms/step - loss: 0.6770 - accuracy: 0.5338 - val_loss: 0.6784 - val_accuracy: 0.5355\n",
      "Epoch 15/20\n",
      "196/196 [==============================] - 1s 5ms/step - loss: 0.6769 - accuracy: 0.5351 - val_loss: 0.6783 - val_accuracy: 0.5355\n",
      "Epoch 16/20\n",
      "196/196 [==============================] - 1s 5ms/step - loss: 0.6770 - accuracy: 0.5335 - val_loss: 0.6783 - val_accuracy: 0.5355\n",
      "Epoch 17/20\n",
      "196/196 [==============================] - 1s 4ms/step - loss: 0.6770 - accuracy: 0.5344 - val_loss: 0.6786 - val_accuracy: 0.5353\n",
      "Epoch 18/20\n",
      "196/196 [==============================] - 1s 5ms/step - loss: 0.6770 - accuracy: 0.5346 - val_loss: 0.6784 - val_accuracy: 0.5355\n",
      "Epoch 19/20\n",
      "196/196 [==============================] - 1s 4ms/step - loss: 0.6770 - accuracy: 0.5331 - val_loss: 0.6784 - val_accuracy: 0.5354\n",
      "Epoch 20/20\n",
      "196/196 [==============================] - 1s 4ms/step - loss: 0.6769 - accuracy: 0.5353 - val_loss: 0.6785 - val_accuracy: 0.5355\n"
     ]
    }
   ],
   "source": [
    "model.compile(optimizer='adam',\n",
    "              loss='binary_crossentropy',\n",
    "              metrics=['accuracy'])\n",
    "              \n",
    "epochs=20  # 몇 epoch를 훈련하면 좋을지 결과를 보면서 바꾸어 봅시다. \n",
    "\n",
    "history = model.fit(partial_x_train,\n",
    "                    partial_y_train,\n",
    "                    epochs=epochs,\n",
    "                    batch_size=512,\n",
    "                    validation_data=(x_val, y_val),\n",
    "                    verbose=1)"
   ]
  },
  {
   "cell_type": "code",
   "execution_count": 55,
   "id": "c865ca76",
   "metadata": {},
   "outputs": [
    {
     "name": "stdout",
     "output_type": "stream",
     "text": [
      "1563/1563 - 3s - loss: 0.6788 - accuracy: 0.5379\n",
      "[0.6787630915641785, 0.5379384160041809]\n"
     ]
    }
   ],
   "source": [
    "results = model.evaluate(x_test,  y_test, verbose=2) #진행 표시줄 없이 간략하게 손실과 정확도만 출력\n",
    "\n",
    "print(results)"
   ]
  },
  {
   "cell_type": "code",
   "execution_count": 56,
   "id": "bd2fad8b",
   "metadata": {},
   "outputs": [
    {
     "name": "stdout",
     "output_type": "stream",
     "text": [
      "dict_keys(['loss', 'accuracy', 'val_loss', 'val_accuracy'])\n"
     ]
    }
   ],
   "source": [
    "history_dict = history.history\n",
    "print(history_dict.keys()) # epoch에 따른 그래프를 그려볼 수 있는 항목들"
   ]
  },
  {
   "cell_type": "code",
   "execution_count": 57,
   "id": "c3b39237",
   "metadata": {},
   "outputs": [
    {
     "data": {
      "image/png": "[encoded data removed]",
      "text/plain": [
       "<Figure size 432x288 with 1 Axes>"
      ]
     },
     "metadata": {
      "needs_background": "light"
     },
     "output_type": "display_data"
    }
   ],
   "source": [
    "import matplotlib.pyplot as plt\n",
    "\n",
    "acc = history_dict['accuracy']\n",
    "val_acc = history_dict['val_accuracy']\n",
    "loss = history_dict['loss']\n",
    "val_loss = history_dict['val_loss']\n",
    "\n",
    "epochs = range(1, len(acc) + 1)\n",
    "\n",
    "# \"bo\"는 \"파란색 점\"입니다\n",
    "plt.plot(epochs, loss, 'bo', label='Training loss')\n",
    "# b는 \"파란 실선\"입니다\n",
    "plt.plot(epochs, val_loss, 'b', label='Validation loss')\n",
    "plt.title('Training and validation loss')\n",
    "plt.xlabel('Epochs')\n",
    "plt.ylabel('Loss')\n",
    "plt.legend()\n",
    "\n",
    "plt.show()"
   ]
  },
  {
   "cell_type": "code",
   "execution_count": 59,
   "id": "f573ab5f",
   "metadata": {},
   "outputs": [
    {
     "data": {
      "image/png": "[encoded data removed]",
      "text/plain": [
       "<Figure size 432x288 with 1 Axes>"
      ]
     },
     "metadata": {
      "needs_background": "light"
     },
     "output_type": "display_data"
    }
   ],
   "source": [
    "plt.plot(epochs, acc, 'bo', label='Training acc')\n",
    "plt.plot(epochs, val_acc, 'b', label='Validation acc')\n",
    "plt.title('Training and validation accuracy')\n",
    "plt.xlabel('Epochs')\n",
    "plt.ylabel('Accuracy')\n",
    "plt.legend()\n",
    "\n",
    "plt.show()"
   ]
  },
  {
   "cell_type": "markdown",
   "id": "5116a9d9",
   "metadata": {},
   "source": [
    "## 6)한국어 Word2Vec 임베딩 활용"
   ]
  },
  {
   "cell_type": "code",
   "execution_count": 102,
   "id": "44e54dea",
   "metadata": {},
   "outputs": [],
   "source": [
    "from gensim.models import Word2Vec\n",
    "word2vec_path = os.getenv('HOME')+'/aiffel/data_preprocess/data/word2vec_ko.model'\n",
    "word_vec = Word2Vec.load(word2vec_path)"
   ]
  },
  {
   "cell_type": "code",
   "execution_count": 117,
   "id": "6518fcdd",
   "metadata": {},
   "outputs": [],
   "source": [
    "word_vecs = word_vec.wv"
   ]
  },
  {
   "cell_type": "code",
   "execution_count": 104,
   "id": "8b6d5093",
   "metadata": {
    "scrolled": false
   },
   "outputs": [
    {
     "data": {
      "text/plain": [
       "array([-1.8007389 , -1.1790098 , -2.4066596 ,  2.1384156 , -0.3537603 ,\n",
       "        1.3749527 , -4.894612  , -3.6517198 ,  0.4411444 ,  0.78153926,\n",
       "       -2.696888  , -1.7812852 , -2.1514654 , -4.813236  ,  2.7465918 ,\n",
       "       -2.1620324 , -0.11467794, -1.2431171 ,  2.3979309 , -1.1060628 ,\n",
       "       -0.41043055,  1.9500391 ,  0.7821002 ,  1.5899978 ,  1.6447444 ,\n",
       "       -2.1265035 , -1.7981595 ,  1.7535795 ,  0.53717697, -1.212121  ,\n",
       "       -4.466316  ,  4.5488324 ,  1.334441  , -0.9070271 ,  1.1931889 ,\n",
       "        4.1563215 ,  1.9758307 , -0.9437562 , -0.2592725 ,  0.34935686,\n",
       "        1.8562875 , -3.3249645 ,  1.1221625 ,  1.2836524 ,  3.9211376 ,\n",
       "        3.8023994 ,  2.766269  ,  0.67293745,  2.2853644 , -5.1131716 ,\n",
       "        0.32525915, -3.3079958 ,  5.3043513 , -3.8813758 , -0.32960036,\n",
       "       -1.9527504 ,  3.8865075 , -3.5470378 , -0.21991685,  0.82119733,\n",
       "       -0.9492492 ,  3.5472107 ,  1.322048  , -0.70640826,  0.52253807,\n",
       "        1.4683235 , -1.1018689 ,  2.262941  , -0.7204685 , -1.766201  ,\n",
       "        5.2237577 ,  3.0748682 ,  1.0977576 ,  3.3191733 , -0.4100423 ,\n",
       "       -1.7022891 , -0.78379875,  0.82586575, -0.54520637,  1.2355382 ,\n",
       "        2.02674   , -0.652447  ,  1.0866054 ,  0.8977641 ,  0.7928342 ,\n",
       "        3.7770627 ,  3.0274863 ,  5.1660023 ,  2.6461644 ,  2.8926868 ,\n",
       "        1.970944  , -3.3746543 , -5.2656593 , -1.1041485 ,  2.357547  ,\n",
       "       -2.3570824 , -4.8172383 ,  3.7290223 ,  4.62329   ,  1.5004613 ],\n",
       "      dtype=float32)"
      ]
     },
     "execution_count": 104,
     "metadata": {},
     "output_type": "execute_result"
    }
   ],
   "source": [
    "vector = word_vec.wv['영화']\n",
    "vector"
   ]
  },
  {
   "cell_type": "code",
   "execution_count": 108,
   "id": "616f7ff7",
   "metadata": {
    "scrolled": true
   },
   "outputs": [
    {
     "data": {
      "text/plain": [
       "[('드라마', 0.8418774008750916),\n",
       " ('뮤지컬', 0.7775140404701233),\n",
       " ('코미디', 0.7489107251167297),\n",
       " ('다큐멘터리', 0.7401294708251953),\n",
       " ('헐리우드', 0.7397844195365906),\n",
       " ('애니메이션', 0.7170552015304565),\n",
       " ('독립영화', 0.7113528251647949),\n",
       " ('로맨틱', 0.7107657194137573),\n",
       " ('장편', 0.7101576924324036),\n",
       " ('극영화', 0.7045413255691528)]"
      ]
     },
     "execution_count": 108,
     "metadata": {},
     "output_type": "execute_result"
    }
   ],
   "source": [
    "vector = word_vec.wv.most_similar(positive = ['영화'])\n",
    "vector"
   ]
  },
  {
   "cell_type": "code",
   "execution_count": 110,
   "id": "66f84cd8",
   "metadata": {},
   "outputs": [
    {
     "data": {
      "text/plain": [
       "100"
      ]
     },
     "execution_count": 110,
     "metadata": {},
     "output_type": "execute_result"
    }
   ],
   "source": [
    "word_vec.vector_size"
   ]
  },
  {
   "cell_type": "code",
   "execution_count": 113,
   "id": "a1d95565",
   "metadata": {},
   "outputs": [
    {
     "data": {
      "text/plain": [
       "302961"
      ]
     },
     "execution_count": 113,
     "metadata": {},
     "output_type": "execute_result"
    }
   ],
   "source": [
    "len(word_vec.wv.key_to_index) + 1  # 어휘 사전 크기"
   ]
  },
  {
   "cell_type": "markdown",
   "id": "d58ed50c",
   "metadata": {},
   "source": [
    "### 모델 구성 및 학습"
   ]
  },
  {
   "cell_type": "code",
   "execution_count": 126,
   "id": "17251336",
   "metadata": {},
   "outputs": [],
   "source": [
    "vocab_size = 10000    # 어휘 사전의 크기입니다(10,000개의 단어)\n",
    "word_vector_dim = word_vec.vector_size  # 워드 벡터의 차원수\n",
    "embedding_matrix = np.random.rand(vocab_size, word_vector_dim)\n",
    "\n",
    "index_to_word_size = len(index_to_word)\n",
    "\n",
    "for i in range(4,vocab_size):\n",
    "    if index_to_word[i] in word_vecs:\n",
    "        embedding_matrix[i] = word_vecs[index_to_word[i]]"
   ]
  },
  {
   "cell_type": "code",
   "execution_count": 141,
   "id": "33a27d82",
   "metadata": {},
   "outputs": [
    {
     "name": "stdout",
     "output_type": "stream",
     "text": [
      "Model: \"sequential_13\"\n",
      "_________________________________________________________________\n",
      "Layer (type)                 Output Shape              Param #   \n",
      "=================================================================\n",
      "embedding_13 (Embedding)     (None, 54, 100)           1000000   \n",
      "_________________________________________________________________\n",
      "lstm_6 (LSTM)                (None, 64)                42240     \n",
      "_________________________________________________________________\n",
      "dense_23 (Dense)             (None, 32)                2080      \n",
      "_________________________________________________________________\n",
      "dense_24 (Dense)             (None, 32)                1056      \n",
      "_________________________________________________________________\n",
      "dense_25 (Dense)             (None, 1)                 33        \n",
      "=================================================================\n",
      "Total params: 1,045,409\n",
      "Trainable params: 1,045,409\n",
      "Non-trainable params: 0\n",
      "_________________________________________________________________\n"
     ]
    }
   ],
   "source": [
    "from tensorflow.keras.initializers import Constant\n",
    "\n",
    "\n",
    "# 모델 구성\n",
    "model = tf.keras.Sequential()\n",
    "model.add(tf.keras.layers.Embedding(vocab_size, \n",
    "                                 word_vector_dim, \n",
    "                                 embeddings_initializer=Constant(embedding_matrix),  # 카피한 임베딩을 여기서 활용\n",
    "                                 input_length=maxlen, \n",
    "                                 trainable=True))   # trainable을 True로 주면 Fine-tuning\n",
    "model.add(tf.keras.layers.LSTM(64))   # 가장 널리 쓰이는 RNN인 \n",
    "model.add(tf.keras.layers.Dense(32, activation='relu'))\n",
    "model.add(tf.keras.layers.Dense(32, activation='relu'))\n",
    "model.add(tf.keras.layers.Dense(1, activation='sigmoid')) \n",
    "\n",
    "\n",
    "\n",
    "model.summary()"
   ]
  },
  {
   "cell_type": "code",
   "execution_count": 142,
   "id": "4fde61b7",
   "metadata": {},
   "outputs": [
    {
     "name": "stdout",
     "output_type": "stream",
     "text": [
      "Epoch 1/7\n",
      "196/196 [==============================] - 4s 11ms/step - loss: 0.5041 - accuracy: 0.7500 - val_loss: 0.4131 - val_accuracy: 0.8115\n",
      "Epoch 2/7\n",
      "196/196 [==============================] - 2s 9ms/step - loss: 0.3759 - accuracy: 0.8321 - val_loss: 0.3574 - val_accuracy: 0.8413\n",
      "Epoch 3/7\n",
      "196/196 [==============================] - 2s 9ms/step - loss: 0.3271 - accuracy: 0.8574 - val_loss: 0.3459 - val_accuracy: 0.8469\n",
      "Epoch 4/7\n",
      "196/196 [==============================] - 2s 9ms/step - loss: 0.2944 - accuracy: 0.8754 - val_loss: 0.3340 - val_accuracy: 0.8534\n",
      "Epoch 5/7\n",
      "196/196 [==============================] - 2s 9ms/step - loss: 0.2698 - accuracy: 0.8881 - val_loss: 0.3436 - val_accuracy: 0.8527\n",
      "Epoch 6/7\n",
      "196/196 [==============================] - 2s 9ms/step - loss: 0.2501 - accuracy: 0.8967 - val_loss: 0.3439 - val_accuracy: 0.8531\n",
      "Epoch 7/7\n",
      "196/196 [==============================] - 2s 9ms/step - loss: 0.2320 - accuracy: 0.9058 - val_loss: 0.3374 - val_accuracy: 0.8577\n"
     ]
    }
   ],
   "source": [
    "# 학습의 진행\n",
    "model.compile(optimizer='adam',\n",
    "              loss='binary_crossentropy',\n",
    "              metrics=['accuracy'])\n",
    "              \n",
    "epochs=7  # 몇 epoch를 훈련하면 좋을지 결과를 보면서 바꾸어 봅시다. \n",
    "\n",
    "history = model.fit(partial_x_train,\n",
    "                    partial_y_train,\n",
    "                    epochs=epochs,\n",
    "                    batch_size=512,\n",
    "                    validation_data=(x_val, y_val),\n",
    "                    verbose=1)"
   ]
  },
  {
   "cell_type": "code",
   "execution_count": 143,
   "id": "5785a2c9",
   "metadata": {},
   "outputs": [
    {
     "name": "stdout",
     "output_type": "stream",
     "text": [
      "1563/1563 - 3s - loss: 0.3466 - accuracy: 0.8527\n",
      "[0.34661900997161865, 0.8526711463928223]\n"
     ]
    }
   ],
   "source": [
    "# 테스트셋을 통한 모델 평가\n",
    "results = model.evaluate(x_test,  y_test, verbose=2)\n",
    "\n",
    "print(results)"
   ]
  },
  {
   "cell_type": "code",
   "execution_count": null,
   "id": "558d69db",
   "metadata": {},
   "outputs": [],
   "source": []
  }
 ],
 "metadata": {
  "kernelspec": {
   "display_name": "Python 3 (ipykernel)",
   "language": "python",
   "name": "python3"
  },
  "language_info": {
   "codemirror_mode": {
    "name": "ipython",
    "version": 3
   },
   "file_extension": ".py",
   "mimetype": "text/x-python",
   "name": "python",
   "nbconvert_exporter": "python",
   "pygments_lexer": "ipython3",
   "version": "3.9.7"
  }
 },
 "nbformat": 4,
 "nbformat_minor": 5
}
